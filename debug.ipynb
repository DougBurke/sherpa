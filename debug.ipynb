{
 "cells": [
  {
   "cell_type": "markdown",
   "metadata": {},
   "source": [
    "## Issue 838"
   ]
  },
  {
   "cell_type": "code",
   "execution_count": 2,
   "metadata": {},
   "outputs": [
    {
     "name": "stdout",
     "output_type": "stream",
     "text": [
      "Dataset               = 1\n",
      "Method                = levmar\n",
      "Statistic             = cstat\n",
      "Initial fit statistic = 103.301\n",
      "Final fit statistic   = 4.85918 at function evaluation 16\n",
      "Data points           = 10\n",
      "Degrees of freedom    = 8\n",
      "Probability [Q-value] = 0.772516\n",
      "Reduced statistic     = 0.607397\n",
      "Change in statistic   = 98.4417\n",
      "   bkg.c0         2.44444      +/- 0.524461    \n",
      "   line.ampl      -15          +/- 0           \n",
      "WARNING: The displayed errorbars have been supplied with the data or calculated using chi2xspecvar; the errors are not used in fits with cstat\n"
     ]
    },
    {
     "data": {
      "image/png": "[encoded data removed]",
      "text/plain": [
       "<Figure size 640x480 with 1 Axes>"
      ]
     },
     "metadata": {},
     "output_type": "display_data"
    }
   ],
   "source": [
    "from sherpa.astro import ui\n",
    "import numpy as np\n",
    "\n",
    "ui.load_arrays(1, np.arange(10), np.array([2,3,2,3,1,0,1,3,5,2]), ui.Data1D)\n",
    "ui.set_stat('cstat')\n",
    "bkg = ui.const1d(name='bkg')\n",
    "bkg.c0 = 0.1\n",
    "line = ui.delta1d(name='line')\n",
    "line.pos = 5.\n",
    "line.pos.frozen = True\n",
    "line.ampl = -15.\n",
    "ui.set_source(bkg + line)\n",
    "\n",
    "\n",
    "#ui.set_method('simplex')\n",
    "ui.fit()\n",
    "\n",
    "ui.plot_fit()"
   ]
  },
  {
   "cell_type": "code",
   "execution_count": 3,
   "metadata": {},
   "outputs": [
    {
     "ename": "ModuleNotFoundError",
     "evalue": "No module named 'perfplot'",
     "output_type": "error",
     "traceback": [
      "\u001b[31m---------------------------------------------------------------------------\u001b[39m",
      "\u001b[31mModuleNotFoundError\u001b[39m                       Traceback (most recent call last)",
      "\u001b[36mCell\u001b[39m\u001b[36m \u001b[39m\u001b[32mIn[3]\u001b[39m\u001b[32m, line 2\u001b[39m\n\u001b[32m      1\u001b[39m \u001b[38;5;28;01mimport\u001b[39;00m\u001b[38;5;250m \u001b[39m\u001b[34;01mnumpy\u001b[39;00m\u001b[38;5;250m \u001b[39m\u001b[38;5;28;01mas\u001b[39;00m\u001b[38;5;250m \u001b[39m\u001b[34;01mnp\u001b[39;00m\n\u001b[32m----> \u001b[39m\u001b[32m2\u001b[39m \u001b[38;5;28;01mimport\u001b[39;00m\u001b[38;5;250m \u001b[39m\u001b[34;01mperfplot\u001b[39;00m\n\u001b[32m      3\u001b[39m \u001b[38;5;28;01mfrom\u001b[39;00m\u001b[38;5;250m \u001b[39m\u001b[34;01msherpa\u001b[39;00m\u001b[38;5;250m \u001b[39m\u001b[38;5;28;01mimport\u001b[39;00m stats\n\u001b[32m      5\u001b[39m \u001b[38;5;28;01mdef\u001b[39;00m\u001b[38;5;250m \u001b[39m\u001b[34msetup_model\u001b[39m(n):\n",
      "\u001b[31mModuleNotFoundError\u001b[39m: No module named 'perfplot'"
     ]
    }
   ],
   "source": [
    "import numpy as np\n",
    "import perfplot\n",
    "from sherpa import stats\n",
    "\n",
    "def setup_model(n):\n",
    "    model = np.random.uniform(0.2, 10, n)\n",
    "    data = np.random.poisson(np.maximum(model, 0))\n",
    "    return (data, model)\n",
    "\n",
    "cstat = stats.CStat()\n",
    "cstatnumpy = stats.CStatNumpy()\n",
    "cstatpenalty = stats.CStatNegativePenalty()\n",
    "\n",
    "perfplot.show(\n",
    "    setup=setup_model,\n",
    "    kernels=[\n",
    "        lambda data, model: cstat._calc(data, model, None, stats.truncation_value),\n",
    "        lambda data, model: cstatnumpy._calc(data, model, None, stats.truncation_value),\n",
    "        lambda data, model: cstatpenalty._calc(data, model, None, stats.truncation_value),\n",
    "    ],\n",
    "    labels=[\"C\", \"Numpy\", \"NumpyPenalty\"],\n",
    "    n_range=[2**k for k in range(1, 18)],  # 23\n",
    "    xlabel=\"len(a)\",\n",
    "    # More optional arguments with their default values:\n",
    "    # logx=\"auto\",  # set to True or False to force scaling\n",
    "    # logy=\"auto\",\n",
    "    # equality_check=np.allclose,  # set to None to disable \"correctness\" assertion\n",
    "    # show_progress=True,\n",
    "    # target_time_per_measurement=1.0,\n",
    "    # max_time=None,  # maximum time per measurement\n",
    "    # time_unit=\"s\",  # set to one of (\"auto\", \"s\", \"ms\", \"us\", or \"ns\") to force plot units\n",
    "    # relative_to=1,  # plot the timings relative to one of the measurements\n",
    "    # flops=lambda n: 3*n,  # FLOPS plots\n",
    ")"
   ]
  },
  {
   "cell_type": "code",
   "execution_count": null,
   "metadata": {},
   "outputs": [],
   "source": [
    "# Rewrite in OO\n",
    "import numpy as np\n",
    "from sherpa import data,models, fit, optmethods, stats\n",
    "\n",
    "\n",
    "data = data.Data1D('data', np.arange(10), np.array([2,3,2,3,0,1,1,3,5,2]))\n",
    "\n",
    "bkg = models.Const1D('bkg')\n",
    "line = models.Delta1D('line')\n",
    "line.pos = 5.\n",
    "line.pos.frozen = True\n",
    "source = bkg + line\n"
   ]
  },
  {
   "cell_type": "code",
   "execution_count": null,
   "metadata": {},
   "outputs": [
    {
     "ename": "AttributeError",
     "evalue": "module 'sherpa.stats' has no attribute 'CStatNegativePenalty'",
     "output_type": "error",
     "traceback": [
      "\u001b[0;31m---------------------------------------------------------------------------\u001b[0m",
      "\u001b[0;31mAttributeError\u001b[0m                            Traceback (most recent call last)",
      "Cell \u001b[0;32mIn[107], line 2\u001b[0m\n\u001b[1;32m      1\u001b[0m cstat \u001b[38;5;241m=\u001b[39m stats\u001b[38;5;241m.\u001b[39mCStat()\n\u001b[0;32m----> 2\u001b[0m cstatpenalty \u001b[38;5;241m=\u001b[39m \u001b[43mstats\u001b[49m\u001b[38;5;241;43m.\u001b[39;49m\u001b[43mCStatNegativePenalty\u001b[49m(name\u001b[38;5;241m=\u001b[39m\u001b[38;5;124m'\u001b[39m\u001b[38;5;124mcstatpenalty\u001b[39m\u001b[38;5;124m'\u001b[39m)\n\u001b[1;32m      4\u001b[0m amplgrid, c0grid \u001b[38;5;241m=\u001b[39m np\u001b[38;5;241m.\u001b[39mmgrid[\u001b[38;5;241m-\u001b[39m\u001b[38;5;241m5\u001b[39m: \u001b[38;5;241m4\u001b[39m: \u001b[38;5;241m.1\u001b[39m, \u001b[38;5;241m-\u001b[39m\u001b[38;5;241m3\u001b[39m: \u001b[38;5;241m7\u001b[39m: \u001b[38;5;241m.1\u001b[39m]\n\u001b[1;32m      5\u001b[0m statgrid \u001b[38;5;241m=\u001b[39m np\u001b[38;5;241m.\u001b[39mzeros(c0grid\u001b[38;5;241m.\u001b[39mshape)\n",
      "\u001b[0;31mAttributeError\u001b[0m: module 'sherpa.stats' has no attribute 'CStatNegativePenalty'"
     ]
    }
   ],
   "source": [
    "cstat = stats.CStat()\n",
    "cstatpenalty = stats.CStatNegativePenalty(name='cstatpenalty')\n",
    "\n",
    "amplgrid, c0grid = np.mgrid[-5: 4: .1, -3: 7: .1]\n",
    "statgrid = np.zeros(c0grid.shape)\n",
    "penaltygrid = np.zeros(c0grid.shape)\n",
    "it = np.nditer(c0grid, flags=['multi_index'])\n",
    "for x in it:\n",
    "        bkg.c0 = c0grid[it.multi_index]\n",
    "        line.ampl = amplgrid[it.multi_index]\n",
    "        statgrid[it.multi_index] = cstat.calc_stat(data, source)[0]\n",
    "        penaltygrid[it.multi_index] = cstatpenalty.calc_stat(data, source)[0]"
   ]
  },
  {
   "cell_type": "code",
   "execution_count": null,
   "metadata": {},
   "outputs": [
    {
     "data": {
      "image/png": "[encoded data removed]",
      "text/plain": [
       "<Figure size 1000x600 with 4 Axes>"
      ]
     },
     "metadata": {},
     "output_type": "display_data"
    }
   ],
   "source": [
    "import numpy as np\n",
    "import matplotlib.pyplot as plt\n",
    "from astropy.visualization import simple_norm\n",
    "\n",
    "# Create an ImageNormalize object\n",
    "norm = simple_norm(statgrid, 'log')\n",
    "norm2 = simple_norm(penaltygrid - statgrid, 'log')\n",
    "\n",
    "\n",
    "# Display the image\n",
    "fig, axes = plt.subplots(ncols=2, figsize=(10, 6))\n",
    "\n",
    "im = axes[0].imshow(statgrid, origin='lower', norm=norm, \n",
    "               extent=[c0grid.min(), c0grid.max(), amplgrid.min(), amplgrid.max()])\n",
    "\n",
    "im2 = axes[1].imshow(penaltygrid - statgrid, origin='lower', norm=norm2, \n",
    "               extent=[c0grid.min(), c0grid.max(), amplgrid.min(), amplgrid.max()])\n",
    "\n",
    "fig.colorbar(im, ax=axes[0])\n",
    "fig.colorbar(im2, ax=axes[1])\n",
    "\n",
    "for ax in axes:\n",
    "    ax.set_xlabel('c0')\n",
    "    ax.set_ylabel('ampl')\n",
    "\n",
    "axes[0].set_title('CStat')\n",
    "axes[1].set_title('Penalty')\n",
    "plt.tight_layout()\n"
   ]
  },
  {
   "cell_type": "code",
   "execution_count": null,
   "metadata": {},
   "outputs": [],
   "source": [
    "def test_cstatpenalty(c0, ampl, opt=optmethods.NelderMead()):\n",
    "    bkg.c0 = c0\n",
    "    line.ampl = ampl\n",
    "    fitter = fit.Fit(data=data, model=source, stat=cstat, method=opt)\n",
    "    res = fitter.fit(record_steps=True)\n",
    "    \n",
    "    bkg.c0 = c0\n",
    "    line.ampl = ampl\n",
    "    fitter = fit.Fit(data=data, model=source, stat=cstatpenalty, method=opt)\n",
    "    resp = fitter.fit(record_steps=True)\n",
    "    \n",
    "    return res.extra_output['record_steps'], resp.extra_output['record_steps']"
   ]
  },
  {
   "cell_type": "code",
   "execution_count": null,
   "metadata": {},
   "outputs": [],
   "source": [
    "def plot_path(c0, ampl, opts = [optmethods.LevMar(), optmethods.NelderMead()]):\n",
    "\n",
    "    fig, axes = plt.subplots(ncols=len(opts), figsize=(10, 6),\n",
    "                             sharex=True, sharey=True)\n",
    "\n",
    "    for ax in axes:\n",
    "        ax.set_xlabel('ampl')\n",
    "        ax.set_ylabel('c0')\n",
    "        im = ax.imshow(statgrid, origin='lower', norm=norm, \n",
    "               extent=[c0grid.min(), c0grid.max(), amplgrid.min(), amplgrid.max()])\n",
    "\n",
    "    for ax, o in zip(axes, opts):\n",
    "        for p in test_cstatpenalty(c0=c0, ampl=ampl, opt=o):\n",
    "            ax.plot(p['bkg.c0'], p['line.ampl'])\n",
    "            ax.set_title(o.name)\n",
    "\n",
    "        ax.set_xlim(c0grid.min(), c0grid.max())\n",
    "        ax.set_ylim(amplgrid.min(), amplgrid.max())\n",
    "        ax.set_xlabel('c0')\n",
    "        ax.set_ylabel('ampl')"
   ]
  },
  {
   "cell_type": "code",
   "execution_count": null,
   "metadata": {},
   "outputs": [
    {
     "data": {
      "image/png": "[encoded data removed]",
      "text/plain": [
       "<Figure size 1000x600 with 2 Axes>"
      ]
     },
     "metadata": {},
     "output_type": "display_data"
    }
   ],
   "source": [
    "plot_path(ampl=3.4,c0=5.)"
   ]
  },
  {
   "cell_type": "code",
   "execution_count": null,
   "metadata": {},
   "outputs": [
    {
     "data": {
      "image/png": "[encoded data removed]",
      "text/plain": [
       "<Figure size 1000x600 with 2 Axes>"
      ]
     },
     "metadata": {},
     "output_type": "display_data"
    }
   ],
   "source": [
    "plot_path(ampl=-2,c0=-1)"
   ]
  },
  {
   "cell_type": "code",
   "execution_count": null,
   "metadata": {},
   "outputs": [
    {
     "data": {
      "image/png": "[encoded data removed]",
      "text/plain": [
       "<Figure size 1000x600 with 2 Axes>"
      ]
     },
     "metadata": {},
     "output_type": "display_data"
    }
   ],
   "source": [
    "plot_path(c0=1, ampl=-4)"
   ]
  },
  {
   "cell_type": "code",
   "execution_count": null,
   "metadata": {},
   "outputs": [
    {
     "data": {
      "image/png": "[encoded data removed]",
      "text/plain": [
       "<Figure size 1000x600 with 2 Axes>"
      ]
     },
     "metadata": {},
     "output_type": "display_data"
    }
   ],
   "source": [
    "plot_path(c0=-1, ampl=-3)"
   ]
  },
  {
   "cell_type": "code",
   "execution_count": null,
   "metadata": {},
   "outputs": [
    {
     "data": {
      "text/plain": [
       "(-15.0, 5.0)"
      ]
     },
     "execution_count": 10,
     "metadata": {},
     "output_type": "execute_result"
    },
    {
     "data": {
      "image/png": "[encoded data removed]",
      "text/plain": [
       "<Figure size 1000x600 with 2 Axes>"
      ]
     },
     "metadata": {},
     "output_type": "display_data"
    }
   ],
   "source": [
    "amplgrid, c0grid = np.mgrid[-25: 25: 1, -25: 25: 1]\n",
    "statgrid = np.zeros(c0grid.shape)\n",
    "penaltygrid = np.zeros(c0grid.shape)\n",
    "it = np.nditer(c0grid, flags=['multi_index'])\n",
    "for x in it:\n",
    "        bkg.c0 = c0grid[it.multi_index]\n",
    "        line.ampl = amplgrid[it.multi_index]\n",
    "        statgrid[it.multi_index] = cstat.calc_stat(data, source)[0]\n",
    "        penaltygrid[it.multi_index] = cstatpenalty.calc_stat(data, source)[0]\n",
    "\n",
    "plot_path(c0=-20, ampl=-10)\n",
    "fig = plt.gcf()\n",
    "fig.axes[0].set_xlim(-25, 15)\n",
    "fig.axes[0].set_ylim(-15, 5)"
   ]
  },
  {
   "cell_type": "code",
   "execution_count": null,
   "metadata": {},
   "outputs": [
    {
     "ename": "AttributeError",
     "evalue": "module 'scipy.optimize' has no attribute 'asfeasdf'",
     "output_type": "error",
     "traceback": [
      "\u001b[0;31m---------------------------------------------------------------------------\u001b[0m",
      "\u001b[0;31mAttributeError\u001b[0m                            Traceback (most recent call last)",
      "Cell \u001b[0;32mIn[311], line 1\u001b[0m\n\u001b[0;32m----> 1\u001b[0m \u001b[43moptimize\u001b[49m\u001b[38;5;241;43m.\u001b[39;49m\u001b[43masfeasdf\u001b[49m\n",
      "\u001b[0;31mAttributeError\u001b[0m: module 'scipy.optimize' has no attribute 'asfeasdf'"
     ]
    }
   ],
   "source": [
    "dd"
   ]
  },
  {
   "cell_type": "code",
   "execution_count": null,
   "metadata": {},
   "outputs": [],
   "source": [
    "import numpy as np\n",
    "from scipy.optimize import minimize\n",
    "from sherpa import optmethods\n",
    "from sherpa.utils.types import OptReturn, StatFunc\n",
    "from sherpa.models.parameter import tinyval, hugeval\n",
    "\n",
    "def scipy_minimize(fcn: StatFunc,\n",
    "         x0: np.ndarray,\n",
    "         xmin: np.ndarray,\n",
    "         xmax: np.ndarray,\n",
    "         method: None | str = None,\n",
    "         tol: None | float = None,\n",
    "         options: None | dict = None,\n",
    "         ) -> OptReturn:\n",
    "    \n",
    "    if np.allclose(xmin, -hugeval) and np.allclose(xmax, hugeval):\n",
    "        bounds = None\n",
    "    else:\n",
    "        bounds = [(None if pmin == -hugeval else pmin, \n",
    "                   None if pmax == hugeval else pmax) \n",
    "                  for pmin, pmax in zip(xmin, xmax)]\n",
    "\n",
    "    result = minimize(fun = lambda x: fcn(x)[0], \n",
    "                      x0=x0,\n",
    "                      # args=(), \n",
    "                      method=method, \n",
    "                      # jac=None, hess=None, hessp=None,\n",
    "                      bounds=bounds,\n",
    "                      # constraints=(), \n",
    "                      tol=tol,\n",
    "                      #callback=None, \n",
    "                      options=options)\n",
    "    result['input_bounds'] = bounds\n",
    "    return (result.success, result.x, result.fun, result.message, result)\n",
    "\n",
    "class Scipy(optmethods.OptMethod):\n",
    "    def __init__(self, name: str = 'scipy') -> None:\n",
    "        super().__init__(name=name, optfunc=scipy_minimize)\n",
    "\n",
    "\n"
   ]
  },
  {
   "cell_type": "code",
   "execution_count": null,
   "metadata": {},
   "outputs": [],
   "source": [
    "import inspect\n",
    "import functools\n",
    "from collections.abc import Callable\n",
    "from typing import Any\n",
    "from textwrap import dedent\n",
    "\n",
    "from scipy import optimize\n",
    "\n",
    "import re\n",
    "\n",
    "__all__ = []\n",
    "\n",
    "# numpydoc.docscrape.NumpyDocString offers an easier interface, but\n",
    "# we can extract this simple information without that dependency.\n",
    "re_next_param_line = re.compile('^    [a-z]')\n",
    "re_sphinx_ref = [re.compile(\":[\\w-]+:`[ \\w<>()-.]+`\"),\n",
    " re.compile(\".. versionadded:: [\\d.]+\"), \n",
    " re.compile(\".. versionchanged:: [\\d.]+\"),\n",
    " re.compile(\".. deprecated:: [\\d.]+\"),               \n",
    "]\n",
    "\n",
    "def extract_parameter_text_from_docstring(doc, par, cleanup=True):\n",
    "    out = []\n",
    "    good = False\n",
    "    for l in doc.split('\\n'):\n",
    "        if good and re_next_param_line.match(l):\n",
    "            break\n",
    "        if l.startswith(f'    {par}'):\n",
    "            good = True\n",
    "        if good:\n",
    "            if cleanup:\n",
    "                out.append(re_sphinx_ref.sub(\"\", l))\n",
    "            else:\n",
    "                out.append(l)\n",
    "    out = dedent('\\n'.join(out))\n",
    "    return out\n",
    "\n",
    "def convert_bounds_to_scipy(xmin, xmax):\n",
    "    if np.allclose(xmin, -hugeval) and np.allclose(xmax, hugeval):\n",
    "        return None\n",
    "    else:\n",
    "        return [(None if pmin == -hugeval else pmin, \n",
    "                 None if pmax == hugeval else pmax) \n",
    "                for pmin, pmax in zip(xmin, xmax)]\n",
    "\n",
    "def wrap_scipy_fcn(func: Callable) -> Callable:\n",
    "    \"\"\"\n",
    "    Wrap a function to be used with scipy.optimize.minimize\n",
    "    \"\"\"\n",
    "    sig = inspect.signature(func)\n",
    "\n",
    "    @functools.wraps(func)\n",
    "    def fcn(fcn: StatFunc,\n",
    "         x0: np.ndarray,\n",
    "         xmin: np.ndarray,\n",
    "         xmax: np.ndarray,\n",
    "         **kwargs):\n",
    "\n",
    "        converted_args = {}\n",
    "        if 'x0' in sig.parameters.keys():\n",
    "            converted_args['x0'] = x0\n",
    "        if 'bounds' in sig.parameters.keys():\n",
    "            converted_args['bounds'] = convert_bounds_to_scipy(xmin, xmax)\n",
    "        if 'ranges' in sig.parameters.keys(): \n",
    "            # only in scipy.optimize.brute\n",
    "            ranges = convert_bounds_to_scipy(xmin, xmax)\n",
    "            if None in np.array(ranges):\n",
    "                raise ValueError(\"Parameter min and max values must be set\")\n",
    "            \n",
    "            converted_args['ranges'] = ranges\n",
    "\n",
    "        result = func(lambda x: fcn(x)[0], **converted_args, **kwargs)\n",
    "        for arg in ['bounds', 'ranges']:\n",
    "            if arg in converted_args:\n",
    "                result[f'input_{arg}'] = converted_args[arg]\n",
    "        return (result.success, result.x, result.fun, result.message, result)\n",
    "    return fcn\n",
    "\n",
    "SCIPY_KEYWORDS_NOT_APPLICABLE = ['fun', 'fund',\n",
    "                                 'args', 'x0', 'bounds', 'ranges',\n",
    "                                 'jac', 'hess', 'hessp',\n",
    "                                 'constraints']\n",
    "'''List of keywords NOT to expose when wrapping scipy optimization functions.\n",
    "\n",
    "This is a list of keywords in the signature of functions in scipy.optimize that we do not\n",
    "want to expose, either because the interface converts Sherpa input to them\n",
    "automatically, or because they are not applicable to the Sherpa interface.\n",
    "'''\n",
    "\n",
    "_DOCSTRING_TEMPLATE = \"\"\"Interface to scipy.optimize.{cls.scipy_func.__name__}\n",
    "\n",
    "This class wraps the scipy optimizer {cls.scipy_func.__name__} to match the calling\n",
    "signature and return values to the Sherpa interface.\n",
    "\n",
    "Some of the keywords in the signature of the scipy function are not\n",
    "applicable to the Sherpa interface or are prefilled by Sherpa.\n",
    "The following arguments are exposed as attributes of this class and \n",
    "can be changed. A short summary is below, but see the\n",
    "`scipy.optimize.{cls.scipy_func.__name__}` documentation for details.\n",
    "\n",
    "(The following text extracted from the docstring of the scipy function to ensure that it\n",
    "matches the current scipy version, but it may contain unresolved references\n",
    "and other formatting issues.)\n",
    "\n",
    "Attributes\n",
    "----------\n",
    "\"\"\"\n",
    "\n",
    "class ScipyBase(optmethods.OptMethod):\n",
    "    \"\"\"Base class for wrapping scipy optimization functions.\n",
    "    This class wraps that function to match the calling signature and\n",
    "    return values to the Sherpa interface.\n",
    "    \"\"\"\n",
    "\n",
    "    scipy_func: Callable\n",
    "    \"\"\"Optimization function in scipy\n",
    "    \n",
    "    This class wraps that function to match the calling signature and\n",
    "    return values to the Sherpa interface.\n",
    "    \"\"\"\n",
    "    def __init_subclass__(cls, /, **kwargs):\n",
    "        super().__init_subclass__(**kwargs)\n",
    "        cls.__doc__ = _DOCSTRING_TEMPLATE.format(cls=cls)\n",
    "        for p in cls._get_default_config(cls).keys():\n",
    "            cls.__doc__ += f\"{extract_parameter_text_from_docstring(cls.scipy_func.__doc__, p)}\\n\"\n",
    "\n",
    "    def __init__(self, name: str = 'scipy.minimize') -> None:\n",
    "        super().__init__(name=name, optfunc=wrap_scipy_fcn(self.scipy_func))\n",
    "\n",
    "    def _get_default_config(self) -> dict[str, Any]:\n",
    "        sig = inspect.signature(self.scipy_func)\n",
    "        return {p.name: p.default for p in sig.parameters.values()\n",
    "                if p.kind == p.POSITIONAL_OR_KEYWORD and\n",
    "                 p.name not in SCIPY_KEYWORDS_NOT_APPLICABLE}\n",
    "\n",
    "#class ScipyMinimize(ScipyBase):\n",
    "#    def __init__(self, name: str = 'scipy.minimize') -> None:\n",
    "#        super().__init__(name=name, optfunc=wrap_scipy_fcn(optimize.minimize))\n",
    "\n",
    "# for f in [optimize.minimize, optimize.differential_evolution,\n",
    "#          optimize.dual_annealing, optimize.basinhopping]:\n",
    "myscipy = type('ScipyMinimize', (ScipyBase,), {'scipy_func': optimize.minimize})"
   ]
  },
  {
   "cell_type": "code",
   "execution_count": null,
   "metadata": {},
   "outputs": [
    {
     "name": "stdout",
     "output_type": "stream",
     "text": [
      "Interface to scipy.optimize.minimize\n",
      "\n",
      "This class wraps the scipy optimizer to match the calling signature and\n",
      "return values to the Sherpa interface.\n",
      "\n",
      "Some of the keywords in the signature of the scipy function are not\n",
      "applicable to the Sherpa interface or are prefilled by Sherpa.\n",
      "The following arguments are exposed as attributes of this class and \n",
      "can be changed. A short summary is below, but see the\n",
      "`scipy.optimize.minimize` documentation for details.\n",
      "\n",
      "Attributes\n",
      "----------\n",
      "method : str or callable, optional\n",
      "    Type of solver.  Should be one of\n",
      "\n",
      "    - 'Nelder-Mead' \n",
      "    - 'Powell'      \n",
      "    - 'CG'          \n",
      "    - 'BFGS'        \n",
      "    - 'Newton-CG'   \n",
      "    - 'L-BFGS-B'    \n",
      "    - 'TNC'         \n",
      "    - 'COBYLA'      \n",
      "    - 'COBYQA'      \n",
      "    - 'SLSQP'       \n",
      "    - 'trust-constr'\n",
      "    - 'dogleg'      \n",
      "    - 'trust-ncg'   \n",
      "    - 'trust-exact' \n",
      "    - 'trust-krylov' \n",
      "    - custom - a callable object, see below for description.\n",
      "\n",
      "    If not given, chosen to be one of ``BFGS``, ``L-BFGS-B``, ``SLSQP``,\n",
      "    depending on whether or not the problem has constraints or bounds.\n",
      "tol : float, optional\n",
      "    Tolerance for termination. When `tol` is specified, the selected\n",
      "    minimization algorithm sets some relevant solver-specific tolerance(s)\n",
      "    equal to `tol`. For detailed control, use solver-specific\n",
      "    options.\n",
      "callback : callable, optional\n",
      "    A callable called after each iteration.\n",
      "\n",
      "    All methods except TNC, SLSQP, and COBYLA support a callable with\n",
      "    the signature::\n",
      "\n",
      "        callback(intermediate_result: OptimizeResult)\n",
      "\n",
      "    where ``intermediate_result`` is a keyword parameter containing an\n",
      "    `OptimizeResult` with attributes ``x`` and ``fun``, the present values\n",
      "    of the parameter vector and objective function. Note that the name\n",
      "    of the parameter must be ``intermediate_result`` for the callback\n",
      "    to be passed an `OptimizeResult`. These methods will also terminate if\n",
      "    the callback raises ``StopIteration``.\n",
      "\n",
      "    All methods except trust-constr (also) support a signature like::\n",
      "\n",
      "        callback(xk)\n",
      "\n",
      "    where ``xk`` is the current parameter vector.\n",
      "\n",
      "    Introspection is used to determine which of the signatures above to\n",
      "    invoke.\n",
      "\n",
      "Returns\n",
      "-------\n",
      "options : dict, optional\n",
      "    A dictionary of solver options. All methods except `TNC` accept the\n",
      "    following generic options:\n",
      "\n",
      "    maxiter : int\n",
      "        Maximum number of iterations to perform. Depending on the\n",
      "        method each iteration may use several function evaluations.\n",
      "\n",
      "        For `TNC` use `maxfun` instead of `maxiter`.\n",
      "    disp : bool\n",
      "        Set to True to print convergence messages.\n",
      "\n",
      "    For method-specific options, see .\n",
      "\n"
     ]
    }
   ],
   "source": [
    "print(myscipy.__doc__)"
   ]
  },
  {
   "cell_type": "code",
   "execution_count": null,
   "metadata": {},
   "outputs": [
    {
     "data": {
      "text/plain": [
       "'    x0 : ndarray, shape (n,)'"
      ]
     },
     "execution_count": 275,
     "metadata": {},
     "output_type": "execute_result"
    }
   ],
   "source": [
    "optimize.minimize.__doc__.split('\\n')[19]"
   ]
  },
  {
   "cell_type": "code",
   "execution_count": null,
   "metadata": {},
   "outputs": [],
   "source": [
    "re_next_param_line = re.compile('^    [a-z]')\n",
    "re_sphinx_ref = re.compile(\":ref:`[ \\w<>()-.]+`\")\n",
    "\n",
    "def extract_parameter_text_from_docstring(doc, par, cleanup=True):\n",
    "    out = []\n",
    "    good = False\n",
    "    for l in doc.split('\\n'):\n",
    "        if good and re_next_param_line.match(l):\n",
    "            break\n",
    "        if l.startswith(f'    {par}'):\n",
    "            good = True\n",
    "        if good:\n",
    "            if cleanup:\n",
    "                out.append(re_sphinx_ref.sub(\"\", l))\n",
    "            else:\n",
    "                out.append(l)\n",
    "    out = dedent('\\n'.join(out))\n",
    "    return out"
   ]
  },
  {
   "cell_type": "code",
   "execution_count": null,
   "metadata": {},
   "outputs": [
    {
     "name": "stdout",
     "output_type": "stream",
     "text": [
      "\n"
     ]
    }
   ],
   "source": [
    "out = extract_parameter_text_from_docstring(optimize.minimize.__doc__, 'methodss')\n",
    "print(out)"
   ]
  },
  {
   "cell_type": "code",
   "execution_count": null,
   "metadata": {},
   "outputs": [
    {
     "data": {
      "text/plain": [
       "\"    - 'Powell'      \""
      ]
     },
     "execution_count": 301,
     "metadata": {},
     "output_type": "execute_result"
    }
   ],
   "source": [
    "re_sphinx_ref.sub(\"\", \"    - 'Powell'      :ref:`(see here) <optimize.minimize-powell>`\")"
   ]
  },
  {
   "cell_type": "code",
   "execution_count": null,
   "metadata": {},
   "outputs": [
    {
     "ename": "ValueError",
     "evalue": "'    method' is not in list",
     "output_type": "error",
     "traceback": [
      "\u001b[0;31m---------------------------------------------------------------------------\u001b[0m",
      "\u001b[0;31mValueError\u001b[0m                                Traceback (most recent call last)",
      "Cell \u001b[0;32mIn[213], line 2\u001b[0m\n\u001b[1;32m      1\u001b[0m docs \u001b[38;5;241m=\u001b[39m optimize\u001b[38;5;241m.\u001b[39mminimize\u001b[38;5;241m.\u001b[39m\u001b[38;5;18m__doc__\u001b[39m\u001b[38;5;241m.\u001b[39msplit(\u001b[38;5;124m'\u001b[39m\u001b[38;5;130;01m\\n\u001b[39;00m\u001b[38;5;124m'\u001b[39m)\n\u001b[0;32m----> 2\u001b[0m start \u001b[38;5;241m=\u001b[39m \u001b[43mdocs\u001b[49m\u001b[38;5;241;43m.\u001b[39;49m\u001b[43mindex\u001b[49m\u001b[43m(\u001b[49m\u001b[38;5;124;43m'\u001b[39;49m\u001b[38;5;124;43m    method\u001b[39;49m\u001b[38;5;124;43m'\u001b[39;49m\u001b[43m)\u001b[49m\n",
      "\u001b[0;31mValueError\u001b[0m: '    method' is not in list"
     ]
    }
   ],
   "source": [
    "docs = optimize.minimize.__doc__.split('\\n')\n",
    "for line in docs:\n",
    "    if line.startswith('    method'):\n",
    "        print(line[4:])\n",
    "    else:\n",
    "        print(line)"
   ]
  },
  {
   "cell_type": "code",
   "execution_count": null,
   "metadata": {},
   "outputs": [
    {
     "ename": "ParameterErr",
     "evalue": "parameter gaussian.pos has a hard minimum of -3.40282e+38",
     "output_type": "error",
     "traceback": [
      "\u001b[0;31m---------------------------------------------------------------------------\u001b[0m",
      "\u001b[0;31mParameterErr\u001b[0m                              Traceback (most recent call last)",
      "Cell \u001b[0;32mIn[316], line 2\u001b[0m\n\u001b[1;32m      1\u001b[0m gaussian \u001b[38;5;241m=\u001b[39m models\u001b[38;5;241m.\u001b[39mGauss1D(\u001b[38;5;124m'\u001b[39m\u001b[38;5;124mgaussian\u001b[39m\u001b[38;5;124m'\u001b[39m)\n\u001b[0;32m----> 2\u001b[0m \u001b[43mgaussian\u001b[49m\u001b[38;5;241;43m.\u001b[39;49m\u001b[43mpos\u001b[49m\u001b[38;5;241;43m.\u001b[39;49m\u001b[43mmin\u001b[49m \u001b[38;5;241m=\u001b[39m \u001b[38;5;241m-\u001b[39mnp\u001b[38;5;241m.\u001b[39minf\n",
      "File \u001b[0;32m~/code/sherpa/sherpa/utils/__init__.py:143\u001b[0m, in \u001b[0;36mNoNewAttributesAfterInit.__setattr__\u001b[0;34m(self, name, val)\u001b[0m\n\u001b[1;32m    139\u001b[0m     \u001b[38;5;28;01mif\u001b[39;00m \u001b[38;5;129;01mnot\u001b[39;00m cname \u001b[38;5;129;01mand\u001b[39;00m cval:\n\u001b[1;32m    140\u001b[0m         \u001b[38;5;28;01mraise\u001b[39;00m \u001b[38;5;167;01mAttributeError\u001b[39;00m(\u001b[38;5;124mf\u001b[39m\u001b[38;5;124m\"\u001b[39m\u001b[38;5;124m'\u001b[39m\u001b[38;5;132;01m{\u001b[39;00m\u001b[38;5;28mtype\u001b[39m(\u001b[38;5;28mself\u001b[39m)\u001b[38;5;241m.\u001b[39m\u001b[38;5;18m__name__\u001b[39m\u001b[38;5;132;01m}\u001b[39;00m\u001b[38;5;124m'\u001b[39m\u001b[38;5;124m object attribute \u001b[39m\u001b[38;5;124m'\u001b[39m\u001b[38;5;132;01m{\u001b[39;00mname\u001b[38;5;132;01m}\u001b[39;00m\u001b[38;5;124m'\u001b[39m\u001b[38;5;124m \u001b[39m\u001b[38;5;124m\"\u001b[39m\n\u001b[1;32m    141\u001b[0m                              \u001b[38;5;124m\"\u001b[39m\u001b[38;5;124mcannot be replaced with a callable attribute\u001b[39m\u001b[38;5;124m\"\u001b[39m)\n\u001b[0;32m--> 143\u001b[0m \u001b[38;5;28;43mobject\u001b[39;49m\u001b[38;5;241;43m.\u001b[39;49m\u001b[38;5;21;43m__setattr__\u001b[39;49m\u001b[43m(\u001b[49m\u001b[38;5;28;43mself\u001b[39;49m\u001b[43m,\u001b[49m\u001b[43m \u001b[49m\u001b[43mname\u001b[49m\u001b[43m,\u001b[49m\u001b[43m \u001b[49m\u001b[43mval\u001b[49m\u001b[43m)\u001b[49m\n",
      "File \u001b[0;32m~/code/sherpa/sherpa/models/parameter.py:245\u001b[0m, in \u001b[0;36m_make_set_limit.<locals>._set_limit\u001b[0;34m(self, val)\u001b[0m\n\u001b[1;32m    242\u001b[0m \u001b[38;5;66;03m# Ensure that we don't try to set any value that is outside\u001b[39;00m\n\u001b[1;32m    243\u001b[0m \u001b[38;5;66;03m# the hard parameter limits.\u001b[39;00m\n\u001b[1;32m    244\u001b[0m \u001b[38;5;28;01mif\u001b[39;00m val \u001b[38;5;241m<\u001b[39m \u001b[38;5;28mself\u001b[39m\u001b[38;5;241m.\u001b[39m_hard_min:\n\u001b[0;32m--> 245\u001b[0m     \u001b[38;5;28;01mraise\u001b[39;00m ParameterErr(\u001b[38;5;124m'\u001b[39m\u001b[38;5;124medge\u001b[39m\u001b[38;5;124m'\u001b[39m, \u001b[38;5;28mself\u001b[39m\u001b[38;5;241m.\u001b[39mfullname,\n\u001b[1;32m    246\u001b[0m                        \u001b[38;5;124m'\u001b[39m\u001b[38;5;124mhard minimum\u001b[39m\u001b[38;5;124m'\u001b[39m, \u001b[38;5;28mself\u001b[39m\u001b[38;5;241m.\u001b[39m_hard_min)\n\u001b[1;32m    247\u001b[0m \u001b[38;5;28;01mif\u001b[39;00m val \u001b[38;5;241m>\u001b[39m \u001b[38;5;28mself\u001b[39m\u001b[38;5;241m.\u001b[39m_hard_max:\n\u001b[1;32m    248\u001b[0m     \u001b[38;5;28;01mraise\u001b[39;00m ParameterErr(\u001b[38;5;124m'\u001b[39m\u001b[38;5;124medge\u001b[39m\u001b[38;5;124m'\u001b[39m, \u001b[38;5;28mself\u001b[39m\u001b[38;5;241m.\u001b[39mfullname,\n\u001b[1;32m    249\u001b[0m                        \u001b[38;5;124m'\u001b[39m\u001b[38;5;124mhard maximum\u001b[39m\u001b[38;5;124m'\u001b[39m, \u001b[38;5;28mself\u001b[39m\u001b[38;5;241m.\u001b[39m_hard_max)\n",
      "\u001b[0;31mParameterErr\u001b[0m: parameter gaussian.pos has a hard minimum of -3.40282e+38"
     ]
    }
   ],
   "source": [
    "gaussian = models.Gauss1D('gaussian')\n",
    "gaussian.pos.min = -np.inf"
   ]
  },
  {
   "cell_type": "code",
   "execution_count": null,
   "metadata": {},
   "outputs": [
    {
     "name": "stdout",
     "output_type": "stream",
     "text": [
      "Minimization of scalar function of one or more variables.\n",
      "\n",
      "    Parameters\n",
      "    ----------\n",
      "    fun : callable\n",
      "        The objective function to be minimized::\n",
      "\n",
      "            fun(x, *args) -> float\n",
      "\n",
      "        where ``x`` is a 1-D array with shape (n,) and ``args``\n",
      "        is a tuple of the fixed parameters needed to completely\n",
      "        specify the function.\n",
      "\n",
      "        Suppose the callable has signature ``f0(x, *my_args, **my_kwargs)``, where\n",
      "        ``my_args`` and ``my_kwargs`` are required positional and keyword arguments.\n",
      "        Rather than passing ``f0`` as the callable, wrap it to accept\n",
      "        only ``x``; e.g., pass ``fun=lambda x: f0(x, *my_args, **my_kwargs)`` as the\n",
      "        callable, where ``my_args`` (tuple) and ``my_kwargs`` (dict) have been\n",
      "        gathered before invoking this function.\n",
      "    x0 : ndarray, shape (n,)\n",
      "        Initial guess. Array of real elements of size (n,),\n",
      "        where ``n`` is the number of independent variables.\n",
      "    args : tuple, optional\n",
      "        Extra arguments passed to the objective function and its\n",
      "        derivatives (`fun`, `jac` and `hess` functions).\n",
      "    method : str or callable, optional\n",
      "        Type of solver.  Should be one of\n",
      "\n",
      "        - 'Nelder-Mead' :ref:`(see here) <optimize.minimize-neldermead>`\n",
      "        - 'Powell'      :ref:`(see here) <optimize.minimize-powell>`\n",
      "        - 'CG'          :ref:`(see here) <optimize.minimize-cg>`\n",
      "        - 'BFGS'        :ref:`(see here) <optimize.minimize-bfgs>`\n",
      "        - 'Newton-CG'   :ref:`(see here) <optimize.minimize-newtoncg>`\n",
      "        - 'L-BFGS-B'    :ref:`(see here) <optimize.minimize-lbfgsb>`\n",
      "        - 'TNC'         :ref:`(see here) <optimize.minimize-tnc>`\n",
      "        - 'COBYLA'      :ref:`(see here) <optimize.minimize-cobyla>`\n",
      "        - 'COBYQA'      :ref:`(see here) <optimize.minimize-cobyqa>`\n",
      "        - 'SLSQP'       :ref:`(see here) <optimize.minimize-slsqp>`\n",
      "        - 'trust-constr':ref:`(see here) <optimize.minimize-trustconstr>`\n",
      "        - 'dogleg'      :ref:`(see here) <optimize.minimize-dogleg>`\n",
      "        - 'trust-ncg'   :ref:`(see here) <optimize.minimize-trustncg>`\n",
      "        - 'trust-exact' :ref:`(see here) <optimize.minimize-trustexact>`\n",
      "        - 'trust-krylov' :ref:`(see here) <optimize.minimize-trustkrylov>`\n",
      "        - custom - a callable object, see below for description.\n",
      "\n",
      "        If not given, chosen to be one of ``BFGS``, ``L-BFGS-B``, ``SLSQP``,\n",
      "        depending on whether or not the problem has constraints or bounds.\n",
      "    jac : {callable,  '2-point', '3-point', 'cs', bool}, optional\n",
      "        Method for computing the gradient vector. Only for CG, BFGS,\n",
      "        Newton-CG, L-BFGS-B, TNC, SLSQP, dogleg, trust-ncg, trust-krylov,\n",
      "        trust-exact and trust-constr.\n",
      "        If it is a callable, it should be a function that returns the gradient\n",
      "        vector::\n",
      "\n",
      "            jac(x, *args) -> array_like, shape (n,)\n",
      "\n",
      "        where ``x`` is an array with shape (n,) and ``args`` is a tuple with\n",
      "        the fixed parameters. If `jac` is a Boolean and is True, `fun` is\n",
      "        assumed to return a tuple ``(f, g)`` containing the objective\n",
      "        function and the gradient.\n",
      "        Methods 'Newton-CG', 'trust-ncg', 'dogleg', 'trust-exact', and\n",
      "        'trust-krylov' require that either a callable be supplied, or that\n",
      "        `fun` return the objective and gradient.\n",
      "        If None or False, the gradient will be estimated using 2-point finite\n",
      "        difference estimation with an absolute step size.\n",
      "        Alternatively, the keywords  {'2-point', '3-point', 'cs'} can be used\n",
      "        to select a finite difference scheme for numerical estimation of the\n",
      "        gradient with a relative step size. These finite difference schemes\n",
      "        obey any specified `bounds`.\n",
      "    hess : {callable, '2-point', '3-point', 'cs', HessianUpdateStrategy}, optional\n",
      "        Method for computing the Hessian matrix. Only for Newton-CG, dogleg,\n",
      "        trust-ncg, trust-krylov, trust-exact and trust-constr.\n",
      "        If it is callable, it should return the Hessian matrix::\n",
      "\n",
      "            hess(x, *args) -> {LinearOperator, spmatrix, array}, (n, n)\n",
      "\n",
      "        where ``x`` is a (n,) ndarray and ``args`` is a tuple with the fixed\n",
      "        parameters.\n",
      "        The keywords {'2-point', '3-point', 'cs'} can also be used to select\n",
      "        a finite difference scheme for numerical estimation of the hessian.\n",
      "        Alternatively, objects implementing the `HessianUpdateStrategy`\n",
      "        interface can be used to approximate the Hessian. Available\n",
      "        quasi-Newton methods implementing this interface are:\n",
      "\n",
      "        - `BFGS`\n",
      "        - `SR1`\n",
      "\n",
      "        Not all of the options are available for each of the methods; for\n",
      "        availability refer to the notes.\n",
      "    hessp : callable, optional\n",
      "        Hessian of objective function times an arbitrary vector p. Only for\n",
      "        Newton-CG, trust-ncg, trust-krylov, trust-constr.\n",
      "        Only one of `hessp` or `hess` needs to be given. If `hess` is\n",
      "        provided, then `hessp` will be ignored. `hessp` must compute the\n",
      "        Hessian times an arbitrary vector::\n",
      "\n",
      "            hessp(x, p, *args) ->  ndarray shape (n,)\n",
      "\n",
      "        where ``x`` is a (n,) ndarray, ``p`` is an arbitrary vector with\n",
      "        dimension (n,) and ``args`` is a tuple with the fixed\n",
      "        parameters.\n",
      "    bounds : sequence or `Bounds`, optional\n",
      "        Bounds on variables for Nelder-Mead, L-BFGS-B, TNC, SLSQP, Powell,\n",
      "        trust-constr, COBYLA, and COBYQA methods. There are two ways to specify\n",
      "        the bounds:\n",
      "\n",
      "        1. Instance of `Bounds` class.\n",
      "        2. Sequence of ``(min, max)`` pairs for each element in `x`. None\n",
      "           is used to specify no bound.\n",
      "\n",
      "    constraints : {Constraint, dict} or List of {Constraint, dict}, optional\n",
      "        Constraints definition. Only for COBYLA, COBYQA, SLSQP and trust-constr.\n",
      "\n",
      "        Constraints for 'trust-constr' and 'cobyqa' are defined as a single object\n",
      "        or a list of objects specifying constraints to the optimization problem.\n",
      "        Available constraints are:\n",
      "\n",
      "        - `LinearConstraint`\n",
      "        - `NonlinearConstraint`\n",
      "\n",
      "        Constraints for COBYLA, SLSQP are defined as a list of dictionaries.\n",
      "        Each dictionary with fields:\n",
      "\n",
      "        type : str\n",
      "            Constraint type: 'eq' for equality, 'ineq' for inequality.\n",
      "        fun : callable\n",
      "            The function defining the constraint.\n",
      "        jac : callable, optional\n",
      "            The Jacobian of `fun` (only for SLSQP).\n",
      "        args : sequence, optional\n",
      "            Extra arguments to be passed to the function and Jacobian.\n",
      "\n",
      "        Equality constraint means that the constraint function result is to\n",
      "        be zero whereas inequality means that it is to be non-negative.\n",
      "        Note that COBYLA only supports inequality constraints.\n",
      "\n",
      "    tol : float, optional\n",
      "        Tolerance for termination. When `tol` is specified, the selected\n",
      "        minimization algorithm sets some relevant solver-specific tolerance(s)\n",
      "        equal to `tol`. For detailed control, use solver-specific\n",
      "        options.\n",
      "    options : dict, optional\n",
      "        A dictionary of solver options. All methods except `TNC` accept the\n",
      "        following generic options:\n",
      "\n",
      "        maxiter : int\n",
      "            Maximum number of iterations to perform. Depending on the\n",
      "            method each iteration may use several function evaluations.\n",
      "\n",
      "            For `TNC` use `maxfun` instead of `maxiter`.\n",
      "        disp : bool\n",
      "            Set to True to print convergence messages.\n",
      "\n",
      "        For method-specific options, see :func:`show_options()`.\n",
      "    callback : callable, optional\n",
      "        A callable called after each iteration.\n",
      "\n",
      "        All methods except TNC, SLSQP, and COBYLA support a callable with\n",
      "        the signature::\n",
      "\n",
      "            callback(intermediate_result: OptimizeResult)\n",
      "\n",
      "        where ``intermediate_result`` is a keyword parameter containing an\n",
      "        `OptimizeResult` with attributes ``x`` and ``fun``, the present values\n",
      "        of the parameter vector and objective function. Note that the name\n",
      "        of the parameter must be ``intermediate_result`` for the callback\n",
      "        to be passed an `OptimizeResult`. These methods will also terminate if\n",
      "        the callback raises ``StopIteration``.\n",
      "\n",
      "        All methods except trust-constr (also) support a signature like::\n",
      "\n",
      "            callback(xk)\n",
      "\n",
      "        where ``xk`` is the current parameter vector.\n",
      "\n",
      "        Introspection is used to determine which of the signatures above to\n",
      "        invoke.\n",
      "\n",
      "    Returns\n",
      "    -------\n",
      "    res : OptimizeResult\n",
      "        The optimization result represented as a ``OptimizeResult`` object.\n",
      "        Important attributes are: ``x`` the solution array, ``success`` a\n",
      "        Boolean flag indicating if the optimizer exited successfully and\n",
      "        ``message`` which describes the cause of the termination. See\n",
      "        `OptimizeResult` for a description of other attributes.\n",
      "\n",
      "    See also\n",
      "    --------\n",
      "    minimize_scalar : Interface to minimization algorithms for scalar\n",
      "        univariate functions\n",
      "    show_options : Additional options accepted by the solvers\n",
      "\n",
      "    Notes\n",
      "    -----\n",
      "    This section describes the available solvers that can be selected by the\n",
      "    'method' parameter. The default method is *BFGS*.\n",
      "\n",
      "    **Unconstrained minimization**\n",
      "\n",
      "    Method :ref:`CG <optimize.minimize-cg>` uses a nonlinear conjugate\n",
      "    gradient algorithm by Polak and Ribiere, a variant of the\n",
      "    Fletcher-Reeves method described in [5]_ pp.120-122. Only the\n",
      "    first derivatives are used.\n",
      "\n",
      "    Method :ref:`BFGS <optimize.minimize-bfgs>` uses the quasi-Newton\n",
      "    method of Broyden, Fletcher, Goldfarb, and Shanno (BFGS) [5]_\n",
      "    pp. 136. It uses the first derivatives only. BFGS has proven good\n",
      "    performance even for non-smooth optimizations. This method also\n",
      "    returns an approximation of the Hessian inverse, stored as\n",
      "    `hess_inv` in the OptimizeResult object.\n",
      "\n",
      "    Method :ref:`Newton-CG <optimize.minimize-newtoncg>` uses a\n",
      "    Newton-CG algorithm [5]_ pp. 168 (also known as the truncated\n",
      "    Newton method). It uses a CG method to the compute the search\n",
      "    direction. See also *TNC* method for a box-constrained\n",
      "    minimization with a similar algorithm. Suitable for large-scale\n",
      "    problems.\n",
      "\n",
      "    Method :ref:`dogleg <optimize.minimize-dogleg>` uses the dog-leg\n",
      "    trust-region algorithm [5]_ for unconstrained minimization. This\n",
      "    algorithm requires the gradient and Hessian; furthermore the\n",
      "    Hessian is required to be positive definite.\n",
      "\n",
      "    Method :ref:`trust-ncg <optimize.minimize-trustncg>` uses the\n",
      "    Newton conjugate gradient trust-region algorithm [5]_ for\n",
      "    unconstrained minimization. This algorithm requires the gradient\n",
      "    and either the Hessian or a function that computes the product of\n",
      "    the Hessian with a given vector. Suitable for large-scale problems.\n",
      "\n",
      "    Method :ref:`trust-krylov <optimize.minimize-trustkrylov>` uses\n",
      "    the Newton GLTR trust-region algorithm [14]_, [15]_ for unconstrained\n",
      "    minimization. This algorithm requires the gradient\n",
      "    and either the Hessian or a function that computes the product of\n",
      "    the Hessian with a given vector. Suitable for large-scale problems.\n",
      "    On indefinite problems it requires usually less iterations than the\n",
      "    `trust-ncg` method and is recommended for medium and large-scale problems.\n",
      "\n",
      "    Method :ref:`trust-exact <optimize.minimize-trustexact>`\n",
      "    is a trust-region method for unconstrained minimization in which\n",
      "    quadratic subproblems are solved almost exactly [13]_. This\n",
      "    algorithm requires the gradient and the Hessian (which is\n",
      "    *not* required to be positive definite). It is, in many\n",
      "    situations, the Newton method to converge in fewer iterations\n",
      "    and the most recommended for small and medium-size problems.\n",
      "\n",
      "    **Bound-Constrained minimization**\n",
      "\n",
      "    Method :ref:`Nelder-Mead <optimize.minimize-neldermead>` uses the\n",
      "    Simplex algorithm [1]_, [2]_. This algorithm is robust in many\n",
      "    applications. However, if numerical computation of derivative can be\n",
      "    trusted, other algorithms using the first and/or second derivatives\n",
      "    information might be preferred for their better performance in\n",
      "    general.\n",
      "\n",
      "    Method :ref:`L-BFGS-B <optimize.minimize-lbfgsb>` uses the L-BFGS-B\n",
      "    algorithm [6]_, [7]_ for bound constrained minimization.\n",
      "\n",
      "    Method :ref:`Powell <optimize.minimize-powell>` is a modification\n",
      "    of Powell's method [3]_, [4]_ which is a conjugate direction\n",
      "    method. It performs sequential one-dimensional minimizations along\n",
      "    each vector of the directions set (`direc` field in `options` and\n",
      "    `info`), which is updated at each iteration of the main\n",
      "    minimization loop. The function need not be differentiable, and no\n",
      "    derivatives are taken. If bounds are not provided, then an\n",
      "    unbounded line search will be used. If bounds are provided and\n",
      "    the initial guess is within the bounds, then every function\n",
      "    evaluation throughout the minimization procedure will be within\n",
      "    the bounds. If bounds are provided, the initial guess is outside\n",
      "    the bounds, and `direc` is full rank (default has full rank), then\n",
      "    some function evaluations during the first iteration may be\n",
      "    outside the bounds, but every function evaluation after the first\n",
      "    iteration will be within the bounds. If `direc` is not full rank,\n",
      "    then some parameters may not be optimized and the solution is not\n",
      "    guaranteed to be within the bounds.\n",
      "\n",
      "    Method :ref:`TNC <optimize.minimize-tnc>` uses a truncated Newton\n",
      "    algorithm [5]_, [8]_ to minimize a function with variables subject\n",
      "    to bounds. This algorithm uses gradient information; it is also\n",
      "    called Newton Conjugate-Gradient. It differs from the *Newton-CG*\n",
      "    method described above as it wraps a C implementation and allows\n",
      "    each variable to be given upper and lower bounds.\n",
      "\n",
      "    **Constrained Minimization**\n",
      "\n",
      "    Method :ref:`COBYLA <optimize.minimize-cobyla>` uses the\n",
      "    Constrained Optimization BY Linear Approximation (COBYLA) method\n",
      "    [9]_, [10]_, [11]_. The algorithm is based on linear\n",
      "    approximations to the objective function and each constraint. The\n",
      "    method wraps a FORTRAN implementation of the algorithm. The\n",
      "    constraints functions 'fun' may return either a single number\n",
      "    or an array or list of numbers.\n",
      "\n",
      "    Method :ref:`COBYQA <optimize.minimize-cobyqa>` uses the Constrained\n",
      "    Optimization BY Quadratic Approximations (COBYQA) method [18]_. The\n",
      "    algorithm is a derivative-free trust-region SQP method based on quadratic\n",
      "    approximations to the objective function and each nonlinear constraint. The\n",
      "    bounds are treated as unrelaxable constraints, in the sense that the\n",
      "    algorithm always respects them throughout the optimization process.\n",
      "\n",
      "    Method :ref:`SLSQP <optimize.minimize-slsqp>` uses Sequential\n",
      "    Least SQuares Programming to minimize a function of several\n",
      "    variables with any combination of bounds, equality and inequality\n",
      "    constraints. The method wraps the SLSQP Optimization subroutine\n",
      "    originally implemented by Dieter Kraft [12]_. Note that the\n",
      "    wrapper handles infinite values in bounds by converting them into\n",
      "    large floating values.\n",
      "\n",
      "    Method :ref:`trust-constr <optimize.minimize-trustconstr>` is a\n",
      "    trust-region algorithm for constrained optimization. It switches\n",
      "    between two implementations depending on the problem definition.\n",
      "    It is the most versatile constrained minimization algorithm\n",
      "    implemented in SciPy and the most appropriate for large-scale problems.\n",
      "    For equality constrained problems it is an implementation of Byrd-Omojokun\n",
      "    Trust-Region SQP method described in [17]_ and in [5]_, p. 549. When\n",
      "    inequality constraints are imposed as well, it switches to the trust-region\n",
      "    interior point method described in [16]_. This interior point algorithm,\n",
      "    in turn, solves inequality constraints by introducing slack variables\n",
      "    and solving a sequence of equality-constrained barrier problems\n",
      "    for progressively smaller values of the barrier parameter.\n",
      "    The previously described equality constrained SQP method is\n",
      "    used to solve the subproblems with increasing levels of accuracy\n",
      "    as the iterate gets closer to a solution.\n",
      "\n",
      "    **Finite-Difference Options**\n",
      "\n",
      "    For Method :ref:`trust-constr <optimize.minimize-trustconstr>`\n",
      "    the gradient and the Hessian may be approximated using\n",
      "    three finite-difference schemes: {'2-point', '3-point', 'cs'}.\n",
      "    The scheme 'cs' is, potentially, the most accurate but it\n",
      "    requires the function to correctly handle complex inputs and to\n",
      "    be differentiable in the complex plane. The scheme '3-point' is more\n",
      "    accurate than '2-point' but requires twice as many operations. If the\n",
      "    gradient is estimated via finite-differences the Hessian must be\n",
      "    estimated using one of the quasi-Newton strategies.\n",
      "\n",
      "    **Method specific options for the** `hess` **keyword**\n",
      "\n",
      "    +--------------+------+----------+-------------------------+-----+\n",
      "    | method/Hess  | None | callable | '2-point/'3-point'/'cs' | HUS |\n",
      "    +==============+======+==========+=========================+=====+\n",
      "    | Newton-CG    | x    | (n, n)   | x                       | x   |\n",
      "    |              |      | LO       |                         |     |\n",
      "    +--------------+------+----------+-------------------------+-----+\n",
      "    | dogleg       |      | (n, n)   |                         |     |\n",
      "    +--------------+------+----------+-------------------------+-----+\n",
      "    | trust-ncg    |      | (n, n)   | x                       | x   |\n",
      "    +--------------+------+----------+-------------------------+-----+\n",
      "    | trust-krylov |      | (n, n)   | x                       | x   |\n",
      "    +--------------+------+----------+-------------------------+-----+\n",
      "    | trust-exact  |      | (n, n)   |                         |     |\n",
      "    +--------------+------+----------+-------------------------+-----+\n",
      "    | trust-constr | x    | (n, n)   |  x                      | x   |\n",
      "    |              |      | LO       |                         |     |\n",
      "    |              |      | sp       |                         |     |\n",
      "    +--------------+------+----------+-------------------------+-----+\n",
      "\n",
      "    where LO=LinearOperator, sp=Sparse matrix, HUS=HessianUpdateStrategy\n",
      "\n",
      "    **Custom minimizers**\n",
      "\n",
      "    It may be useful to pass a custom minimization method, for example\n",
      "    when using a frontend to this method such as `scipy.optimize.basinhopping`\n",
      "    or a different library.  You can simply pass a callable as the ``method``\n",
      "    parameter.\n",
      "\n",
      "    The callable is called as ``method(fun, x0, args, **kwargs, **options)``\n",
      "    where ``kwargs`` corresponds to any other parameters passed to `minimize`\n",
      "    (such as `callback`, `hess`, etc.), except the `options` dict, which has\n",
      "    its contents also passed as `method` parameters pair by pair.  Also, if\n",
      "    `jac` has been passed as a bool type, `jac` and `fun` are mangled so that\n",
      "    `fun` returns just the function values and `jac` is converted to a function\n",
      "    returning the Jacobian.  The method shall return an `OptimizeResult`\n",
      "    object.\n",
      "\n",
      "    The provided `method` callable must be able to accept (and possibly ignore)\n",
      "    arbitrary parameters; the set of parameters accepted by `minimize` may\n",
      "    expand in future versions and then these parameters will be passed to\n",
      "    the method.  You can find an example in the scipy.optimize tutorial.\n",
      "\n",
      "    References\n",
      "    ----------\n",
      "    .. [1] Nelder, J A, and R Mead. 1965. A Simplex Method for Function\n",
      "        Minimization. The Computer Journal 7: 308-13.\n",
      "    .. [2] Wright M H. 1996. Direct search methods: Once scorned, now\n",
      "        respectable, in Numerical Analysis 1995: Proceedings of the 1995\n",
      "        Dundee Biennial Conference in Numerical Analysis (Eds. D F\n",
      "        Griffiths and G A Watson). Addison Wesley Longman, Harlow, UK.\n",
      "        191-208.\n",
      "    .. [3] Powell, M J D. 1964. An efficient method for finding the minimum of\n",
      "       a function of several variables without calculating derivatives. The\n",
      "       Computer Journal 7: 155-162.\n",
      "    .. [4] Press W, S A Teukolsky, W T Vetterling and B P Flannery.\n",
      "       Numerical Recipes (any edition), Cambridge University Press.\n",
      "    .. [5] Nocedal, J, and S J Wright. 2006. Numerical Optimization.\n",
      "       Springer New York.\n",
      "    .. [6] Byrd, R H and P Lu and J. Nocedal. 1995. A Limited Memory\n",
      "       Algorithm for Bound Constrained Optimization. SIAM Journal on\n",
      "       Scientific and Statistical Computing 16 (5): 1190-1208.\n",
      "    .. [7] Zhu, C and R H Byrd and J Nocedal. 1997. L-BFGS-B: Algorithm\n",
      "       778: L-BFGS-B, FORTRAN routines for large scale bound constrained\n",
      "       optimization. ACM Transactions on Mathematical Software 23 (4):\n",
      "       550-560.\n",
      "    .. [8] Nash, S G. Newton-Type Minimization Via the Lanczos Method.\n",
      "       1984. SIAM Journal of Numerical Analysis 21: 770-778.\n",
      "    .. [9] Powell, M J D. A direct search optimization method that models\n",
      "       the objective and constraint functions by linear interpolation.\n",
      "       1994. Advances in Optimization and Numerical Analysis, eds. S. Gomez\n",
      "       and J-P Hennart, Kluwer Academic (Dordrecht), 51-67.\n",
      "    .. [10] Powell M J D. Direct search algorithms for optimization\n",
      "       calculations. 1998. Acta Numerica 7: 287-336.\n",
      "    .. [11] Powell M J D. A view of algorithms for optimization without\n",
      "       derivatives. 2007.Cambridge University Technical Report DAMTP\n",
      "       2007/NA03\n",
      "    .. [12] Kraft, D. A software package for sequential quadratic\n",
      "       programming. 1988. Tech. Rep. DFVLR-FB 88-28, DLR German Aerospace\n",
      "       Center -- Institute for Flight Mechanics, Koln, Germany.\n",
      "    .. [13] Conn, A. R., Gould, N. I., and Toint, P. L.\n",
      "       Trust region methods. 2000. Siam. pp. 169-200.\n",
      "    .. [14] F. Lenders, C. Kirches, A. Potschka: \"trlib: A vector-free\n",
      "       implementation of the GLTR method for iterative solution of\n",
      "       the trust region problem\", :arxiv:`1611.04718`\n",
      "    .. [15] N. Gould, S. Lucidi, M. Roma, P. Toint: \"Solving the\n",
      "       Trust-Region Subproblem using the Lanczos Method\",\n",
      "       SIAM J. Optim., 9(2), 504--525, (1999).\n",
      "    .. [16] Byrd, Richard H., Mary E. Hribar, and Jorge Nocedal. 1999.\n",
      "        An interior point algorithm for large-scale nonlinear  programming.\n",
      "        SIAM Journal on Optimization 9.4: 877-900.\n",
      "    .. [17] Lalee, Marucha, Jorge Nocedal, and Todd Plantenga. 1998. On the\n",
      "        implementation of an algorithm for large-scale equality constrained\n",
      "        optimization. SIAM Journal on Optimization 8.3: 682-706.\n",
      "    .. [18] Ragonneau, T. M. *Model-Based Derivative-Free Optimization Methods\n",
      "        and Software*. PhD thesis, Department of Applied Mathematics, The Hong\n",
      "        Kong Polytechnic University, Hong Kong, China, 2022. URL:\n",
      "        https://theses.lib.polyu.edu.hk/handle/200/12294.\n",
      "\n",
      "    Examples\n",
      "    --------\n",
      "    Let us consider the problem of minimizing the Rosenbrock function. This\n",
      "    function (and its respective derivatives) is implemented in `rosen`\n",
      "    (resp. `rosen_der`, `rosen_hess`) in the `scipy.optimize`.\n",
      "\n",
      "    >>> from scipy.optimize import minimize, rosen, rosen_der\n",
      "\n",
      "    A simple application of the *Nelder-Mead* method is:\n",
      "\n",
      "    >>> x0 = [1.3, 0.7, 0.8, 1.9, 1.2]\n",
      "    >>> res = minimize(rosen, x0, method='Nelder-Mead', tol=1e-6)\n",
      "    >>> res.x\n",
      "    array([ 1.,  1.,  1.,  1.,  1.])\n",
      "\n",
      "    Now using the *BFGS* algorithm, using the first derivative and a few\n",
      "    options:\n",
      "\n",
      "    >>> res = minimize(rosen, x0, method='BFGS', jac=rosen_der,\n",
      "    ...                options={'gtol': 1e-6, 'disp': True})\n",
      "    Optimization terminated successfully.\n",
      "             Current function value: 0.000000\n",
      "             Iterations: 26\n",
      "             Function evaluations: 31\n",
      "             Gradient evaluations: 31\n",
      "    >>> res.x\n",
      "    array([ 1.,  1.,  1.,  1.,  1.])\n",
      "    >>> print(res.message)\n",
      "    Optimization terminated successfully.\n",
      "    >>> res.hess_inv\n",
      "    array([\n",
      "        [ 0.00749589,  0.01255155,  0.02396251,  0.04750988,  0.09495377],  # may vary\n",
      "        [ 0.01255155,  0.02510441,  0.04794055,  0.09502834,  0.18996269],\n",
      "        [ 0.02396251,  0.04794055,  0.09631614,  0.19092151,  0.38165151],\n",
      "        [ 0.04750988,  0.09502834,  0.19092151,  0.38341252,  0.7664427 ],\n",
      "        [ 0.09495377,  0.18996269,  0.38165151,  0.7664427,   1.53713523]\n",
      "    ])\n",
      "\n",
      "\n",
      "    Next, consider a minimization problem with several constraints (namely\n",
      "    Example 16.4 from [5]_). The objective function is:\n",
      "\n",
      "    >>> fun = lambda x: (x[0] - 1)**2 + (x[1] - 2.5)**2\n",
      "\n",
      "    There are three constraints defined as:\n",
      "\n",
      "    >>> cons = ({'type': 'ineq', 'fun': lambda x:  x[0] - 2 * x[1] + 2},\n",
      "    ...         {'type': 'ineq', 'fun': lambda x: -x[0] - 2 * x[1] + 6},\n",
      "    ...         {'type': 'ineq', 'fun': lambda x: -x[0] + 2 * x[1] + 2})\n",
      "\n",
      "    And variables must be positive, hence the following bounds:\n",
      "\n",
      "    >>> bnds = ((0, None), (0, None))\n",
      "\n",
      "    The optimization problem is solved using the SLSQP method as:\n",
      "\n",
      "    >>> res = minimize(fun, (2, 0), method='SLSQP', bounds=bnds,\n",
      "    ...                constraints=cons)\n",
      "\n",
      "    It should converge to the theoretical solution (1.4 ,1.7).\n",
      "\n",
      "    \n"
     ]
    }
   ],
   "source": [
    "print(optimize.minimize.__doc__)"
   ]
  },
  {
   "cell_type": "code",
   "execution_count": null,
   "metadata": {},
   "outputs": [
    {
     "data": {
      "text/html": [
       "<style>/*\n",
       "Copyright (C) 2020  Smithsonian Astrophysical Observatory\n",
       "\n",
       "\n",
       " This program is free software; you can redistribute it and/or modify\n",
       " it under the terms of the GNU General Public License as published by\n",
       " the Free Software Foundation; either version 3 of the License, or\n",
       " (at your option) any later version.\n",
       "\n",
       " This program is distributed in the hope that it will be useful,\n",
       " but WITHOUT ANY WARRANTY; without even the implied warranty of\n",
       " MERCHANTABILITY or FITNESS FOR A PARTICULAR PURPOSE.  See the\n",
       " GNU General Public License for more details.\n",
       "\n",
       " You should have received a copy of the GNU General Public License along\n",
       " with this program; if not, write to the Free Software Foundation, Inc.,\n",
       " 51 Franklin Street, Fifth Floor, Boston, MA 02110-1301 USA.\n",
       "\n",
       "*/\n",
       "\n",
       ":root {\n",
       "  --sherpa-border-color: var(--jp-border-color2, #e0e0e0);\n",
       "  --sherpa-background-color: var(--jp-layout-color0, white);\n",
       "  --sherpa-background-color-row-even: var(--jp-layout-color1, white);\n",
       "  --sherpa-background-color-row-odd: var(--jp-layout-color2, #eeeeee);\n",
       "\n",
       "  /* https://medium.com/ge-design/iot-cool-gray-is-a-great-background-color-for-data-visualization-ebf18c318418 */\n",
       "  --sherpa-background-color-dark1: #EBEFF2;\n",
       "  --sherpa-background-color-dark2: #D8E0E5;\n",
       "}\n",
       "\n",
       "div.sherpa-text-fallback {\n",
       "    display: none;\n",
       "}\n",
       "\n",
       "div.sherpa {\n",
       "    display: block;\n",
       "}\n",
       "\n",
       "div.sherpa details summary {\n",
       "    display: list-item;  /* needed for notebook, not lab */\n",
       "    font-size: larger;\n",
       "}\n",
       "\n",
       "div.sherpa details div.datavals {\n",
       "    display: grid;\n",
       "    grid-template-columns: 1fr 3fr;\n",
       "    column-gap: 0.5em;\n",
       "}\n",
       "\n",
       "div.sherpa div.dataname {\n",
       "    font-weight: bold;\n",
       "    border-right: 1px solid var(--sherpa-border-color);\n",
       "}\n",
       "\n",
       "div.sherpa div.dataval { }\n",
       "\n",
       "div.sherpa div.datavals div:nth-child(4n + 1) ,\n",
       "div.sherpa div.datavals div:nth-child(4n + 2) {\n",
       "    background: var(--sherpa-background-color-row-odd);\n",
       "}\n",
       "\n",
       "div.sherpa table.model tbody {\n",
       "    border-bottom: 1px solid var(--sherpa-border-color);\n",
       "}\n",
       "\n",
       "div.sherpa table.model tr.block {\n",
       "    border-top: 1px solid var(--sherpa-border-color);\n",
       "}\n",
       "\n",
       "div.sherpa table.model th.model-odd ,\n",
       "div.sherpa table.model th.model-even {\n",
       "    border-right: 1px solid var(--sherpa-border-color);\n",
       "}\n",
       "\n",
       "div.sherpa table.model th.model-odd {\n",
       "    background: var(--sherpa-background-color-dark1);\n",
       "}\n",
       "\n",
       "div.sherpa table.model th.model-even {\n",
       "    background: var(--sherpa-background-color-dark2);\n",
       "}\n",
       "\n",
       "div.sherpa .failed {\n",
       "    background: orange;\n",
       "    font-size: large;\n",
       "    padding: 1em;\n",
       "}\n",
       "</style><div class=\"sherpa-text-fallback\">&lt;Fit results instance&gt;</div><div hidden class=\"sherpa\"><details open><summary>Fit parameters</summary><table class=\"fit\"><thead><tr><th>Parameter</th><th>Best-fit value</th></tr></thead><tbody><tr><td>bkg.c0</td><td>     2.44444</td></tr><tr><td>line.ampl</td><td>    -3.45939</td></tr></tbody></table></details><details><summary>Summary (10)</summary><div class=\"datavals\"><div class=\"dataname\">Method</div><div class=\"dataval\">neldermead</div><div class=\"dataname\">Statistic</div><div class=\"dataval\">cstat</div><div class=\"dataname\">Final statistic</div><div class=\"dataval\">4.85918</div><div class=\"dataname\">Number of evaluations</div><div class=\"dataval\">286</div><div class=\"dataname\">Reduced statistic</div><div class=\"dataval\">0.607397</div><div class=\"dataname\">Probability (Q-value)</div><div class=\"dataval\">0.772516</div><div class=\"dataname\">Initial statistic</div><div class=\"dataval\">11.941</div><div class=\"dataname\">&#916; statistic</div><div class=\"dataval\">7.08187</div><div class=\"dataname\">Number of data points</div><div class=\"dataval\">10</div><div class=\"dataname\">Degrees of freedom</div><div class=\"dataval\">8</div></div></details></div>"
      ],
      "text/plain": [
       "<Fit results instance>"
      ]
     },
     "execution_count": 145,
     "metadata": {},
     "output_type": "execute_result"
    }
   ],
   "source": [
    "from sherpa.data import Data1D\n",
    "from sherpa.stats import CStat\n",
    "from sherpa.models import Const1D, Delta1D\n",
    "from sherpa.fit import Fit\n",
    "from sherpa.optmethods import NelderMead, LevMar\n",
    "\n",
    "dat = Data1D('dat', np.arange(10), np.array([2,3,2,3,1,0,1,3,5,2]))\n",
    "bkg = Const1D(name='bkg')\n",
    "bkg.c0 = 3.4\n",
    "line = Delta1D(name='line')\n",
    "line.pos = 5.\n",
    "line.pos.frozen = True\n",
    "line.ampl = -1.2\n",
    "model = bkg + line\n",
    "\n",
    "fitter = Fit(data=dat, model=model, stat=CStat(), method=NelderMead())\n",
    "fitter.fit()\n"
   ]
  },
  {
   "cell_type": "code",
   "execution_count": null,
   "metadata": {},
   "outputs": [
    {
     "data": {
      "text/html": [
       "<style>/*\n",
       "Copyright (C) 2020  Smithsonian Astrophysical Observatory\n",
       "\n",
       "\n",
       " This program is free software; you can redistribute it and/or modify\n",
       " it under the terms of the GNU General Public License as published by\n",
       " the Free Software Foundation; either version 3 of the License, or\n",
       " (at your option) any later version.\n",
       "\n",
       " This program is distributed in the hope that it will be useful,\n",
       " but WITHOUT ANY WARRANTY; without even the implied warranty of\n",
       " MERCHANTABILITY or FITNESS FOR A PARTICULAR PURPOSE.  See the\n",
       " GNU General Public License for more details.\n",
       "\n",
       " You should have received a copy of the GNU General Public License along\n",
       " with this program; if not, write to the Free Software Foundation, Inc.,\n",
       " 51 Franklin Street, Fifth Floor, Boston, MA 02110-1301 USA.\n",
       "\n",
       "*/\n",
       "\n",
       ":root {\n",
       "  --sherpa-border-color: var(--jp-border-color2, #e0e0e0);\n",
       "  --sherpa-background-color: var(--jp-layout-color0, white);\n",
       "  --sherpa-background-color-row-even: var(--jp-layout-color1, white);\n",
       "  --sherpa-background-color-row-odd: var(--jp-layout-color2, #eeeeee);\n",
       "\n",
       "  /* https://medium.com/ge-design/iot-cool-gray-is-a-great-background-color-for-data-visualization-ebf18c318418 */\n",
       "  --sherpa-background-color-dark1: #EBEFF2;\n",
       "  --sherpa-background-color-dark2: #D8E0E5;\n",
       "}\n",
       "\n",
       "div.sherpa-text-fallback {\n",
       "    display: none;\n",
       "}\n",
       "\n",
       "div.sherpa {\n",
       "    display: block;\n",
       "}\n",
       "\n",
       "div.sherpa details summary {\n",
       "    display: list-item;  /* needed for notebook, not lab */\n",
       "    font-size: larger;\n",
       "}\n",
       "\n",
       "div.sherpa details div.datavals {\n",
       "    display: grid;\n",
       "    grid-template-columns: 1fr 3fr;\n",
       "    column-gap: 0.5em;\n",
       "}\n",
       "\n",
       "div.sherpa div.dataname {\n",
       "    font-weight: bold;\n",
       "    border-right: 1px solid var(--sherpa-border-color);\n",
       "}\n",
       "\n",
       "div.sherpa div.dataval { }\n",
       "\n",
       "div.sherpa div.datavals div:nth-child(4n + 1) ,\n",
       "div.sherpa div.datavals div:nth-child(4n + 2) {\n",
       "    background: var(--sherpa-background-color-row-odd);\n",
       "}\n",
       "\n",
       "div.sherpa table.model tbody {\n",
       "    border-bottom: 1px solid var(--sherpa-border-color);\n",
       "}\n",
       "\n",
       "div.sherpa table.model tr.block {\n",
       "    border-top: 1px solid var(--sherpa-border-color);\n",
       "}\n",
       "\n",
       "div.sherpa table.model th.model-odd ,\n",
       "div.sherpa table.model th.model-even {\n",
       "    border-right: 1px solid var(--sherpa-border-color);\n",
       "}\n",
       "\n",
       "div.sherpa table.model th.model-odd {\n",
       "    background: var(--sherpa-background-color-dark1);\n",
       "}\n",
       "\n",
       "div.sherpa table.model th.model-even {\n",
       "    background: var(--sherpa-background-color-dark2);\n",
       "}\n",
       "\n",
       "div.sherpa .failed {\n",
       "    background: orange;\n",
       "    font-size: large;\n",
       "    padding: 1em;\n",
       "}\n",
       "</style><div class=\"sherpa-text-fallback\">&lt;BinaryOpModel model instance &#x27;bkg + line&#x27;&gt;</div><div hidden class=\"sherpa\"><details open><summary>Model</summary><table class=\"model\"><caption>Expression: bkg + line</caption><thead><tr><th>Component</th><th>Parameter</th><th>Thawed</th><th>Value</th><th>Min</th><th>Max</th><th>Units</th></tr></thead><tbody><tr><th class=\"model-odd\" scope=\"rowgroup\" rowspan=1>bkg</th><td>c0</td><td><input disabled type=\"checkbox\" checked></input></td><td>3.4</td><td>-MAX</td><td>MAX</td><td></td></tr><tr class=\"block\"><th class=\"model-even\" scope=\"rowgroup\" rowspan=2>line</th><td>pos</td><td><input disabled type=\"checkbox\"></input></td><td>5.0</td><td>-MAX</td><td>MAX</td><td></td></tr><tr><td>ampl</td><td><input disabled type=\"checkbox\" checked></input></td><td>-1.2</td><td>-MAX</td><td>MAX</td><td></td></tr></tbody></table></details></div>"
      ],
      "text/plain": [
       "<BinaryOpModel model instance 'bkg + line'>"
      ]
     },
     "execution_count": 97,
     "metadata": {},
     "output_type": "execute_result"
    }
   ],
   "source": [
    "model.reset()\n",
    "model"
   ]
  },
  {
   "cell_type": "code",
   "execution_count": null,
   "metadata": {},
   "outputs": [],
   "source": [
    "method = Scipy()\n",
    "method.method = 'CG'"
   ]
  },
  {
   "cell_type": "code",
   "execution_count": null,
   "metadata": {},
   "outputs": [],
   "source": [
    "def test_bounds_correctly_converted(recwarn):\n",
    "    \"\"\"\n",
    "    This test uses both a direct and an indirect way to check that\n",
    "    bounds are set to `None` if they are really just numerical max/min\n",
    "    of a floating point number.\n",
    "\n",
    "    We perform a fit with the `CG` method, which does not support bounds and will\n",
    "    raise a warning if any bounds are set. This tests that the bounds are actually\n",
    "    passed in to scipy correctly. We also check the recoded bounds in the \n",
    "    extra_output field.\n",
    "    \"\"\"\n",
    "    method = Scipy()\n",
    "    method.method = 'CG'\n",
    "    fitter = Fit(data=dat, model=model, stat=CStat(), method=method)\n",
    "    fit_res = fitter.fit(record_steps=True)\n",
    "\n",
    "    assert len(recwarn) == 0\n",
    "    assert fit_res.extra_output['input_bounds'] is None\n",
    "\n",
    "    # And while we are at it, check a few other things\n",
    "    # These are regression test and might change if scipy changes the \n",
    "    # default behavior of the CG method.\n",
    "    assert fit_res.success\n",
    "    assert fit_res.nfev == 34\n",
    "    assert np.allclose(fit_res.parvals, (2.444444465983341, -3.0014523573812197))\n"
   ]
  },
  {
   "cell_type": "code",
   "execution_count": null,
   "metadata": {},
   "outputs": [
    {
     "data": {
      "text/html": [
       "<style>/*\n",
       "Copyright (C) 2020  Smithsonian Astrophysical Observatory\n",
       "\n",
       "\n",
       " This program is free software; you can redistribute it and/or modify\n",
       " it under the terms of the GNU General Public License as published by\n",
       " the Free Software Foundation; either version 3 of the License, or\n",
       " (at your option) any later version.\n",
       "\n",
       " This program is distributed in the hope that it will be useful,\n",
       " but WITHOUT ANY WARRANTY; without even the implied warranty of\n",
       " MERCHANTABILITY or FITNESS FOR A PARTICULAR PURPOSE.  See the\n",
       " GNU General Public License for more details.\n",
       "\n",
       " You should have received a copy of the GNU General Public License along\n",
       " with this program; if not, write to the Free Software Foundation, Inc.,\n",
       " 51 Franklin Street, Fifth Floor, Boston, MA 02110-1301 USA.\n",
       "\n",
       "*/\n",
       "\n",
       ":root {\n",
       "  --sherpa-border-color: var(--jp-border-color2, #e0e0e0);\n",
       "  --sherpa-background-color: var(--jp-layout-color0, white);\n",
       "  --sherpa-background-color-row-even: var(--jp-layout-color1, white);\n",
       "  --sherpa-background-color-row-odd: var(--jp-layout-color2, #eeeeee);\n",
       "\n",
       "  /* https://medium.com/ge-design/iot-cool-gray-is-a-great-background-color-for-data-visualization-ebf18c318418 */\n",
       "  --sherpa-background-color-dark1: #EBEFF2;\n",
       "  --sherpa-background-color-dark2: #D8E0E5;\n",
       "}\n",
       "\n",
       "div.sherpa-text-fallback {\n",
       "    display: none;\n",
       "}\n",
       "\n",
       "div.sherpa {\n",
       "    display: block;\n",
       "}\n",
       "\n",
       "div.sherpa details summary {\n",
       "    display: list-item;  /* needed for notebook, not lab */\n",
       "    font-size: larger;\n",
       "}\n",
       "\n",
       "div.sherpa details div.datavals {\n",
       "    display: grid;\n",
       "    grid-template-columns: 1fr 3fr;\n",
       "    column-gap: 0.5em;\n",
       "}\n",
       "\n",
       "div.sherpa div.dataname {\n",
       "    font-weight: bold;\n",
       "    border-right: 1px solid var(--sherpa-border-color);\n",
       "}\n",
       "\n",
       "div.sherpa div.dataval { }\n",
       "\n",
       "div.sherpa div.datavals div:nth-child(4n + 1) ,\n",
       "div.sherpa div.datavals div:nth-child(4n + 2) {\n",
       "    background: var(--sherpa-background-color-row-odd);\n",
       "}\n",
       "\n",
       "div.sherpa table.model tbody {\n",
       "    border-bottom: 1px solid var(--sherpa-border-color);\n",
       "}\n",
       "\n",
       "div.sherpa table.model tr.block {\n",
       "    border-top: 1px solid var(--sherpa-border-color);\n",
       "}\n",
       "\n",
       "div.sherpa table.model th.model-odd ,\n",
       "div.sherpa table.model th.model-even {\n",
       "    border-right: 1px solid var(--sherpa-border-color);\n",
       "}\n",
       "\n",
       "div.sherpa table.model th.model-odd {\n",
       "    background: var(--sherpa-background-color-dark1);\n",
       "}\n",
       "\n",
       "div.sherpa table.model th.model-even {\n",
       "    background: var(--sherpa-background-color-dark2);\n",
       "}\n",
       "\n",
       "div.sherpa .failed {\n",
       "    background: orange;\n",
       "    font-size: large;\n",
       "    padding: 1em;\n",
       "}\n",
       "</style><div class=\"sherpa-text-fallback\">&lt;Fit results instance&gt;</div><div hidden class=\"sherpa\"><details open><summary>Fit parameters</summary><table class=\"fit\"><thead><tr><th>Parameter</th><th>Best-fit value</th></tr></thead><tbody><tr><td>bkg.c0</td><td>     2.44444</td></tr><tr><td>line.ampl</td><td>    -3.00145</td></tr></tbody></table></details><details><summary>Summary (10)</summary><div class=\"datavals\"><div class=\"dataname\">Method</div><div class=\"dataval\">scipy</div><div class=\"dataname\">Statistic</div><div class=\"dataval\">cstat</div><div class=\"dataname\">Final statistic</div><div class=\"dataval\">4.85918</div><div class=\"dataname\">Number of evaluations</div><div class=\"dataval\">34</div><div class=\"dataname\">Reduced statistic</div><div class=\"dataval\">0.607397</div><div class=\"dataname\">Probability (Q-value)</div><div class=\"dataval\">0.772516</div><div class=\"dataname\">Initial statistic</div><div class=\"dataval\">11.941</div><div class=\"dataname\">&#916; statistic</div><div class=\"dataval\">7.08187</div><div class=\"dataname\">Number of data points</div><div class=\"dataval\">10</div><div class=\"dataname\">Degrees of freedom</div><div class=\"dataval\">8</div></div></details></div>"
      ],
      "text/plain": [
       "<Fit results instance>"
      ]
     },
     "execution_count": 99,
     "metadata": {},
     "output_type": "execute_result"
    }
   ],
   "source": [
    "\n",
    "fitter = Fit(data=dat, model=model, stat=CStat(), method=method)\n",
    "fit_res = fitter.fit(record_steps=True)\n",
    "fit_res"
   ]
  },
  {
   "cell_type": "code",
   "execution_count": null,
   "metadata": {},
   "outputs": [
    {
     "data": {
      "text/plain": [
       "34"
      ]
     },
     "execution_count": 104,
     "metadata": {},
     "output_type": "execute_result"
    }
   ],
   "source": [
    "fit_res.nfev"
   ]
  },
  {
   "cell_type": "code",
   "execution_count": null,
   "metadata": {},
   "outputs": [
    {
     "data": {
      "text/plain": [
       "      message: Optimization terminated successfully.\n",
       "      success: True\n",
       "       status: 0\n",
       "          fun: 4.859179942114077\n",
       "            x: [ 2.444e+00 -3.001e+00]\n",
       "          nit: 5\n",
       "          jac: [ 2.384e-07  0.000e+00]\n",
       "         nfev: 34\n",
       "         njev: 11\n",
       " input_bounds: None\n",
       " record_steps: [( 0,  1.194e+01,  3.400e+00, -1.200e+00)\n",
       "                ( 1,  1.194e+01,  3.400e+00, -1.200e+00) ...\n",
       "                (33,  4.859e+00,  2.444e+00, -3.001e+00)\n",
       "                (34,  4.859e+00,  2.444e+00, -3.001e+00)]"
      ]
     },
     "execution_count": 100,
     "metadata": {},
     "output_type": "execute_result"
    }
   ],
   "source": [
    "fit_res.extra_output"
   ]
  },
  {
   "cell_type": "code",
   "execution_count": null,
   "metadata": {},
   "outputs": [
    {
     "ename": "NameError",
     "evalue": "name 'plot_path' is not defined",
     "output_type": "error",
     "traceback": [
      "\u001b[0;31m---------------------------------------------------------------------------\u001b[0m",
      "\u001b[0;31mNameError\u001b[0m                                 Traceback (most recent call last)",
      "Cell \u001b[0;32mIn[105], line 1\u001b[0m\n\u001b[0;32m----> 1\u001b[0m \u001b[43mplot_path\u001b[49m(c0\u001b[38;5;241m=\u001b[39m\u001b[38;5;241m-\u001b[39m\u001b[38;5;241m20\u001b[39m, ampl\u001b[38;5;241m=\u001b[39m\u001b[38;5;241m-\u001b[39m\u001b[38;5;241m10\u001b[39m, opts\u001b[38;5;241m=\u001b[39m[Scipy(), method, NelderMead()])\n\u001b[1;32m      2\u001b[0m fig \u001b[38;5;241m=\u001b[39m plt\u001b[38;5;241m.\u001b[39mgcf()\n\u001b[1;32m      3\u001b[0m fig\u001b[38;5;241m.\u001b[39maxes[\u001b[38;5;241m0\u001b[39m]\u001b[38;5;241m.\u001b[39mset_xlim(\u001b[38;5;241m-\u001b[39m\u001b[38;5;241m25\u001b[39m, \u001b[38;5;241m15\u001b[39m)\n",
      "\u001b[0;31mNameError\u001b[0m: name 'plot_path' is not defined"
     ]
    }
   ],
   "source": [
    "plot_path(c0=-20, ampl=-10, opts=[Scipy(), method, NelderMead()])\n",
    "fig = plt.gcf()\n",
    "fig.axes[0].set_xlim(-25, 15)\n",
    "fig.axes[0].set_ylim(-15, 5)"
   ]
  },
  {
   "cell_type": "code",
   "execution_count": null,
   "metadata": {},
   "outputs": [],
   "source": [
    "cstat = stats.CStat()\n",
    "\n",
    "amplgrid, c0grid = np.mgrid[-5: 4: .1, -3: 7: .1]\n",
    "statgrid = np.zeros(c0grid.shape)\n",
    "it = np.nditer(c0grid, flags=['multi_index'])\n",
    "for x in it:\n",
    "        bkg.c0 = c0grid[it.multi_index]\n",
    "        line.ampl = amplgrid[it.multi_index]\n",
    "        statgrid[it.multi_index] = cstat.calc_stat(data, source)[0]"
   ]
  },
  {
   "cell_type": "code",
   "execution_count": null,
   "metadata": {},
   "outputs": [],
   "source": [
    "from matplotlib import pyplot as plt\n",
    "from astropy.visualization import simple_norm\n",
    "\n",
    "def plot_path(data, model, stat=cstat,\n",
    "              opts = [optmethods.LevMar(), optmethods.NelderMead()]):\n",
    "\n",
    "    fig, ax = plt.subplots(figsize=(10, 6),\n",
    "                             sharex=True, sharey=True)\n",
    "    norm = simple_norm(statgrid, 'log')\n",
    "    \n",
    "    im = ax.imshow(statgrid, origin='lower', norm=norm, \n",
    "               extent=[c0grid.min(), c0grid.max(), amplgrid.min(), amplgrid.max()])\n",
    "\n",
    "    for o in opts:\n",
    "        model.reset()\n",
    "        print(model.thawedpars)\n",
    "        fitter = fit.Fit(data=data, model=model, stat=stat, method=o)\n",
    "        res = fitter.fit(record_steps=True)\n",
    "        print(res.nfev)\n",
    "        p = res.extra_output['record_steps']\n",
    "        ax.plot(p['bkg.c0'], p['line.ampl'], label=o.name)\n",
    "        ax.set_title(o.name)\n",
    "\n",
    "        ax.set_xlim(c0grid.min(), c0grid.max())\n",
    "        ax.set_ylim(amplgrid.min(), amplgrid.max())\n",
    "        ax.set_xlabel('c0')\n",
    "        ax.set_ylabel('ampl')\n",
    "    fig.legend()\n",
    "    return fig, ax"
   ]
  },
  {
   "cell_type": "code",
   "execution_count": null,
   "metadata": {},
   "outputs": [],
   "source": [
    "bkg.c0 = 3.4\n",
    "line.ampl = -1.2\n",
    "model = bkg + line\n",
    "model"
   ]
  },
  {
   "cell_type": "code",
   "execution_count": null,
   "metadata": {},
   "outputs": [
    {
     "data": {
      "text/html": [
       "<style>/*\n",
       "Copyright (C) 2020  Smithsonian Astrophysical Observatory\n",
       "\n",
       "\n",
       " This program is free software; you can redistribute it and/or modify\n",
       " it under the terms of the GNU General Public License as published by\n",
       " the Free Software Foundation; either version 3 of the License, or\n",
       " (at your option) any later version.\n",
       "\n",
       " This program is distributed in the hope that it will be useful,\n",
       " but WITHOUT ANY WARRANTY; without even the implied warranty of\n",
       " MERCHANTABILITY or FITNESS FOR A PARTICULAR PURPOSE.  See the\n",
       " GNU General Public License for more details.\n",
       "\n",
       " You should have received a copy of the GNU General Public License along\n",
       " with this program; if not, write to the Free Software Foundation, Inc.,\n",
       " 51 Franklin Street, Fifth Floor, Boston, MA 02110-1301 USA.\n",
       "\n",
       "*/\n",
       "\n",
       ":root {\n",
       "  --sherpa-border-color: var(--jp-border-color2, #e0e0e0);\n",
       "  --sherpa-background-color: var(--jp-layout-color0, white);\n",
       "  --sherpa-background-color-row-even: var(--jp-layout-color1, white);\n",
       "  --sherpa-background-color-row-odd: var(--jp-layout-color2, #eeeeee);\n",
       "\n",
       "  /* https://medium.com/ge-design/iot-cool-gray-is-a-great-background-color-for-data-visualization-ebf18c318418 */\n",
       "  --sherpa-background-color-dark1: #EBEFF2;\n",
       "  --sherpa-background-color-dark2: #D8E0E5;\n",
       "}\n",
       "\n",
       "div.sherpa-text-fallback {\n",
       "    display: none;\n",
       "}\n",
       "\n",
       "div.sherpa {\n",
       "    display: block;\n",
       "}\n",
       "\n",
       "div.sherpa details summary {\n",
       "    display: list-item;  /* needed for notebook, not lab */\n",
       "    font-size: larger;\n",
       "}\n",
       "\n",
       "div.sherpa details div.datavals {\n",
       "    display: grid;\n",
       "    grid-template-columns: 1fr 3fr;\n",
       "    column-gap: 0.5em;\n",
       "}\n",
       "\n",
       "div.sherpa div.dataname {\n",
       "    font-weight: bold;\n",
       "    border-right: 1px solid var(--sherpa-border-color);\n",
       "}\n",
       "\n",
       "div.sherpa div.dataval { }\n",
       "\n",
       "div.sherpa div.datavals div:nth-child(4n + 1) ,\n",
       "div.sherpa div.datavals div:nth-child(4n + 2) {\n",
       "    background: var(--sherpa-background-color-row-odd);\n",
       "}\n",
       "\n",
       "div.sherpa table.model tbody {\n",
       "    border-bottom: 1px solid var(--sherpa-border-color);\n",
       "}\n",
       "\n",
       "div.sherpa table.model tr.block {\n",
       "    border-top: 1px solid var(--sherpa-border-color);\n",
       "}\n",
       "\n",
       "div.sherpa table.model th.model-odd ,\n",
       "div.sherpa table.model th.model-even {\n",
       "    border-right: 1px solid var(--sherpa-border-color);\n",
       "}\n",
       "\n",
       "div.sherpa table.model th.model-odd {\n",
       "    background: var(--sherpa-background-color-dark1);\n",
       "}\n",
       "\n",
       "div.sherpa table.model th.model-even {\n",
       "    background: var(--sherpa-background-color-dark2);\n",
       "}\n",
       "\n",
       "div.sherpa .failed {\n",
       "    background: orange;\n",
       "    font-size: large;\n",
       "    padding: 1em;\n",
       "}\n",
       "</style><div class=\"sherpa-text-fallback\">&lt;BinaryOpModel model instance &#x27;bkg + line&#x27;&gt;</div><div hidden class=\"sherpa\"><details open><summary>Model</summary><table class=\"model\"><caption>Expression: bkg + line</caption><thead><tr><th>Component</th><th>Parameter</th><th>Thawed</th><th>Value</th><th>Min</th><th>Max</th><th>Units</th></tr></thead><tbody><tr><th class=\"model-odd\" scope=\"rowgroup\" rowspan=1>bkg</th><td>c0</td><td><input disabled type=\"checkbox\" checked></input></td><td>0.1</td><td>-MAX</td><td>MAX</td><td></td></tr><tr class=\"block\"><th class=\"model-even\" scope=\"rowgroup\" rowspan=2>line</th><td>pos</td><td><input disabled type=\"checkbox\"></input></td><td>5.0</td><td>-MAX</td><td>MAX</td><td></td></tr><tr><td>ampl</td><td><input disabled type=\"checkbox\" checked></input></td><td>5.0</td><td>-MAX</td><td>MAX</td><td></td></tr></tbody></table></details></div>"
      ],
      "text/plain": [
       "<BinaryOpModel model instance 'bkg + line'>"
      ]
     },
     "execution_count": 148,
     "metadata": {},
     "output_type": "execute_result"
    }
   ],
   "source": [
    "bkg.c0 = 0.1\n",
    "line.ampl = 5.\n",
    "model = bkg + line\n",
    "model"
   ]
  },
  {
   "cell_type": "code",
   "execution_count": null,
   "metadata": {},
   "outputs": [
    {
     "data": {
      "text/html": [
       "<style>/*\n",
       "Copyright (C) 2020  Smithsonian Astrophysical Observatory\n",
       "\n",
       "\n",
       " This program is free software; you can redistribute it and/or modify\n",
       " it under the terms of the GNU General Public License as published by\n",
       " the Free Software Foundation; either version 3 of the License, or\n",
       " (at your option) any later version.\n",
       "\n",
       " This program is distributed in the hope that it will be useful,\n",
       " but WITHOUT ANY WARRANTY; without even the implied warranty of\n",
       " MERCHANTABILITY or FITNESS FOR A PARTICULAR PURPOSE.  See the\n",
       " GNU General Public License for more details.\n",
       "\n",
       " You should have received a copy of the GNU General Public License along\n",
       " with this program; if not, write to the Free Software Foundation, Inc.,\n",
       " 51 Franklin Street, Fifth Floor, Boston, MA 02110-1301 USA.\n",
       "\n",
       "*/\n",
       "\n",
       ":root {\n",
       "  --sherpa-border-color: var(--jp-border-color2, #e0e0e0);\n",
       "  --sherpa-background-color: var(--jp-layout-color0, white);\n",
       "  --sherpa-background-color-row-even: var(--jp-layout-color1, white);\n",
       "  --sherpa-background-color-row-odd: var(--jp-layout-color2, #eeeeee);\n",
       "\n",
       "  /* https://medium.com/ge-design/iot-cool-gray-is-a-great-background-color-for-data-visualization-ebf18c318418 */\n",
       "  --sherpa-background-color-dark1: #EBEFF2;\n",
       "  --sherpa-background-color-dark2: #D8E0E5;\n",
       "}\n",
       "\n",
       "div.sherpa-text-fallback {\n",
       "    display: none;\n",
       "}\n",
       "\n",
       "div.sherpa {\n",
       "    display: block;\n",
       "}\n",
       "\n",
       "div.sherpa details summary {\n",
       "    display: list-item;  /* needed for notebook, not lab */\n",
       "    font-size: larger;\n",
       "}\n",
       "\n",
       "div.sherpa details div.datavals {\n",
       "    display: grid;\n",
       "    grid-template-columns: 1fr 3fr;\n",
       "    column-gap: 0.5em;\n",
       "}\n",
       "\n",
       "div.sherpa div.dataname {\n",
       "    font-weight: bold;\n",
       "    border-right: 1px solid var(--sherpa-border-color);\n",
       "}\n",
       "\n",
       "div.sherpa div.dataval { }\n",
       "\n",
       "div.sherpa div.datavals div:nth-child(4n + 1) ,\n",
       "div.sherpa div.datavals div:nth-child(4n + 2) {\n",
       "    background: var(--sherpa-background-color-row-odd);\n",
       "}\n",
       "\n",
       "div.sherpa table.model tbody {\n",
       "    border-bottom: 1px solid var(--sherpa-border-color);\n",
       "}\n",
       "\n",
       "div.sherpa table.model tr.block {\n",
       "    border-top: 1px solid var(--sherpa-border-color);\n",
       "}\n",
       "\n",
       "div.sherpa table.model th.model-odd ,\n",
       "div.sherpa table.model th.model-even {\n",
       "    border-right: 1px solid var(--sherpa-border-color);\n",
       "}\n",
       "\n",
       "div.sherpa table.model th.model-odd {\n",
       "    background: var(--sherpa-background-color-dark1);\n",
       "}\n",
       "\n",
       "div.sherpa table.model th.model-even {\n",
       "    background: var(--sherpa-background-color-dark2);\n",
       "}\n",
       "\n",
       "div.sherpa .failed {\n",
       "    background: orange;\n",
       "    font-size: large;\n",
       "    padding: 1em;\n",
       "}\n",
       "</style><div class=\"sherpa-text-fallback\">&lt;BinaryOpModel model instance &#x27;bkg + line&#x27;&gt;</div><div hidden class=\"sherpa\"><details open><summary>Model</summary><table class=\"model\"><caption>Expression: bkg + line</caption><thead><tr><th>Component</th><th>Parameter</th><th>Thawed</th><th>Value</th><th>Min</th><th>Max</th><th>Units</th></tr></thead><tbody><tr><th class=\"model-odd\" scope=\"rowgroup\" rowspan=1>bkg</th><td>c0</td><td><input disabled type=\"checkbox\" checked></input></td><td>-1.0</td><td>-MAX</td><td>MAX</td><td></td></tr><tr class=\"block\"><th class=\"model-even\" scope=\"rowgroup\" rowspan=2>line</th><td>pos</td><td><input disabled type=\"checkbox\"></input></td><td>5.0</td><td>-MAX</td><td>MAX</td><td></td></tr><tr><td>ampl</td><td><input disabled type=\"checkbox\" checked></input></td><td>-3.0</td><td>-MAX</td><td>MAX</td><td></td></tr></tbody></table></details></div>"
      ],
      "text/plain": [
       "<BinaryOpModel model instance 'bkg + line'>"
      ]
     },
     "execution_count": 150,
     "metadata": {},
     "output_type": "execute_result"
    }
   ],
   "source": [
    "bkg.c0 = -1\n",
    "line.ampl = -3\n",
    "model = bkg + line\n",
    "model"
   ]
  },
  {
   "cell_type": "code",
   "execution_count": null,
   "metadata": {},
   "outputs": [
    {
     "name": "stdout",
     "output_type": "stream",
     "text": [
      "[-1.0, -3.0]\n",
      "3\n",
      "[-1.0, -3.0]\n",
      "3\n",
      "[-1.0, -3.0]\n",
      "322\n",
      "[-1.0, -3.0]\n",
      "3\n"
     ]
    },
    {
     "data": {
      "text/plain": [
       "(<Figure size 1000x600 with 1 Axes>,\n",
       " <Axes: title={'center': 'levmar'}, xlabel='c0', ylabel='ampl'>)"
      ]
     },
     "execution_count": 151,
     "metadata": {},
     "output_type": "execute_result"
    },
    {
     "data": {
      "image/png": "[encoded data removed]",
      "text/plain": [
       "<Figure size 1000x600 with 1 Axes>"
      ]
     },
     "metadata": {},
     "output_type": "display_data"
    }
   ],
   "source": [
    "\n",
    "plot_path(data, model, stat=cstat,\n",
    "          opts=[Scipy(), method, NelderMead(), LevMar()])"
   ]
  },
  {
   "cell_type": "code",
   "execution_count": null,
   "metadata": {},
   "outputs": [],
   "source": []
  },
  {
   "cell_type": "code",
   "execution_count": null,
   "metadata": {},
   "outputs": [],
   "source": []
  },
  {
   "cell_type": "code",
   "execution_count": null,
   "metadata": {},
   "outputs": [],
   "source": []
  },
  {
   "cell_type": "code",
   "execution_count": null,
   "metadata": {},
   "outputs": [],
   "source": []
  },
  {
   "cell_type": "code",
   "execution_count": null,
   "metadata": {},
   "outputs": [
    {
     "name": "stdout",
     "output_type": "stream",
     "text": [
      "WARNING: systematic errors were not found in file '/Users/guenther//data/Chandra/HRZ_43/tgcat/obs_29077_tgid_6655/pha2.gz'\n",
      "statistical errors were found in file '/Users/guenther//data/Chandra/HRZ_43/tgcat/obs_29077_tgid_6655/pha2.gz'\n",
      "but not used; to use them, re-read with use_errors=True\n",
      "read background file /Users/guenther/data/Chandra/HRZ_43/tgcat/obs_29077_tgid_6655/pha2_bg\n",
      "read background_up into a dataset from file /Users/guenther//data/Chandra/HRZ_43/tgcat/obs_29077_tgid_6655/pha2.gz\n",
      "read background_down into a dataset from file /Users/guenther//data/Chandra/HRZ_43/tgcat/obs_29077_tgid_6655/pha2.gz\n",
      "Multiple data sets have been input: 1-2\n"
     ]
    }
   ],
   "source": [
    "ui.load_pha('/Users/guenther//data/Chandra/HRZ_43/tgcat/obs_29077_tgid_6655/pha2.gz')"
   ]
  },
  {
   "cell_type": "code",
   "execution_count": null,
   "metadata": {},
   "outputs": [],
   "source": [
    "ui.load_arf(1, '/Users/guenther//data/Chandra/HRZ_43/tgcat/obs_29077_tgid_6655/leg_-1.arf.gz')\n",
    "ui.load_rmf(1, '/Users/guenther//data/Chandra/HRZ_43/tgcat/obs_29077_tgid_6655/leg_-1.rmf.gz')\n",
    "ui.load_arf(2, '/Users/guenther//data/Chandra/HRZ_43/tgcat/obs_29077_tgid_6655/leg_1.arf.gz')\n",
    "ui.load_rmf(2, '/Users/guenther//data/Chandra/HRZ_43/tgcat/obs_29077_tgid_6655/leg_1.rmf.gz')\n"
   ]
  },
  {
   "cell_type": "code",
   "execution_count": null,
   "metadata": {},
   "outputs": [
    {
     "name": "stdout",
     "output_type": "stream",
     "text": [
      "dataset 1: 0.0999973:0.800544 Energy (keV)\n",
      "dataset 2: 0.0999973:0.800544 Energy (keV)\n",
      "dataset 1: 0.0999973:0.800544 Energy (keV) (unchanged)\n",
      "dataset 2: 0.0999973:0.800544 Energy (keV) (unchanged)\n",
      "dataset 1: 0.0999973:0.800544 Energy (keV) (unchanged)\n",
      "dataset 2: 0.0999973:0.800544 Energy (keV) (unchanged)\n"
     ]
    },
    {
     "data": {
      "image/png": "[encoded data removed]",
      "text/plain": [
       "<Figure size 640x480 with 1 Axes>"
      ]
     },
     "metadata": {},
     "output_type": "display_data"
    }
   ],
   "source": [
    "ui.set_analysis('energy')\n",
    "ui.notice(0.1, 0.8)\n",
    "ui.group_counts(1, 20)\n",
    "ui.group_counts(2, 20)\n",
    "ui.plot_data(1, ylog=True)\n",
    "ui.plot_bkg(1, overplot=True)"
   ]
  },
  {
   "cell_type": "code",
   "execution_count": null,
   "metadata": {},
   "outputs": [],
   "source": [
    "b1 = ui.get_bkg(1)"
   ]
  },
  {
   "cell_type": "code",
   "execution_count": null,
   "metadata": {},
   "outputs": [
    {
     "data": {
      "text/plain": [
       "10.0"
      ]
     },
     "execution_count": 36,
     "metadata": {},
     "output_type": "execute_result"
    }
   ],
   "source": [
    "b1.backscal"
   ]
  },
  {
   "cell_type": "code",
   "execution_count": null,
   "metadata": {},
   "outputs": [],
   "source": [
    "import sherpa"
   ]
  },
  {
   "cell_type": "code",
   "execution_count": null,
   "metadata": {},
   "outputs": [],
   "source": [
    "from sherpa.astro import datastack\n",
    "import os\n",
    "from sherpa.astro.io import read_pha"
   ]
  },
  {
   "cell_type": "code",
   "execution_count": null,
   "metadata": {},
   "outputs": [],
   "source": []
  },
  {
   "cell_type": "code",
   "execution_count": null,
   "metadata": {},
   "outputs": [
    {
     "name": "stdout",
     "output_type": "stream",
     "text": [
      "WARNING: systematic errors were not found in file '/Users/guenther/code/sherpa/sherpa/astro/datastack/tests/data/3c273.pi'\n",
      "statistical errors were found in file '/Users/guenther/code/sherpa/sherpa/astro/datastack/tests/data/3c273.pi'\n",
      "but not used; to use them, re-read with use_errors=True\n",
      "read ARF file /Users/guenther/code/sherpa/sherpa/astro/datastack/tests/data/3c273.arf\n",
      "read RMF file /Users/guenther/code/sherpa/sherpa/astro/datastack/tests/data/3c273.rmf\n",
      "WARNING: systematic errors were not found in file '/Users/guenther/code/sherpa/sherpa/astro/datastack/tests/data/3c273_bg.pi'\n",
      "statistical errors were found in file '/Users/guenther/code/sherpa/sherpa/astro/datastack/tests/data/3c273_bg.pi'\n",
      "but not used; to use them, re-read with use_errors=True\n",
      "read background file /Users/guenther/code/sherpa/sherpa/astro/datastack/tests/data/3c273_bg.pi\n"
     ]
    }
   ],
   "source": [
    "pha = read_pha(os.path.join(os.path.dirname(datastack.__file__), \"tests\", \"data\", \"3c273.pi\"))"
   ]
  },
  {
   "cell_type": "code",
   "execution_count": null,
   "metadata": {},
   "outputs": [],
   "source": [
    "from sherpa.astro.plot import DataPHAPlot"
   ]
  },
  {
   "cell_type": "code",
   "execution_count": null,
   "metadata": {},
   "outputs": [
    {
     "name": "stdout",
     "output_type": "stream",
     "text": [
      "None\n"
     ]
    }
   ],
   "source": [
    "print(pha)"
   ]
  },
  {
   "cell_type": "code",
   "execution_count": null,
   "metadata": {},
   "outputs": [
    {
     "data": {
      "image/png": "[encoded data removed]",
      "text/plain": [
       "<Figure size 640x480 with 1 Axes>"
      ]
     },
     "metadata": {},
     "output_type": "display_data"
    }
   ],
   "source": [
    "plot3c = DataPHAPlot()\n",
    "plot3c.prepare(pha)\n",
    "plot3c.plot(label='3c273')\n",
    "\n",
    "plot3c_bkg = DataPHAPlot()\n",
    "plot3c_bkg.prepare(pha.get_background())\n",
    "plot3c_bkg.plot(overplot=True, label='background')\n",
    "\n",
    "\n"
   ]
  },
  {
   "cell_type": "code",
   "execution_count": null,
   "metadata": {},
   "outputs": [],
   "source": [
    "from astropy.table import Table"
   ]
  },
  {
   "cell_type": "code",
   "execution_count": null,
   "metadata": {},
   "outputs": [
    {
     "name": "stderr",
     "output_type": "stream",
     "text": [
      "/Users/guenther/mambaforge/envs/sherpaciao/lib/python3.11/site-packages/astropy/units/core.py:2145: UnitsWarning: '[10-7W]' did not parse as cds unit: Syntax error parsing unit '[10-7W]' If this is meant to be a custom unit, define it with 'u.def_unit'. To have it recognized inside a file reader or other code, enable it with 'u.add_enabled_units'. For details, see https://docs.astropy.org/en/latest/units/combining_and_defining.html\n",
      "  warnings.warn(msg, UnitsWarning)\n",
      "/Users/guenther/mambaforge/envs/sherpaciao/lib/python3.11/site-packages/astropy/units/core.py:2145: UnitsWarning: '[10-7W]' did not parse as cds unit: Syntax error parsing unit '[10-7W]' If this is meant to be a custom unit, define it with 'u.def_unit'. To have it recognized inside a file reader or other code, enable it with 'u.add_enabled_units'. For details, see https://docs.astropy.org/en/latest/units/combining_and_defining.html\n",
      "  warnings.warn(msg, UnitsWarning)\n"
     ]
    }
   ],
   "source": [
    "tab = Table.read(\"https://content.cld.iop.org/journals/1538-3881/144/4/101/revision1/aj442275t2_mrt.txt\", format='ascii')"
   ]
  },
  {
   "cell_type": "code",
   "execution_count": null,
   "metadata": {},
   "outputs": [
    {
     "data": {
      "text/html": [
       "<div><i>Table length=348</i>\n",
       "<table id=\"table4543227024\" class=\"table-striped table-bordered table-condensed\">\n",
       "<thead><tr><th>ID</th><th>RAdeg</th><th>DEdeg</th><th>Class</th><th>NCts</th><th>FX</th><th>e_FX</th><th>NH</th><th>e_NH</th><th>kT</th><th>e_kT</th><th>Flux</th><th>e_Flux</th><th>logLX</th></tr></thead>\n",
       "<thead><tr><th></th><th>deg</th><th>deg</th><th></th><th>ct</th><th>1e-07 ct / (s cm2)</th><th>1e-07 ct / (s cm2)</th><th>1e+22 / cm2</th><th>1e+22 / cm2</th><th>keV</th><th>keV</th><th>1e-15 mW / m2</th><th>1e-15 mW / m2</th><th>[10-7W]</th></tr></thead>\n",
       "<thead><tr><th>int64</th><th>float64</th><th>float64</th><th>str4</th><th>float64</th><th>float64</th><th>float64</th><th>float64</th><th>float64</th><th>float64</th><th>float64</th><th>float64</th><th>float64</th><th>float64</th></tr></thead>\n",
       "<tr><td>1</td><td>301.763336</td><td>27.482105</td><td>XYSO</td><td>61.5</td><td>30.75</td><td>7.74</td><td>0.6422</td><td>0.1766</td><td>4.2284</td><td>0.0028</td><td>7.849</td><td>1.36222</td><td>29.8855</td></tr>\n",
       "<tr><td>2</td><td>301.766968</td><td>27.470575</td><td>XYSO</td><td>4.6</td><td>3.156</td><td>2.534</td><td>--</td><td>--</td><td>--</td><td>--</td><td>--</td><td>--</td><td>--</td></tr>\n",
       "<tr><td>3</td><td>301.769287</td><td>27.482279</td><td>XYSO</td><td>23.6</td><td>10.28</td><td>4.152</td><td>10.4568</td><td>1.7627</td><td>0.7353</td><td>0.0508</td><td>4.5199</td><td>1.89773</td><td>31.6523</td></tr>\n",
       "<tr><td>4</td><td>301.771271</td><td>27.48877</td><td>XYSO</td><td>25.5</td><td>13.88</td><td>5.29</td><td>1.1996</td><td>--</td><td>1.895</td><td>--</td><td>3.2439</td><td>--</td><td>29.7394</td></tr>\n",
       "<tr><td>5</td><td>301.774353</td><td>27.483128</td><td>XYSO</td><td>23.7</td><td>13.465</td><td>4.87</td><td>--</td><td>--</td><td>--</td><td>--</td><td>--</td><td>--</td><td>--</td></tr>\n",
       "<tr><td>6</td><td>301.774811</td><td>27.48609</td><td>XYSO</td><td>11.4</td><td>4.83</td><td>3.45</td><td>--</td><td>--</td><td>--</td><td>--</td><td>--</td><td>--</td><td>--</td></tr>\n",
       "<tr><td>7</td><td>301.774902</td><td>27.483868</td><td>XYSO</td><td>17.5</td><td>6.926</td><td>3.372</td><td>--</td><td>--</td><td>--</td><td>--</td><td>--</td><td>--</td><td>--</td></tr>\n",
       "<tr><td>8</td><td>301.775055</td><td>27.482403</td><td>XYSO</td><td>7.0</td><td>4.365</td><td>3.183</td><td>--</td><td>--</td><td>--</td><td>--</td><td>--</td><td>--</td><td>--</td></tr>\n",
       "<tr><td>9</td><td>301.776215</td><td>27.480154</td><td>XYSO</td><td>23.5</td><td>13.94</td><td>5.17</td><td>--</td><td>--</td><td>--</td><td>--</td><td>--</td><td>--</td><td>--</td></tr>\n",
       "<tr><td>...</td><td>...</td><td>...</td><td>...</td><td>...</td><td>...</td><td>...</td><td>...</td><td>...</td><td>...</td><td>...</td><td>...</td><td>...</td><td>...</td></tr>\n",
       "<tr><td>30390</td><td>301.963409</td><td>27.397587</td><td>--</td><td>33.5</td><td>--</td><td>--</td><td>--</td><td>--</td><td>--</td><td>--</td><td>--</td><td>--</td><td>--</td></tr>\n",
       "<tr><td>30589</td><td>301.967102</td><td>27.453253</td><td>--</td><td>37.6</td><td>20.073</td><td>10.59</td><td>--</td><td>--</td><td>--</td><td>--</td><td>--</td><td>--</td><td>--</td></tr>\n",
       "<tr><td>31022</td><td>301.975037</td><td>27.491247</td><td>--</td><td>11.3</td><td>7.838</td><td>9.31</td><td>--</td><td>--</td><td>--</td><td>--</td><td>--</td><td>--</td><td>--</td></tr>\n",
       "<tr><td>31028</td><td>301.975098</td><td>27.381866</td><td>--</td><td>10.9</td><td>--</td><td>--</td><td>--</td><td>--</td><td>--</td><td>--</td><td>--</td><td>--</td><td>--</td></tr>\n",
       "<tr><td>31106</td><td>301.976532</td><td>27.466854</td><td>--</td><td>5.5</td><td>-0.374</td><td>8.7</td><td>--</td><td>--</td><td>--</td><td>--</td><td>--</td><td>--</td><td>--</td></tr>\n",
       "<tr><td>32001</td><td>301.993225</td><td>27.382305</td><td>--</td><td>217.4</td><td>83.7</td><td>--</td><td>--</td><td>--</td><td>--</td><td>--</td><td>--</td><td>--</td><td>--</td></tr>\n",
       "<tr><td>32332</td><td>301.999695</td><td>27.447344</td><td>--</td><td>4.9</td><td>--</td><td>--</td><td>--</td><td>--</td><td>--</td><td>--</td><td>--</td><td>--</td><td>--</td></tr>\n",
       "<tr><td>32445</td><td>302.002167</td><td>27.364563</td><td>--</td><td>37.0</td><td>1.35</td><td>--</td><td>--</td><td>--</td><td>--</td><td>--</td><td>--</td><td>--</td><td>--</td></tr>\n",
       "<tr><td>32824</td><td>302.00946</td><td>27.471827</td><td>--</td><td>29.6</td><td>7.35</td><td>--</td><td>--</td><td>--</td><td>--</td><td>--</td><td>--</td><td>--</td><td>--</td></tr>\n",
       "</table></div>"
      ],
      "text/plain": [
       "<Table length=348>\n",
       "  ID    RAdeg      DEdeg   Class ...   e_kT       Flux         e_Flux     logLX \n",
       "         deg        deg          ...   keV   1e-15 mW / m2 1e-15 mW / m2 [10-7W]\n",
       "int64  float64    float64   str4 ... float64    float64       float64    float64\n",
       "----- ---------- --------- ----- ... ------- ------------- ------------- -------\n",
       "    1 301.763336 27.482105  XYSO ...  0.0028         7.849       1.36222 29.8855\n",
       "    2 301.766968 27.470575  XYSO ...      --            --            --      --\n",
       "    3 301.769287 27.482279  XYSO ...  0.0508        4.5199       1.89773 31.6523\n",
       "    4 301.771271  27.48877  XYSO ...      --        3.2439            -- 29.7394\n",
       "    5 301.774353 27.483128  XYSO ...      --            --            --      --\n",
       "    6 301.774811  27.48609  XYSO ...      --            --            --      --\n",
       "    7 301.774902 27.483868  XYSO ...      --            --            --      --\n",
       "    8 301.775055 27.482403  XYSO ...      --            --            --      --\n",
       "    9 301.776215 27.480154  XYSO ...      --            --            --      --\n",
       "  ...        ...       ...   ... ...     ...           ...           ...     ...\n",
       "30390 301.963409 27.397587    -- ...      --            --            --      --\n",
       "30589 301.967102 27.453253    -- ...      --            --            --      --\n",
       "31022 301.975037 27.491247    -- ...      --            --            --      --\n",
       "31028 301.975098 27.381866    -- ...      --            --            --      --\n",
       "31106 301.976532 27.466854    -- ...      --            --            --      --\n",
       "32001 301.993225 27.382305    -- ...      --            --            --      --\n",
       "32332 301.999695 27.447344    -- ...      --            --            --      --\n",
       "32445 302.002167 27.364563    -- ...      --            --            --      --\n",
       "32824  302.00946 27.471827    -- ...      --            --            --      --"
      ]
     },
     "execution_count": 3,
     "metadata": {},
     "output_type": "execute_result"
    }
   ],
   "source": [
    "tab"
   ]
  },
  {
   "cell_type": "code",
   "execution_count": null,
   "metadata": {},
   "outputs": [],
   "source": [
    "import matplotlib.pyplot as plt\n",
    "import numpy as np"
   ]
  },
  {
   "cell_type": "code",
   "execution_count": null,
   "metadata": {},
   "outputs": [
    {
     "name": "stderr",
     "output_type": "stream",
     "text": [
      "/var/folders/r7/f0qh27rn207bwwvt3s7v5gh40000gn/T/ipykernel_7277/1295425385.py:1: RuntimeWarning: divide by zero encountered in log10\n",
      "  plt.hist(np.log10(tab['FX']) - 7,\n",
      "/var/folders/r7/f0qh27rn207bwwvt3s7v5gh40000gn/T/ipykernel_7277/1295425385.py:1: RuntimeWarning: invalid value encountered in log10\n",
      "  plt.hist(np.log10(tab['FX']) - 7,\n"
     ]
    },
    {
     "data": {
      "text/plain": [
       "(array([18., 27., 26., 24., 24., 19., 12., 18., 12., 15., 19., 13.,  3.,\n",
       "         2.,  5.,  3.,  0.,  0.,  3.,  1.,  1.,  0.,  0.,  0.]),\n",
       " array([-6.5, -6.4, -6.3, -6.2, -6.1, -6. , -5.9, -5.8, -5.7, -5.6, -5.5,\n",
       "        -5.4, -5.3, -5.2, -5.1, -5. , -4.9, -4.8, -4.7, -4.6, -4.5, -4.4,\n",
       "        -4.3, -4.2, -4.1]),\n",
       " <BarContainer object of 24 artists>)"
      ]
     },
     "execution_count": 12,
     "metadata": {},
     "output_type": "execute_result"
    },
    {
     "data": {
      "image/png": "[encoded data removed]",
      "text/plain": [
       "<Figure size 640x480 with 1 Axes>"
      ]
     },
     "metadata": {},
     "output_type": "display_data"
    }
   ],
   "source": [
    "plt.hist(np.log10(tab['FX']) - 7, \n",
    "         bins=np.arange(-6.5, -4., 0.1))"
   ]
  },
  {
   "cell_type": "code",
   "execution_count": null,
   "metadata": {},
   "outputs": [
    {
     "ename": "NameError",
     "evalue": "name 'tab' is not defined",
     "output_type": "error",
     "traceback": [
      "\u001b[0;31m---------------------------------------------------------------------------\u001b[0m",
      "\u001b[0;31mNameError\u001b[0m                                 Traceback (most recent call last)",
      "Cell \u001b[0;32mIn[4], line 2\u001b[0m\n\u001b[1;32m      1\u001b[0m \u001b[38;5;28;01mimport\u001b[39;00m\u001b[38;5;250m \u001b[39m\u001b[38;5;21;01mnumpy\u001b[39;00m\u001b[38;5;250m \u001b[39m\u001b[38;5;28;01mas\u001b[39;00m\u001b[38;5;250m \u001b[39m\u001b[38;5;21;01mnp\u001b[39;00m\n\u001b[0;32m----> 2\u001b[0m hist, edges \u001b[38;5;241m=\u001b[39m np\u001b[38;5;241m.\u001b[39mhistogram(np\u001b[38;5;241m.\u001b[39mlog10(\u001b[43mtab\u001b[49m[\u001b[38;5;124m'\u001b[39m\u001b[38;5;124mFX\u001b[39m\u001b[38;5;124m'\u001b[39m]) \u001b[38;5;241m-\u001b[39m \u001b[38;5;241m7\u001b[39m,\n\u001b[1;32m      3\u001b[0m                            bins\u001b[38;5;241m=\u001b[39mnp\u001b[38;5;241m.\u001b[39marange(\u001b[38;5;241m-\u001b[39m\u001b[38;5;241m6.5\u001b[39m, \u001b[38;5;241m-\u001b[39m\u001b[38;5;241m4.\u001b[39m, \u001b[38;5;241m0.2\u001b[39m))\n",
      "\u001b[0;31mNameError\u001b[0m: name 'tab' is not defined"
     ]
    }
   ],
   "source": [
    "import numpy as np\n",
    "hist, edges = np.histogram(np.log10(tab['FX']) - 7,\n",
    "                           bins=np.arange(-6.5, -4., 0.2))"
   ]
  },
  {
   "cell_type": "code",
   "execution_count": null,
   "metadata": {},
   "outputs": [
    {
     "name": "stdout",
     "output_type": "stream",
     "text": [
      "from sherpa.data import Data1DInt\n",
      "from sherpa.models import Gauss1D\n",
      "from sherpa.stats import CStat\n",
      "from sherpa.optmethods import LevMar\n",
      "from sherpa.fit import Fit\n",
      "xrayflux = Data1DInt('xrayflux', edges[:-1], edges[1:], hist)\n",
      "hist, edges = np.histogram(np.log10(tab['FX']) - 7,\n",
      "                           bins=np.arange(-6.5, -4., 0.2))\n",
      "import numpy as np\n",
      "hist, edges = np.histogram(np.log10(tab['FX']) - 7,\n",
      "                           bins=np.arange(-6.5, -4., 0.2))\n",
      "hist\n"
     ]
    }
   ],
   "source": [
    "hist"
   ]
  },
  {
   "cell_type": "code",
   "execution_count": null,
   "metadata": {},
   "outputs": [
    {
     "data": {
      "text/plain": [
       "array([-6.5, -6.3, -6.1, -5.9, -5.7, -5.5, -5.3, -5.1, -4.9, -4.7, -4.5,\n",
       "       -4.3, -4.1])"
      ]
     },
     "execution_count": 28,
     "metadata": {},
     "output_type": "execute_result"
    }
   ],
   "source": [
    "edges"
   ]
  },
  {
   "cell_type": "code",
   "execution_count": null,
   "metadata": {},
   "outputs": [
    {
     "data": {
      "text/plain": [
       "(12, 13)"
      ]
     },
     "execution_count": 29,
     "metadata": {},
     "output_type": "execute_result"
    }
   ],
   "source": [
    "len(hist), len(edges)"
   ]
  },
  {
   "cell_type": "code",
   "execution_count": null,
   "metadata": {},
   "outputs": [],
   "source": [
    "from sherpa.data import Data1DInt\n",
    "from sherpa.models import Gauss1D\n",
    "from sherpa.stats import CStat\n",
    "from sherpa.optmethods import LevMar\n",
    "from sherpa.fit import Fit"
   ]
  },
  {
   "cell_type": "code",
   "execution_count": null,
   "metadata": {},
   "outputs": [
    {
     "ename": "NameError",
     "evalue": "name 'edges' is not defined",
     "output_type": "error",
     "traceback": [
      "\u001b[0;31m---------------------------------------------------------------------------\u001b[0m",
      "\u001b[0;31mNameError\u001b[0m                                 Traceback (most recent call last)",
      "Cell \u001b[0;32mIn[2], line 1\u001b[0m\n\u001b[0;32m----> 1\u001b[0m xrayflux \u001b[38;5;241m=\u001b[39m Data1DInt(\u001b[38;5;124m'\u001b[39m\u001b[38;5;124mxrayflux\u001b[39m\u001b[38;5;124m'\u001b[39m, \u001b[43medges\u001b[49m[:\u001b[38;5;241m-\u001b[39m\u001b[38;5;241m1\u001b[39m], edges[\u001b[38;5;241m1\u001b[39m:], hist)\n",
      "\u001b[0;31mNameError\u001b[0m: name 'edges' is not defined"
     ]
    }
   ],
   "source": [
    "xrayflux = Data1DInt('xrayflux', edges[:-1], edges[1:], hist)"
   ]
  },
  {
   "cell_type": "code",
   "execution_count": 18,
   "metadata": {},
   "outputs": [],
   "source": [
    "    >>> import numpy as np\n",
    "    >>> from sherpa.data import Data1DInt\n",
    "    >>> from sherpa.models import Gauss1D\n",
    "    >>> from sherpa.stats import CStat\n",
    "    >>> from sherpa.optmethods import LevMar\n",
    "    >>> from sherpa.fit import Fit\n",
    "    >>> \n",
    "    >>> hist = np.array([45, 50, 43, 30, 27, 32,  5,  8,  0,  4,  1,  0])\n",
    "    >>> edges = np.array([-6.5, -6.3, -6.1, -5.9, -5.7, -5.5, -5.3, -5.1, -4.9, -4.7, -4.5,\n",
    "    ...    -4.3, -4.1])\n",
    "    >>> xrayflux = Data1DInt('xrayflux', edges[:-1], edges[1:], hist)"
   ]
  },
  {
   "cell_type": "code",
   "execution_count": 19,
   "metadata": {},
   "outputs": [],
   "source": [
    "xraydist = Gauss1D('xraydist')\n",
    "xfit = Fit(data=xrayflux, model=xraydist, stat=CStat(), method=LevMar())\n"
   ]
  },
  {
   "cell_type": "code",
   "execution_count": 20,
   "metadata": {},
   "outputs": [
    {
     "name": "stdout",
     "output_type": "stream",
     "text": [
      "datasets       = None\n",
      "itermethodname = none\n",
      "methodname     = levmar\n",
      "statname       = cstat\n",
      "succeeded      = True\n",
      "parnames       = ('xraydist.fwhm', 'xraydist.pos', 'xraydist.ampl')\n",
      "parvals        = (1.502103404881948, -6.254572554858249, 235.94188464394244)\n",
      "statval        = 24.122296228170086\n",
      "istatval       = 60.989781628740936\n",
      "dstatval       = 36.86748540057085\n",
      "numpoints      = 12\n",
      "dof            = 9\n",
      "qval           = 0.004112093257497959\n",
      "rstat          = 2.6802551364633427\n",
      "message        = successful termination\n",
      "nfev           = 25\n"
     ]
    }
   ],
   "source": [
    "xfit.guess()\n",
    "print(xfit.fit())"
   ]
  },
  {
   "cell_type": "code",
   "execution_count": 21,
   "metadata": {},
   "outputs": [
    {
     "ename": "ImportError",
     "evalue": "cannot import name 'Data1Plot' from 'sherpa.plot' (/Users/guenther/code/sherpa/sherpa/plot/__init__.py)",
     "output_type": "error",
     "traceback": [
      "\u001b[31m---------------------------------------------------------------------------\u001b[39m",
      "\u001b[31mImportError\u001b[39m                               Traceback (most recent call last)",
      "\u001b[36mCell\u001b[39m\u001b[36m \u001b[39m\u001b[32mIn[21]\u001b[39m\u001b[32m, line 1\u001b[39m\n\u001b[32m----> \u001b[39m\u001b[32m1\u001b[39m \u001b[38;5;28;01mfrom\u001b[39;00m\u001b[38;5;250m \u001b[39m\u001b[34;01msherpa\u001b[39;00m\u001b[34;01m.\u001b[39;00m\u001b[34;01mplot\u001b[39;00m\u001b[38;5;250m \u001b[39m\u001b[38;5;28;01mimport\u001b[39;00m Data1Plot\n",
      "\u001b[31mImportError\u001b[39m: cannot import name 'Data1Plot' from 'sherpa.plot' (/Users/guenther/code/sherpa/sherpa/plot/__init__.py)"
     ]
    }
   ],
   "source": [
    "from sherpa.plot import Data1Plot"
   ]
  },
  {
   "cell_type": "code",
   "execution_count": null,
   "metadata": {},
   "outputs": [
    {
     "name": "stdout",
     "output_type": "stream",
     "text": [
      "1\n"
     ]
    }
   ],
   "source": [
    "print(1)"
   ]
  },
  {
   "cell_type": "code",
   "execution_count": 22,
   "metadata": {},
   "outputs": [],
   "source": [
    "from sherpa.models import Gauss1D\n",
    "line1 = Gauss1D('line1')\n",
    "line1.pos = 6716\n",
    "line1.fwhm = 2\n",
    "line1.ampl = 0.5\n",
    "line2 = Gauss1D('line2')\n",
    "line2.pos = 6731\n",
    "line2.fwhm = 2\n",
    "line2.ampl = 1"
   ]
  },
  {
   "cell_type": "code",
   "execution_count": 23,
   "metadata": {},
   "outputs": [],
   "source": [
    "    >>> import numpy as np\n",
    "    >>> wave_order26 = np.arange(6686, 6720, 0.5)\n",
    "    >>> wave_order27 = np.arange(6705, 6735, 0.6)\n",
    "    >>> rng = np.random.default_rng()\n",
    "    >>> # Flux is normalized to 1, but not exactly right\n",
    "    >>> flux_order26 = rng.normal(0.98, 0.1, size=len(wave_order26))\n",
    "    >>> flux_order26 += line1(wave_order26)\n",
    "    >>> flux_order27 = rng.normal(1.11, 0.1, size=len(wave_order27))\n",
    "    >>> flux_order27 += line1(wave_order27) + line2(wave_order27)"
   ]
  },
  {
   "cell_type": "code",
   "execution_count": 24,
   "metadata": {},
   "outputs": [
    {
     "data": {
      "text/plain": [
       "[<matplotlib.lines.Line2D at 0x16e397d50>]"
      ]
     },
     "execution_count": 24,
     "metadata": {},
     "output_type": "execute_result"
    },
    {
     "data": {
      "image/png": "[encoded data removed]",
      "text/plain": [
       "<Figure size 640x480 with 1 Axes>"
      ]
     },
     "metadata": {},
     "output_type": "display_data"
    }
   ],
   "source": [
    "import matplotlib.pyplot as plt\n",
    "\n",
    "plt.plot(wave_order26, flux_order26)\n",
    "plt.plot(wave_order27, flux_order27)"
   ]
  },
  {
   "cell_type": "code",
   "execution_count": null,
   "metadata": {},
   "outputs": [],
   "source": []
  },
  {
   "cell_type": "code",
   "execution_count": null,
   "metadata": {},
   "outputs": [],
   "source": [
    "from sherpa.models import Const1D, Gauss1D"
   ]
  },
  {
   "cell_type": "code",
   "execution_count": null,
   "metadata": {},
   "outputs": [],
   "source": [
    "line1 = Gauss1D('line1')\n",
    "line1.pos = 6716\n",
    "line1.fwhm = 2\n",
    "line1.ampl = 0.5\n",
    "line2 = Gauss1D('line2')\n",
    "line2.pos = 6731\n",
    "line2.fwhm = 2\n",
    "line2.ampl = 1"
   ]
  },
  {
   "cell_type": "code",
   "execution_count": null,
   "metadata": {},
   "outputs": [],
   "source": [
    "from sherpa.models import Const1D, Gauss1D\n",
    "s_ii_6716 = Gauss1D('s_ii_6716')\n",
    "s_ii_6716.pos = 6716\n",
    "s_ii_6716.fwhm = 1.\n",
    "s_ii_6716.ampl = 1.\n",
    "s_ii_6731 = Gauss1D('s_ii_6731')\n",
    "s_ii_6731.pos = 6731.\n",
    "s_ii_6731.fwhm = s_ii_6716.fwhm\n",
    "s_ii_6731.ampl = 1.\n",
    "cont = Const1D('cont')\n",
    "extra_cont_order27 = Const1D('extra_cont_order27')\n",
    "model_26 = cont + s_ii_6716 + s_ii_6731\n",
    "model_27 = cont + extra_cont_order27 + s_ii_6716 + s_ii_6731"
   ]
  },
  {
   "cell_type": "code",
   "execution_count": null,
   "metadata": {},
   "outputs": [],
   "source": [
    "from sherpa.data import Data1D\n",
    "import numpy as np\n",
    "flux_err_26 = 0.1 * np.ones_like(flux_order26)\n",
    "flux_err_27 = 0.1 * np.ones_like(flux_order27)\n",
    "data_26 = Data1D('order26', wave_order26, flux_order26, staterror=flux_err_26)\n",
    "data_27 = Data1D('order27', wave_order27, flux_order27, staterror=flux_err_27)\n"
   ]
  },
  {
   "cell_type": "code",
   "execution_count": null,
   "metadata": {},
   "outputs": [],
   "source": [
    "from sherpa.data import DataSimulFit\n",
    "from sherpa.models import SimulFitModel\n",
    "from sherpa.stats import Chi2, Cash\n",
    "from sherpa.optmethods import LevMar\n",
    "from sherpa.fit import Fit\n",
    "from sherpa.optmethods.optoptimagic import Optimagic"
   ]
  },
  {
   "cell_type": "code",
   "execution_count": null,
   "metadata": {},
   "outputs": [
    {
     "name": "stdout",
     "output_type": "stream",
     "text": [
      "WARNING: fit failed: Desired error not necessarily achieved due to precision loss.\n"
     ]
    }
   ],
   "source": [
    "\n",
    "\n",
    "data = DataSimulFit(name='both orders', datasets=(data_26, data_27))\n",
    "model = SimulFitModel(name='both', parts=(model_26, model_27))\n",
    "\n",
    "opt = Optimagic()\n",
    "opt.algorithm=\"scipy_bfgs\"\n",
    "opt.scaling = True\n",
    "\n",
    "fit = Fit(data, model, method=opt, stat=Cash())\n",
    "result = fit.fit()"
   ]
  },
  {
   "cell_type": "code",
   "execution_count": null,
   "metadata": {},
   "outputs": [
    {
     "name": "stderr",
     "output_type": "stream",
     "text": [
      "/var/folders/r7/f0qh27rn207bwwvt3s7v5gh40000gn/T/ipykernel_51154/4212729545.py:7: UserWarning: No artists with labels found to put in legend.  Note that artists whose label start with an underscore are ignored when legend() is called with no argument.\n",
      "  plt.legend()\n"
     ]
    },
    {
     "data": {
      "text/plain": [
       "<matplotlib.legend.Legend at 0x13364ccd0>"
      ]
     },
     "execution_count": 31,
     "metadata": {},
     "output_type": "execute_result"
    },
    {
     "data": {
      "image/png": "[encoded data removed]",
      "text/plain": [
       "<Figure size 640x480 with 1 Axes>"
      ]
     },
     "metadata": {},
     "output_type": "display_data"
    }
   ],
   "source": [
    "plt.plot(wave_order26, flux_order26, 'o')\n",
    "plt.plot(wave_order27, flux_order27, 'o')\n",
    "plt.plot(wave_order26, model_26(wave_order26), color='C0')\n",
    "plt.plot(wave_order27, model_27(wave_order27), color='C1')\n",
    "plt.xlabel('Wavelength (Angstrom)')\n",
    "plt.ylabel('Flux (normalized)')\n",
    "plt.legend()"
   ]
  },
  {
   "cell_type": "code",
   "execution_count": null,
   "metadata": {},
   "outputs": [
    {
     "data": {
      "text/html": [
       "<style>/*\n",
       "Copyright (C) 2020  Smithsonian Astrophysical Observatory\n",
       "\n",
       "\n",
       " This program is free software; you can redistribute it and/or modify\n",
       " it under the terms of the GNU General Public License as published by\n",
       " the Free Software Foundation; either version 3 of the License, or\n",
       " (at your option) any later version.\n",
       "\n",
       " This program is distributed in the hope that it will be useful,\n",
       " but WITHOUT ANY WARRANTY; without even the implied warranty of\n",
       " MERCHANTABILITY or FITNESS FOR A PARTICULAR PURPOSE.  See the\n",
       " GNU General Public License for more details.\n",
       "\n",
       " You should have received a copy of the GNU General Public License along\n",
       " with this program; if not, write to the Free Software Foundation, Inc.,\n",
       " 51 Franklin Street, Fifth Floor, Boston, MA 02110-1301 USA.\n",
       "\n",
       "*/\n",
       "\n",
       ":root {\n",
       "  --sherpa-border-color: var(--jp-border-color2, #e0e0e0);\n",
       "  --sherpa-background-color: var(--jp-layout-color0, white);\n",
       "  --sherpa-background-color-row-even: var(--jp-layout-color1, white);\n",
       "  --sherpa-background-color-row-odd: var(--jp-layout-color2, #eeeeee);\n",
       "\n",
       "  /* https://medium.com/ge-design/iot-cool-gray-is-a-great-background-color-for-data-visualization-ebf18c318418 */\n",
       "  --sherpa-background-color-dark1: #EBEFF2;\n",
       "  --sherpa-background-color-dark2: #D8E0E5;\n",
       "}\n",
       "\n",
       "div.sherpa-text-fallback {\n",
       "    display: none;\n",
       "}\n",
       "\n",
       "div.sherpa {\n",
       "    display: block;\n",
       "}\n",
       "\n",
       "div.sherpa details summary {\n",
       "    display: list-item;  /* needed for notebook, not lab */\n",
       "    font-size: larger;\n",
       "}\n",
       "\n",
       "div.sherpa details div.datavals {\n",
       "    display: grid;\n",
       "    grid-template-columns: 1fr 3fr;\n",
       "    column-gap: 0.5em;\n",
       "}\n",
       "\n",
       "div.sherpa div.dataname {\n",
       "    font-weight: bold;\n",
       "    border-right: 1px solid var(--sherpa-border-color);\n",
       "}\n",
       "\n",
       "div.sherpa div.dataval { }\n",
       "\n",
       "div.sherpa div.datavals div:nth-child(4n + 1) ,\n",
       "div.sherpa div.datavals div:nth-child(4n + 2) {\n",
       "    background: var(--sherpa-background-color-row-odd);\n",
       "}\n",
       "\n",
       "div.sherpa table.model tbody {\n",
       "    border-bottom: 1px solid var(--sherpa-border-color);\n",
       "}\n",
       "\n",
       "div.sherpa table.model tr.block {\n",
       "    border-top: 1px solid var(--sherpa-border-color);\n",
       "}\n",
       "\n",
       "div.sherpa table.model th.model-odd ,\n",
       "div.sherpa table.model th.model-even {\n",
       "    border-right: 1px solid var(--sherpa-border-color);\n",
       "}\n",
       "\n",
       "div.sherpa table.model th.model-odd {\n",
       "    background: var(--sherpa-background-color-dark1);\n",
       "}\n",
       "\n",
       "div.sherpa table.model th.model-even {\n",
       "    background: var(--sherpa-background-color-dark2);\n",
       "}\n",
       "\n",
       "div.sherpa .failed {\n",
       "    background: orange;\n",
       "    font-size: large;\n",
       "    padding: 1em;\n",
       "}\n",
       "</style><div class=\"sherpa-text-fallback\">&lt;Fit results instance&gt;</div><div hidden class=\"sherpa\"><p class=\"failed\"><strong>The fit failed:</strong> Desired error not necessarily achieved due to precision loss..</p><details open><summary>Fit parameters</summary><table class=\"fit\"><thead><tr><th>Parameter</th><th>Best-fit value</th></tr></thead><tbody><tr><td>cont.c0</td><td>    0.970442</td></tr><tr><td>s_ii_6716.fwhm</td><td>     1.97713</td></tr><tr><td>s_ii_6716.pos</td><td>     6715.91</td></tr><tr><td>s_ii_6716.ampl</td><td>    0.501301</td></tr><tr><td>s_ii_6731.pos</td><td>     6731.14</td></tr><tr><td>s_ii_6731.ampl</td><td>     1.01968</td></tr><tr><td>extra_cont_order27.c0</td><td>    0.134638</td></tr></tbody></table></details><details><summary>Summary (7)</summary><div class=\"datavals\"><div class=\"dataname\">Method</div><div class=\"dataval\">optimagic</div><div class=\"dataname\">Statistic</div><div class=\"dataval\">cash</div><div class=\"dataname\">Final statistic</div><div class=\"dataval\">231.377</div><div class=\"dataname\">Initial statistic</div><div class=\"dataval\">231.377</div><div class=\"dataname\">&#916; statistic</div><div class=\"dataval\">0</div><div class=\"dataname\">Number of data points</div><div class=\"dataval\">118</div><div class=\"dataname\">Degrees of freedom</div><div class=\"dataval\">111</div></div></details></div>"
      ],
      "text/plain": [
       "<Fit results instance>"
      ]
     },
     "execution_count": 32,
     "metadata": {},
     "output_type": "execute_result"
    }
   ],
   "source": [
    "result"
   ]
  },
  {
   "cell_type": "code",
   "execution_count": null,
   "metadata": {},
   "outputs": [],
   "source": [
    "result.extra_output['optimagic result'].n_fun_evals"
   ]
  },
  {
   "cell_type": "code",
   "execution_count": null,
   "metadata": {},
   "outputs": [],
   "source": [
    "import optimagaic as om"
   ]
  },
  {
   "cell_type": "code",
   "execution_count": null,
   "metadata": {},
   "outputs": [
    {
     "data": {
      "text/plain": [
       "optimagic.parameters.bounds.Bounds"
      ]
     },
     "execution_count": 37,
     "metadata": {},
     "output_type": "execute_result"
    }
   ],
   "source": [
    "om.Bounds()"
   ]
  },
  {
   "cell_type": "code",
   "execution_count": null,
   "metadata": {},
   "outputs": [],
   "source": [
    "import numpy as np"
   ]
  },
  {
   "cell_type": "code",
   "execution_count": null,
   "metadata": {},
   "outputs": [
    {
     "data": {
      "text/plain": [
       "<function optimagic.mark.least_squares(func: ~VectorFuncT) -> ~VectorFuncT>"
      ]
     },
     "execution_count": 6,
     "metadata": {},
     "output_type": "execute_result"
    }
   ],
   "source": [
    "om.mark.least_squares"
   ]
  },
  {
   "cell_type": "code",
   "execution_count": null,
   "metadata": {},
   "outputs": [
    {
     "data": {
      "text/plain": [
       "(<function __main__.f(x)>, <function __main__.f2(x)>)"
      ]
     },
     "execution_count": 7,
     "metadata": {},
     "output_type": "execute_result"
    }
   ],
   "source": [
    "@om.mark.least_squares\n",
    "def f(x):\n",
    "    return np.sum((x - 1)**2)\n",
    "\n",
    "def f2(x):\n",
    "    return np.sum((x - 1)**2)\n",
    "\n",
    "f3 = om.mark.least_squares(f2)\n",
    "\n",
    "f, f3"
   ]
  },
  {
   "cell_type": "code",
   "execution_count": null,
   "metadata": {},
   "outputs": [
    {
     "data": {
      "text/plain": [
       "<AggregationLevel.LEAST_SQUARES: 'least_squares'>"
      ]
     },
     "execution_count": 9,
     "metadata": {},
     "output_type": "execute_result"
    }
   ],
   "source": [
    "f._problem_type"
   ]
  },
  {
   "cell_type": "code",
   "execution_count": null,
   "metadata": {},
   "outputs": [],
   "source": [
    "import numpy as np\n",
    "\n",
    "\n",
    "import optimagic as om"
   ]
  },
  {
   "cell_type": "code",
   "execution_count": null,
   "metadata": {},
   "outputs": [],
   "source": [
    "def sphere(params):\n",
    "    return params @ params"
   ]
  },
  {
   "cell_type": "code",
   "execution_count": null,
   "metadata": {},
   "outputs": [],
   "source": [
    "lbfgsb_res = om.minimize(\n",
    "    fun=sphere,\n",
    "    params=np.arange(5),\n",
    "    algorithm=\"scipy_bfgs\"\n",
    ")\n"
   ]
  },
  {
   "cell_type": "code",
   "execution_count": null,
   "metadata": {},
   "outputs": [
    {
     "data": {
      "text/plain": [
       "True"
      ]
     },
     "execution_count": 25,
     "metadata": {},
     "output_type": "execute_result"
    }
   ],
   "source": [
    "lbfgsb_res.jac is None"
   ]
  },
  {
   "cell_type": "code",
   "execution_count": null,
   "metadata": {},
   "outputs": [],
   "source": []
  },
  {
   "cell_type": "code",
   "execution_count": null,
   "metadata": {},
   "outputs": [
    {
     "data": {
      "text/plain": [
       "4"
      ]
     },
     "execution_count": 26,
     "metadata": {},
     "output_type": "execute_result"
    }
   ],
   "source": [
    "lbfgsb_res.nfev"
   ]
  },
  {
   "cell_type": "code",
   "execution_count": null,
   "metadata": {},
   "outputs": [
    {
     "ename": "SyntaxError",
     "evalue": "invalid syntax (4239228252.py, line 1)",
     "output_type": "error",
     "traceback": [
      "  \u001b[36mCell\u001b[39m\u001b[36m \u001b[39m\u001b[32mIn[16]\u001b[39m\u001b[32m, line 1\u001b[39m\n\u001b[31m    \u001b[39m\u001b[31mpass params when creating optmize object\u001b[39m\n         ^\n\u001b[31mSyntaxError\u001b[39m\u001b[31m:\u001b[39m invalid syntax\n"
     ]
    }
   ],
   "source": [
    "pass params when creating optmize object"
   ]
  },
  {
   "cell_type": "code",
   "execution_count": null,
   "metadata": {},
   "outputs": [
    {
     "ename": "TypeError",
     "evalue": "LevMar.__init__() got an unexpected keyword argument 'factor'",
     "output_type": "error",
     "traceback": [
      "\u001b[31m---------------------------------------------------------------------------\u001b[39m",
      "\u001b[31mTypeError\u001b[39m                                 Traceback (most recent call last)",
      "\u001b[36mCell\u001b[39m\u001b[36m \u001b[39m\u001b[32mIn[20]\u001b[39m\u001b[32m, line 1\u001b[39m\n\u001b[32m----> \u001b[39m\u001b[32m1\u001b[39m lmopt = \u001b[43mLevMar\u001b[49m\u001b[43m(\u001b[49m\u001b[43mfactor\u001b[49m\u001b[43m=\u001b[49m\u001b[32;43m20\u001b[39;49m\u001b[43m)\u001b[49m\n\u001b[32m      2\u001b[39m lmopt.default_config\n",
      "\u001b[31mTypeError\u001b[39m: LevMar.__init__() got an unexpected keyword argument 'factor'"
     ]
    }
   ],
   "source": [
    "lmopt = LevMar(factor=20)\n",
    "lmopt.default_config"
   ]
  },
  {
   "cell_type": "code",
   "execution_count": null,
   "metadata": {},
   "outputs": [
    {
     "data": {
      "text/plain": [
       "['nag_dfols',\n",
       " 'pounders',\n",
       " 'scipy_ls_dogbox',\n",
       " 'scipy_ls_lm',\n",
       " 'scipy_ls_trf',\n",
       " 'tao_pounders',\n",
       " 'tranquilo_ls']"
      ]
     },
     "execution_count": 13,
     "metadata": {},
     "output_type": "execute_result"
    }
   ],
   "source": [
    "import optimagic as om\n",
    "om.algos.LeastSquares.AllNames"
   ]
  },
  {
   "cell_type": "code",
   "execution_count": null,
   "metadata": {},
   "outputs": [
    {
     "data": {
      "text/plain": [
       "['bhhh']"
      ]
     },
     "execution_count": 14,
     "metadata": {},
     "output_type": "execute_result"
    }
   ],
   "source": [
    "om.algos.Likelihood.AllNames"
   ]
  },
  {
   "cell_type": "code",
   "execution_count": null,
   "metadata": {},
   "outputs": [
    {
     "data": {
      "text/plain": [
       "True"
      ]
     },
     "execution_count": 32,
     "metadata": {},
     "output_type": "execute_result"
    }
   ],
   "source": [
    "om.algos.scipy_differential_evolution.algo_info.supports_bounds"
   ]
  },
  {
   "cell_type": "code",
   "execution_count": null,
   "metadata": {},
   "outputs": [
    {
     "name": "stdout",
     "output_type": "stream",
     "text": [
      "AlgoInfo(name='scipy_powell', solver_type=<AggregationLevel.SCALAR: 'scalar'>, is_available=True, is_global=False, needs_jac=False, needs_hess=False, supports_parallelism=False, supports_bounds=True, supports_linear_constraints=False, supports_nonlinear_constraints=False, disable_history=False)\n"
     ]
    }
   ],
   "source": [
    "print(om.algos.scipy_powell.algo_info)"
   ]
  },
  {
   "cell_type": "code",
   "execution_count": null,
   "metadata": {},
   "outputs": [],
   "source": [
    "algo = \"scipy_lbfgsb\""
   ]
  },
  {
   "cell_type": "code",
   "execution_count": null,
   "metadata": {},
   "outputs": [],
   "source": [
    "a = getattr(om.algos, algo)"
   ]
  },
  {
   "cell_type": "code",
   "execution_count": null,
   "metadata": {},
   "outputs": [
    {
     "data": {
      "text/plain": [
       "True"
      ]
     },
     "execution_count": 58,
     "metadata": {},
     "output_type": "execute_result"
    }
   ],
   "source": [
    "import optimagic as om\n",
    "from optimagic.typing import AggregationLevel\n",
    "a.algo_info.solver_type == AggregationLevel.LI"
   ]
  },
  {
   "cell_type": "code",
   "execution_count": null,
   "metadata": {},
   "outputs": [
    {
     "data": {
      "text/plain": [
       "<Optimagic optimization method instance 'optimagic.minimize'>"
      ]
     },
     "execution_count": 39,
     "metadata": {},
     "output_type": "execute_result"
    }
   ],
   "source": []
  },
  {
   "cell_type": "code",
   "execution_count": null,
   "metadata": {},
   "outputs": [
    {
     "ename": "AttributeError",
     "evalue": "'Algorithms' object has no attribute 'adf'",
     "output_type": "error",
     "traceback": [
      "\u001b[31m---------------------------------------------------------------------------\u001b[39m",
      "\u001b[31mAttributeError\u001b[39m                            Traceback (most recent call last)",
      "\u001b[36mCell\u001b[39m\u001b[36m \u001b[39m\u001b[32mIn[50]\u001b[39m\u001b[32m, line 1\u001b[39m\n\u001b[32m----> \u001b[39m\u001b[32m1\u001b[39m \u001b[38;5;28;43mgetattr\u001b[39;49m\u001b[43m(\u001b[49m\u001b[43mom\u001b[49m\u001b[43m.\u001b[49m\u001b[43malgos\u001b[49m\u001b[43m,\u001b[49m\u001b[33;43m'\u001b[39;49m\u001b[33;43madf\u001b[39;49m\u001b[33;43m'\u001b[39;49m\u001b[43m)\u001b[49m\n",
      "\u001b[31mAttributeError\u001b[39m: 'Algorithms' object has no attribute 'adf'"
     ]
    }
   ],
   "source": [
    "getattr(om.algos,'adf')"
   ]
  },
  {
   "cell_type": "code",
   "execution_count": null,
   "metadata": {},
   "outputs": [
    {
     "data": {
      "text/plain": [
       "(231.14777148326795,\n",
       " array([0.034183  , 0.19346786, 0.14872552, 0.02876037, 0.07680445,\n",
       "        0.04839613, 0.13840753, 0.20337092, 0.01739407, 0.1665451 ,\n",
       "        0.04671266, 0.0475295 , 0.17125253, 0.25017723, 0.14689046,\n",
       "        0.00334564, 0.0093195 , 0.04975827, 0.06860653, 0.0327197 ,\n",
       "        0.10594656, 0.13695085, 0.14421531, 0.1021688 , 0.12380698,\n",
       "        0.00530603, 0.0797637 , 0.04159113, 0.08319275, 0.14709013,\n",
       "        0.07839567, 0.00346261, 0.02674769, 0.03130854, 0.05588466,\n",
       "        0.05157279, 0.11421366, 0.03181453, 0.09857975, 0.04965252,\n",
       "        0.03429271, 0.04165433, 0.10454641, 0.01772058, 0.18632189,\n",
       "        0.01252556, 0.03455492, 0.15181342, 0.11646966, 0.0332525 ,\n",
       "        0.06316531, 0.13158695, 0.06035177, 0.08292146, 0.17944704,\n",
       "        0.12962832, 0.03421819, 0.02375849, 0.10767964, 0.04764958,\n",
       "        0.04802484, 0.00177889, 0.00603695, 0.07573452, 0.04354339,\n",
       "        0.06770333, 0.0137344 , 0.01734276, 0.13318944, 0.17084471,\n",
       "        0.1991628 , 0.06633682, 0.07353535, 0.16171423, 0.02420214,\n",
       "        0.03911074, 0.0768835 , 0.03648995, 0.1013029 , 0.14300515,\n",
       "        0.03174928, 0.18784145, 0.06052008, 0.03036982, 0.10425484,\n",
       "        0.00283278, 0.06121419, 0.00165093, 0.08449893, 0.06534233,\n",
       "        0.00100259, 0.05410209, 0.05910507, 0.07157224, 0.00149193,\n",
       "        0.05859489, 0.03036602, 0.09550001, 0.13608146, 0.04340507,\n",
       "        0.09782552, 0.09733395, 0.09094358, 0.00719762, 0.02418073,\n",
       "        0.1162687 , 0.08480488, 0.03575183, 0.0650846 , 0.01575989,\n",
       "        0.0799077 , 0.04799724, 0.01631292, 0.0334686 , 0.04407101,\n",
       "        0.11316242, 0.08000561, 0.16818591]))"
      ]
     },
     "execution_count": 71,
     "metadata": {},
     "output_type": "execute_result"
    }
   ],
   "source": [
    "Cash().calc_stat(data, model)"
   ]
  },
  {
   "cell_type": "code",
   "execution_count": null,
   "metadata": {},
   "outputs": [
    {
     "data": {
      "text/plain": [
       "(231.24271361850992,\n",
       " array([0.00425447, 0.22223976, 0.11823169, 0.05837373, 0.10617494,\n",
       "        0.01839688, 0.1079642 , 0.17261093, 0.01245072, 0.1954563 ,\n",
       "        0.01672178, 0.07704822, 0.20013942, 0.21919099, 0.11640561,\n",
       "        0.03308666, 0.02048494, 0.07926573, 0.03850701, 0.00279846,\n",
       "        0.07566265, 0.16601435, 0.1732415 , 0.07190349, 0.15293785,\n",
       "        0.02447832, 0.10911917, 0.01162571, 0.11253079, 0.11660429,\n",
       "        0.10775808, 0.03320305, 0.05637118, 0.00139433, 0.02584822,\n",
       "        0.02155776, 0.1433936 , 0.00189779, 0.12783948, 0.07916051,\n",
       "        0.0638782 , 0.0116886 , 0.13377572, 0.04738946, 0.21513084,\n",
       "        0.04222053, 0.00462453, 0.12130449, 0.08613398, 0.06284324,\n",
       "        0.03309276, 0.16067794, 0.03029351, 0.11225751, 0.20826665,\n",
       "        0.09938268, 0.06321538, 0.05171908, 0.13362289, 0.07227311,\n",
       "        0.02373614, 0.02648455, 0.03226636, 0.04743207, 0.01422207,\n",
       "        0.03777603, 0.01606194, 0.01249776, 0.10468826, 0.14218135,\n",
       "        0.17037804, 0.0381258 , 0.04529294, 0.18891218, 0.00382449,\n",
       "        0.01101873, 0.10446272, 0.06424883, 0.12877293, 0.17028764,\n",
       "        0.00369027, 0.15911585, 0.08808479, 0.05766691, 0.07760096,\n",
       "        0.02728683, 0.03780404, 0.02179889, 0.10916484, 0.0917484 ,\n",
       "        0.02859697, 0.08173281, 0.08675853, 0.04333872, 0.0294055 ,\n",
       "        0.03041766, 0.00231234, 0.12299603, 0.1633952 , 0.07113328,\n",
       "        0.06947747, 0.06898803, 0.11845999, 0.02075425, 0.05199408,\n",
       "        0.14367062, 0.05652851, 0.06337911, 0.09194793, 0.04094869,\n",
       "        0.05719353, 0.06847033, 0.03691436, 0.01075331, 0.01853933,\n",
       "        0.13987765, 0.05186156, 0.19534224]))"
      ]
     },
     "execution_count": 73,
     "metadata": {},
     "output_type": "execute_result"
    }
   ],
   "source": [
    "cont.c0 = 1\n",
    "Cash().calc_stat(data, model)"
   ]
  },
  {
   "cell_type": "code",
   "execution_count": null,
   "metadata": {},
   "outputs": [],
   "source": [
    "a = om.algorithms.ScipyLBFGSB()"
   ]
  },
  {
   "cell_type": "code",
   "execution_count": null,
   "metadata": {},
   "outputs": [
    {
     "data": {
      "text/plain": [
       "AlgoInfo(name='scipy_lbfgsb', solver_type=<AggregationLevel.SCALAR: 'scalar'>, is_available=True, is_global=False, needs_jac=True, needs_hess=False, supports_parallelism=False, supports_bounds=True, supports_linear_constraints=False, supports_nonlinear_constraints=False, disable_history=False)"
      ]
     },
     "execution_count": 39,
     "metadata": {},
     "output_type": "execute_result"
    }
   ],
   "source": [
    "a.algo_info"
   ]
  },
  {
   "cell_type": "code",
   "execution_count": null,
   "metadata": {},
   "outputs": [],
   "source": [
    "a = 'asdf'"
   ]
  },
  {
   "cell_type": "code",
   "execution_count": null,
   "metadata": {},
   "outputs": [
    {
     "data": {
      "text/plain": [
       "False"
      ]
     },
     "execution_count": 41,
     "metadata": {},
     "output_type": "execute_result"
    }
   ],
   "source": [
    "hasattr(a, 'algo_info')"
   ]
  },
  {
   "cell_type": "code",
   "execution_count": null,
   "metadata": {},
   "outputs": [
    {
     "data": {
      "text/plain": [
       "om.algos.bhhh"
      ]
     },
     "execution_count": 47,
     "metadata": {},
     "output_type": "execute_result"
    }
   ],
   "source": [
    "type(om.algorithms.BHHH())"
   ]
  },
  {
   "cell_type": "code",
   "execution_count": null,
   "metadata": {},
   "outputs": [
    {
     "name": "stdout",
     "output_type": "stream",
     "text": [
      "WARNING: value of parameter gauss.fwhm is below minimum; setting to minimum\n",
      "WARNING: value of parameter gauss.fwhm is below minimum; setting to minimum\n",
      "WARNING: value of parameter gauss.fwhm is below minimum; setting to minimum\n",
      "WARNING: value of parameter gauss.fwhm is below minimum; setting to minimum\n",
      "WARNING: value of parameter gauss.fwhm is below minimum; setting to minimum\n",
      "datasets       = None\n",
      "itermethodname = none\n",
      "methodname     = optimagic\n",
      "statname       = chi2\n",
      "succeeded      = True\n",
      "parnames       = ('const.c0', 'gauss.fwhm', 'gauss.pos', 'gauss.ampl')\n",
      "parvals        = (26.067327420836456, 3.285600683850382, 5.042514578467134, 42.005725690386164)\n",
      "statval        = 6.879954370635533\n",
      "istatval       = 700.2311623262916\n",
      "dstatval       = 693.351207955656\n",
      "numpoints      = 10\n",
      "dof            = 6\n",
      "qval           = 0.33209186143330294\n",
      "rstat          = 1.1466590617725887\n",
      "message        = Optimization terminated successfully.\n",
      "nfev           = None\n"
     ]
    }
   ],
   "source": [
    "        >>> import numpy as np\n",
    "        >>> from sherpa.data import Data1D\n",
    "        >>> from sherpa.models import Const1D, Gauss1D\n",
    "        >>> from sherpa.stats import Chi2\n",
    "        >>> from sherpa.optmethods import Optimagic\n",
    "        >>> from sherpa.fit import Fit\n",
    "        >>> data = Data1D('data1', x=np.arange(10),\n",
    "        ...              y=[34.5, 23.4, 22.3, 45.6, 56.7, 67.8, 58.9, 43.0, 30.1, 25.2],\n",
    "        ...              staterror=5 * np.ones(10))\n",
    "        >>> const = Const1D(name='const')\n",
    "        >>> gauss = Gauss1D(name='gauss')\n",
    "        >>> gauss.pos = 5.0  # start not too far from the data\n",
    "        >>> model = const + gauss\n",
    "        >>> optimizer = Optimagic()\n",
    "\n",
    "        >>> optimizer.algorithm = 'scipy_bfgs'\n",
    "        >>> fit = Fit(data=data, model=model, stat=Chi2(), method=optimizer)\n",
    "        >>> result = fit.fit()\n",
    "        >>> print(result)"
   ]
  },
  {
   "cell_type": "code",
   "execution_count": null,
   "metadata": {},
   "outputs": [],
   "source": [
    "omr = result.extra_output['optimagic result']"
   ]
  },
  {
   "cell_type": "code",
   "execution_count": null,
   "metadata": {},
   "outputs": [
    {
     "data": {
      "text/plain": [
       "optimagic.optimization.optimize_result.OptimizeResult"
      ]
     },
     "execution_count": 9,
     "metadata": {},
     "output_type": "execute_result"
    }
   ],
   "source": [
    "import optimagic as om\n",
    "om.OptimizeResult"
   ]
  },
  {
   "cell_type": "code",
   "execution_count": null,
   "metadata": {},
   "outputs": [
    {
     "data": {
      "text/plain": [
       "{'one_step': {'relative_criterion_change': 1.3409259347417734e-12,\n",
       "  'relative_params_change': 1.5751893586209195e-07,\n",
       "  'absolute_criterion_change': 9.2255092454252e-12,\n",
       "  'absolute_params_change': 1.2578997199492016e-06},\n",
       " 'five_steps': {'relative_criterion_change': 0.00044802722082809587,\n",
       "  'relative_params_change': 0.0025520339599334517,\n",
       "  'absolute_criterion_change': 0.003082406836099949,\n",
       "  'absolute_params_change': 0.041909631395145426}}"
      ]
     },
     "execution_count": 12,
     "metadata": {},
     "output_type": "execute_result"
    }
   ],
   "source": [
    "omr.convergence_report"
   ]
  },
  {
   "cell_type": "code",
   "execution_count": null,
   "metadata": {},
   "outputs": [
    {
     "data": {
      "text/plain": [
       "{'relative_criterion_change': 0.00044802722082809587,\n",
       " 'relative_params_change': 0.0025520339599334517,\n",
       " 'absolute_criterion_change': 0.003082406836099949,\n",
       " 'absolute_params_change': 0.041909631395145426}"
      ]
     },
     "execution_count": 13,
     "metadata": {},
     "output_type": "execute_result"
    }
   ],
   "source": [
    "result.extra_output['optimagic result'].convergence_report['five_steps']"
   ]
  },
  {
   "cell_type": "code",
   "execution_count": null,
   "metadata": {},
   "outputs": [],
   "source": [
    "Callable[[Callable[[Sequence[float] | ndarray[Any, Any], VarArg(Any), KwArg(Any)], tuple[float, ndarray[Any, Any]]], ndarray[Any, Any], ndarray[Any, Any], ndarray[Any, Any], KwArg(Any)], tuple[bool, ndarray[Any, Any], float, str, dict[str, Any]]]\n",
    "Callable[[Callable[[Sequence[float] | ndarray[Any, Any], VarArg(Any), KwArg(Any)], tuple[float, ndarray[Any, Any]]], Sequence[float] | ndarray[Any, Any], Sequence[float] | ndarray[Any, Any], Sequence[float] | ndarray[Any, Any], VarArg(Any), KwArg(Any)], tuple[bool, ndarray[Any, Any], float, str, dict[str, Any]]]"
   ]
  },
  {
   "cell_type": "code",
   "execution_count": null,
   "metadata": {},
   "outputs": [
    {
     "data": {
      "text/html": [
       "<style>/*\n",
       "Copyright (C) 2020  Smithsonian Astrophysical Observatory\n",
       "\n",
       "\n",
       " This program is free software; you can redistribute it and/or modify\n",
       " it under the terms of the GNU General Public License as published by\n",
       " the Free Software Foundation; either version 3 of the License, or\n",
       " (at your option) any later version.\n",
       "\n",
       " This program is distributed in the hope that it will be useful,\n",
       " but WITHOUT ANY WARRANTY; without even the implied warranty of\n",
       " MERCHANTABILITY or FITNESS FOR A PARTICULAR PURPOSE.  See the\n",
       " GNU General Public License for more details.\n",
       "\n",
       " You should have received a copy of the GNU General Public License along\n",
       " with this program; if not, write to the Free Software Foundation, Inc.,\n",
       " 51 Franklin Street, Fifth Floor, Boston, MA 02110-1301 USA.\n",
       "\n",
       "*/\n",
       "\n",
       ":root {\n",
       "  --sherpa-border-color: var(--jp-border-color2, #e0e0e0);\n",
       "  --sherpa-background-color: var(--jp-layout-color0, white);\n",
       "  --sherpa-background-color-row-even: var(--jp-layout-color1, white);\n",
       "  --sherpa-background-color-row-odd: var(--jp-layout-color2, #eeeeee);\n",
       "\n",
       "  /* https://medium.com/ge-design/iot-cool-gray-is-a-great-background-color-for-data-visualization-ebf18c318418 */\n",
       "  --sherpa-background-color-dark1: #EBEFF2;\n",
       "  --sherpa-background-color-dark2: #D8E0E5;\n",
       "}\n",
       "\n",
       "div.sherpa-text-fallback {\n",
       "    display: none;\n",
       "}\n",
       "\n",
       "div.sherpa {\n",
       "    display: block;\n",
       "}\n",
       "\n",
       "div.sherpa details summary {\n",
       "    display: list-item;  /* needed for notebook, not lab */\n",
       "    font-size: larger;\n",
       "}\n",
       "\n",
       "div.sherpa details div.datavals {\n",
       "    display: grid;\n",
       "    grid-template-columns: 1fr 3fr;\n",
       "    column-gap: 0.5em;\n",
       "}\n",
       "\n",
       "div.sherpa div.dataname {\n",
       "    font-weight: bold;\n",
       "    border-right: 1px solid var(--sherpa-border-color);\n",
       "}\n",
       "\n",
       "div.sherpa div.dataval { }\n",
       "\n",
       "div.sherpa div.datavals div:nth-child(4n + 1) ,\n",
       "div.sherpa div.datavals div:nth-child(4n + 2) {\n",
       "    background: var(--sherpa-background-color-row-odd);\n",
       "}\n",
       "\n",
       "div.sherpa table.model tbody {\n",
       "    border-bottom: 1px solid var(--sherpa-border-color);\n",
       "}\n",
       "\n",
       "div.sherpa table.model tr.block {\n",
       "    border-top: 1px solid var(--sherpa-border-color);\n",
       "}\n",
       "\n",
       "div.sherpa table.model th.model-odd ,\n",
       "div.sherpa table.model th.model-even {\n",
       "    border-right: 1px solid var(--sherpa-border-color);\n",
       "}\n",
       "\n",
       "div.sherpa table.model th.model-odd {\n",
       "    background: var(--sherpa-background-color-dark1);\n",
       "}\n",
       "\n",
       "div.sherpa table.model th.model-even {\n",
       "    background: var(--sherpa-background-color-dark2);\n",
       "}\n",
       "\n",
       "div.sherpa .failed {\n",
       "    background: orange;\n",
       "    font-size: large;\n",
       "    padding: 1em;\n",
       "}\n",
       "</style><div class=\"sherpa-text-fallback\">&lt;Fit results instance&gt;</div><div hidden class=\"sherpa\"><details open><summary>Fit parameters</summary><table class=\"fit\"><thead><tr><th>Parameter</th><th>Best-fit value</th></tr></thead><tbody><tr><td>const.c0</td><td>         5.8</td></tr></tbody></table></details><details><summary>Summary (7)</summary><div class=\"datavals\"><div class=\"dataname\">Method</div><div class=\"dataval\">optimagic</div><div class=\"dataname\">Statistic</div><div class=\"dataval\">cash</div><div class=\"dataname\">Final statistic</div><div class=\"dataval\">-87.9115</div><div class=\"dataname\">Initial statistic</div><div class=\"dataval\">20</div><div class=\"dataname\">&#916; statistic</div><div class=\"dataval\">107.912</div><div class=\"dataname\">Number of data points</div><div class=\"dataval\">10</div><div class=\"dataname\">Degrees of freedom</div><div class=\"dataval\">9</div></div></details></div>"
      ],
      "text/plain": [
       "<Fit results instance>"
      ]
     },
     "execution_count": 21,
     "metadata": {},
     "output_type": "execute_result"
    }
   ],
   "source": [
    "import numpy as np\n",
    "rng = np.random.default_rng()\n",
    "x = np.arange(10)\n",
    "y = rng.poisson(lam = 5, size=10)\n",
    "\n",
    "from sherpa.data import Data1D\n",
    "from sherpa.models import Const1D\n",
    "from sherpa.stats import Cash\n",
    "from sherpa.optmethods import LevMar, Optimagic\n",
    "from sherpa.fit import Fit\n",
    "\n",
    "data = Data1D('data', x, y)\n",
    "model = Const1D('const')\n",
    "model.c0 = 1\n",
    "opt = Optimagic()\n",
    "opt.algorithm = 'scipy_bfgs'\n",
    "fit = Fit(data=data, model=model, stat=Cash(), method=opt)\n",
    "result = fit.fit()\n",
    "result"
   ]
  },
  {
   "cell_type": "code",
   "execution_count": null,
   "metadata": {},
   "outputs": [
    {
     "data": {
      "text/plain": [
       "5.8"
      ]
     },
     "execution_count": 22,
     "metadata": {},
     "output_type": "execute_result"
    }
   ],
   "source": [
    "y.mean()"
   ]
  },
  {
   "cell_type": "code",
   "execution_count": null,
   "metadata": {},
   "outputs": [
    {
     "data": {
      "text/html": [
       "<style>/*\n",
       "Copyright (C) 2020  Smithsonian Astrophysical Observatory\n",
       "\n",
       "\n",
       " This program is free software; you can redistribute it and/or modify\n",
       " it under the terms of the GNU General Public License as published by\n",
       " the Free Software Foundation; either version 3 of the License, or\n",
       " (at your option) any later version.\n",
       "\n",
       " This program is distributed in the hope that it will be useful,\n",
       " but WITHOUT ANY WARRANTY; without even the implied warranty of\n",
       " MERCHANTABILITY or FITNESS FOR A PARTICULAR PURPOSE.  See the\n",
       " GNU General Public License for more details.\n",
       "\n",
       " You should have received a copy of the GNU General Public License along\n",
       " with this program; if not, write to the Free Software Foundation, Inc.,\n",
       " 51 Franklin Street, Fifth Floor, Boston, MA 02110-1301 USA.\n",
       "\n",
       "*/\n",
       "\n",
       ":root {\n",
       "  --sherpa-border-color: var(--jp-border-color2, #e0e0e0);\n",
       "  --sherpa-background-color: var(--jp-layout-color0, white);\n",
       "  --sherpa-background-color-row-even: var(--jp-layout-color1, white);\n",
       "  --sherpa-background-color-row-odd: var(--jp-layout-color2, #eeeeee);\n",
       "\n",
       "  /* https://medium.com/ge-design/iot-cool-gray-is-a-great-background-color-for-data-visualization-ebf18c318418 */\n",
       "  --sherpa-background-color-dark1: #EBEFF2;\n",
       "  --sherpa-background-color-dark2: #D8E0E5;\n",
       "}\n",
       "\n",
       "div.sherpa-text-fallback {\n",
       "    display: none;\n",
       "}\n",
       "\n",
       "div.sherpa {\n",
       "    display: block;\n",
       "}\n",
       "\n",
       "div.sherpa details summary {\n",
       "    display: list-item;  /* needed for notebook, not lab */\n",
       "    font-size: larger;\n",
       "}\n",
       "\n",
       "div.sherpa details div.datavals {\n",
       "    display: grid;\n",
       "    grid-template-columns: 1fr 3fr;\n",
       "    column-gap: 0.5em;\n",
       "}\n",
       "\n",
       "div.sherpa div.dataname {\n",
       "    font-weight: bold;\n",
       "    border-right: 1px solid var(--sherpa-border-color);\n",
       "}\n",
       "\n",
       "div.sherpa div.dataval { }\n",
       "\n",
       "div.sherpa div.datavals div:nth-child(4n + 1) ,\n",
       "div.sherpa div.datavals div:nth-child(4n + 2) {\n",
       "    background: var(--sherpa-background-color-row-odd);\n",
       "}\n",
       "\n",
       "div.sherpa table.model tbody {\n",
       "    border-bottom: 1px solid var(--sherpa-border-color);\n",
       "}\n",
       "\n",
       "div.sherpa table.model tr.block {\n",
       "    border-top: 1px solid var(--sherpa-border-color);\n",
       "}\n",
       "\n",
       "div.sherpa table.model th.model-odd ,\n",
       "div.sherpa table.model th.model-even {\n",
       "    border-right: 1px solid var(--sherpa-border-color);\n",
       "}\n",
       "\n",
       "div.sherpa table.model th.model-odd {\n",
       "    background: var(--sherpa-background-color-dark1);\n",
       "}\n",
       "\n",
       "div.sherpa table.model th.model-even {\n",
       "    background: var(--sherpa-background-color-dark2);\n",
       "}\n",
       "\n",
       "div.sherpa .failed {\n",
       "    background: orange;\n",
       "    font-size: large;\n",
       "    padding: 1em;\n",
       "}\n",
       "</style><div class=\"sherpa-text-fallback\">&lt;Fit results instance&gt;</div><div hidden class=\"sherpa\"><details open><summary>Fit parameters</summary><table class=\"fit\"><thead><tr><th>Parameter</th><th>Best-fit value</th><th>Approximate error</th></tr></thead><tbody><tr><td>const.c0</td><td>     5.79999</td><td>&#177;     0.763967</td></tr></tbody></table></details><details><summary>Summary (8)</summary><div class=\"datavals\"><div class=\"dataname\">Method</div><div class=\"dataval\">levmar</div><div class=\"dataname\">Statistic</div><div class=\"dataval\">cash</div><div class=\"dataname\">Final statistic</div><div class=\"dataval\">-87.9115</div><div class=\"dataname\">Number of evaluations</div><div class=\"dataval\">11</div><div class=\"dataname\">Initial statistic</div><div class=\"dataval\">20</div><div class=\"dataname\">&#916; statistic</div><div class=\"dataval\">107.912</div><div class=\"dataname\">Number of data points</div><div class=\"dataval\">10</div><div class=\"dataname\">Degrees of freedom</div><div class=\"dataval\">9</div></div></details></div>"
      ],
      "text/plain": [
       "<Fit results instance>"
      ]
     },
     "execution_count": 23,
     "metadata": {},
     "output_type": "execute_result"
    }
   ],
   "source": [
    "model.reset()\n",
    "fit2 = Fit(data=data, model=model, stat=Cash(), method=LevMar())\n",
    "fit2.fit()"
   ]
  },
  {
   "cell_type": "code",
   "execution_count": null,
   "metadata": {},
   "outputs": [],
   "source": [
    "from sherpa.optmethods import Scipy_Direct, Scipy_Basinhopping"
   ]
  },
  {
   "cell_type": "code",
   "execution_count": null,
   "metadata": {},
   "outputs": [],
   "source": [
    "dr = Scipy_Direct()\n",
    "bh = Scipy_Basinhopping()"
   ]
  },
  {
   "cell_type": "code",
   "execution_count": null,
   "metadata": {},
   "outputs": [
    {
     "data": {
      "text/plain": [
       "{}"
      ]
     },
     "execution_count": 3,
     "metadata": {},
     "output_type": "execute_result"
    }
   ],
   "source": [
    "dr._get_default_config()"
   ]
  },
  {
   "cell_type": "code",
   "execution_count": null,
   "metadata": {},
   "outputs": [
    {
     "data": {
      "text/plain": [
       "{'niter': 100,\n",
       " 'T': 1.0,\n",
       " 'stepsize': 0.5,\n",
       " 'minimizer_kwargs': None,\n",
       " 'take_step': None,\n",
       " 'accept_test': None,\n",
       " 'callback': None,\n",
       " 'interval': 50,\n",
       " 'disp': False,\n",
       " 'niter_success': None,\n",
       " 'rng': None}"
      ]
     },
     "execution_count": 7,
     "metadata": {},
     "output_type": "execute_result"
    }
   ],
   "source": [
    "bh._get_default_config()"
   ]
  },
  {
   "cell_type": "code",
   "execution_count": null,
   "metadata": {},
   "outputs": [
    {
     "data": {
      "text/plain": [
       "'1.15.3'"
      ]
     },
     "execution_count": 8,
     "metadata": {},
     "output_type": "execute_result"
    }
   ],
   "source": [
    "import scipy\n",
    "scipy.__version__"
   ]
  },
  {
   "cell_type": "code",
   "execution_count": null,
   "metadata": {},
   "outputs": [],
   "source": [
    "from scipy import optimize\n",
    "import inspect"
   ]
  },
  {
   "cell_type": "code",
   "execution_count": null,
   "metadata": {},
   "outputs": [],
   "source": [
    "sig = inspect.signature(optimize.direct)"
   ]
  },
  {
   "cell_type": "code",
   "execution_count": null,
   "metadata": {},
   "outputs": [
    {
     "data": {
      "text/plain": [
       "{'func': inspect._empty,\n",
       " 'bounds': inspect._empty,\n",
       " 'args': (),\n",
       " 'eps': 0.0001,\n",
       " 'maxfun': None,\n",
       " 'maxiter': 1000,\n",
       " 'locally_biased': True,\n",
       " 'f_min': -inf,\n",
       " 'f_min_rtol': 0.0001,\n",
       " 'vol_tol': 1e-16,\n",
       " 'len_tol': 1e-06,\n",
       " 'callback': None}"
      ]
     },
     "execution_count": 19,
     "metadata": {},
     "output_type": "execute_result"
    }
   ],
   "source": [
    "{p.name: p.default for p in sig.parameters.values()}"
   ]
  },
  {
   "cell_type": "code",
   "execution_count": null,
   "metadata": {},
   "outputs": [
    {
     "data": {
      "text/plain": [
       "<_ParameterKind.KEYWORD_ONLY: 3>"
      ]
     },
     "execution_count": 23,
     "metadata": {},
     "output_type": "execute_result"
    }
   ],
   "source": [
    "sig.parameters['maxiter'].kind"
   ]
  },
  {
   "cell_type": "code",
   "execution_count": null,
   "metadata": {},
   "outputs": [],
   "source": [
    "from sherpa.astro import ui\n",
    "\n",
    "ui.clean()\n",
    "ui.set_stat('wstat')\n",
    "ui.load_data('src.pha')\n",
    "\n",
    "ui.ignore()\n",
    "ui.notice(0.3, 10)\n",
    "\n",
    "m1 = ui.xsphabs.abs1 * ui.powlaw1d.p1\n",
    "\n",
    "abs1.nh = 0.03\n",
    "ui.freeze(abs1.nh)\n",
    "\n",
    "ui.set_source(1, m1)\n",
    "ui.save('session.sherpa', clobber=True)\n",
    "ui.restore('session.sherpa')"
   ]
  },
  {
   "cell_type": "code",
   "execution_count": 2,
   "metadata": {},
   "outputs": [
    {
     "name": "stdout",
     "output_type": "stream",
     "text": [
      " Solar Abundance Vector set to angr:  Anders E. & Grevesse N. Geochimica et Cosmochimica Acta 53, 197 (1989)\n",
      " Cross Section Table set to vern:  Verner, Ferland, Korista, and Yakovlev 1996\n"
     ]
    }
   ],
   "source": [
    "import numpy as np\n",
    "from sherpa.astro import ui\n",
    "\n",
    "ui.load_arrays(1, np.arange(10), np.array([2,3,2,3,1,0,1,3,5,2]), ui.Data1D)\n",
    "m1 = ui.xsphabs.abs1 * ui.powlaw1d.p1\n",
    "\n",
    "ui.set_source(1, m1)\n",
    "ui.save('session.sherpa', clobber=True)\n",
    "ui.restore('session.sherpa')"
   ]
  },
  {
   "cell_type": "code",
   "execution_count": 1,
   "metadata": {},
   "outputs": [
    {
     "ename": "AttributeError",
     "evalue": "'BinaryOpModel' object has no attribute 'parts'",
     "output_type": "error",
     "traceback": [
      "\u001b[31m---------------------------------------------------------------------------\u001b[39m",
      "\u001b[31mAttributeError\u001b[39m                            Traceback (most recent call last)",
      "\u001b[36mCell\u001b[39m\u001b[36m \u001b[39m\u001b[32mIn[1]\u001b[39m\u001b[32m, line 9\u001b[39m\n\u001b[32m      7\u001b[39m ui.set_source(\u001b[32m1\u001b[39m, m1)\n\u001b[32m      8\u001b[39m ui.save(\u001b[33m'\u001b[39m\u001b[33msession.sherpa\u001b[39m\u001b[33m'\u001b[39m, clobber=\u001b[38;5;28;01mTrue\u001b[39;00m)\n\u001b[32m----> \u001b[39m\u001b[32m9\u001b[39m \u001b[43mui\u001b[49m\u001b[43m.\u001b[49m\u001b[43mrestore\u001b[49m\u001b[43m(\u001b[49m\u001b[33;43m'\u001b[39;49m\u001b[33;43msession.sherpa\u001b[39;49m\u001b[33;43m'\u001b[39;49m\u001b[43m)\u001b[49m\n",
      "\u001b[36mFile \u001b[39m\u001b[32m<string>:1\u001b[39m, in \u001b[36mrestore\u001b[39m\u001b[34m(filename)\u001b[39m\n",
      "\u001b[36mFile \u001b[39m\u001b[32m~/code/sherpa/sherpa/ui/utils.py:1287\u001b[39m, in \u001b[36mSession.restore\u001b[39m\u001b[34m(self, filename)\u001b[39m\n\u001b[32m   1285\u001b[39m fin = \u001b[38;5;28mopen\u001b[39m(filename, \u001b[33m'\u001b[39m\u001b[33mrb\u001b[39m\u001b[33m'\u001b[39m)\n\u001b[32m   1286\u001b[39m \u001b[38;5;28;01mtry\u001b[39;00m:\n\u001b[32m-> \u001b[39m\u001b[32m1287\u001b[39m     obj = \u001b[43mpickle\u001b[49m\u001b[43m.\u001b[49m\u001b[43mload\u001b[49m\u001b[43m(\u001b[49m\u001b[43mfin\u001b[49m\u001b[43m)\u001b[49m\n\u001b[32m   1288\u001b[39m \u001b[38;5;28;01mfinally\u001b[39;00m:\n\u001b[32m   1289\u001b[39m     fin.close()\n",
      "\u001b[36mFile \u001b[39m\u001b[32m~/code/sherpa/sherpa/models/model.py:1622\u001b[39m, in \u001b[36mArithmeticModel.__setstate__\u001b[39m\u001b[34m(self, state)\u001b[39m\n\u001b[32m   1620\u001b[39m \u001b[38;5;28;01mdef\u001b[39;00m\u001b[38;5;250m \u001b[39m\u001b[34m__setstate__\u001b[39m(\u001b[38;5;28mself\u001b[39m, state):\n\u001b[32m   1621\u001b[39m     \u001b[38;5;66;03m# In case old pickle files do not have cache info\u001b[39;00m\n\u001b[32m-> \u001b[39m\u001b[32m1622\u001b[39m     \u001b[38;5;28;43mself\u001b[39;49m\u001b[43m.\u001b[49m\u001b[43mcache_clear\u001b[49m\u001b[43m(\u001b[49m\u001b[43m)\u001b[49m\n\u001b[32m   1623\u001b[39m     \u001b[38;5;28mself\u001b[39m.\u001b[34m__dict__\u001b[39m.update(state)\n",
      "\u001b[36mFile \u001b[39m\u001b[32m~/code/sherpa/sherpa/models/model.py:1267\u001b[39m, in \u001b[36mCompositeModel.cache_clear\u001b[39m\u001b[34m(self)\u001b[39m\n\u001b[32m   1265\u001b[39m \u001b[38;5;28;01mdef\u001b[39;00m\u001b[38;5;250m \u001b[39m\u001b[34mcache_clear\u001b[39m(\u001b[38;5;28mself\u001b[39m) -> \u001b[38;5;28;01mNone\u001b[39;00m:\n\u001b[32m   1266\u001b[39m \u001b[38;5;250m    \u001b[39m\u001b[33;03m\"\"\"Clear the cache for each component.\"\"\"\u001b[39;00m\n\u001b[32m-> \u001b[39m\u001b[32m1267\u001b[39m     \u001b[38;5;28;01mfor\u001b[39;00m p \u001b[38;5;129;01min\u001b[39;00m \u001b[38;5;28;43mself\u001b[39;49m\u001b[43m.\u001b[49m\u001b[43mparts\u001b[49m:\n\u001b[32m   1268\u001b[39m         \u001b[38;5;28;01mtry\u001b[39;00m:\n\u001b[32m   1269\u001b[39m             p.cache_clear()\n",
      "\u001b[36mFile \u001b[39m\u001b[32m~/code/sherpa/sherpa/models/model.py:693\u001b[39m, in \u001b[36mModel.__getattr__\u001b[39m\u001b[34m(self, name)\u001b[39m\n\u001b[32m    689\u001b[39m         warnings.warn(wmsg, \u001b[38;5;167;01mDeprecationWarning\u001b[39;00m)\n\u001b[32m    691\u001b[39m     \u001b[38;5;28;01mreturn\u001b[39;00m parameter\n\u001b[32m--> \u001b[39m\u001b[32m693\u001b[39m \u001b[43mNoNewAttributesAfterInit\u001b[49m\u001b[43m.\u001b[49m\u001b[34;43m__getattribute__\u001b[39;49m\u001b[43m(\u001b[49m\u001b[38;5;28;43mself\u001b[39;49m\u001b[43m,\u001b[49m\u001b[43m \u001b[49m\u001b[43mname\u001b[49m\u001b[43m)\u001b[49m\n",
      "\u001b[31mAttributeError\u001b[39m: 'BinaryOpModel' object has no attribute 'parts'"
     ]
    }
   ],
   "source": [
    "import numpy as np\n",
    "from sherpa import ui\n",
    "\n",
    "ui.load_arrays(1, np.arange(10), np.array([2,3,2,3,1,0,1,3,5,2]), ui.Data1D)\n",
    "m1 = ui.const1d.abs1 * ui.powlaw1d.p1\n",
    "\n",
    "ui.set_source(1, m1)\n",
    "ui.save('session.sherpa', clobber=True)\n",
    "ui.restore('session.sherpa')"
   ]
  },
  {
   "cell_type": "code",
   "execution_count": 1,
   "metadata": {},
   "outputs": [
    {
     "name": "stdout",
     "output_type": "stream",
     "text": [
      " Solar Abundance Vector set to angr:  Anders E. & Grevesse N. Geochimica et Cosmochimica Acta 53, 197 (1989)\n",
      " Cross Section Table set to vern:  Verner, Ferland, Korista, and Yakovlev 1996\n"
     ]
    }
   ],
   "source": [
    "import numpy as np\n",
    "from sherpa.astro import ui\n",
    "\n",
    "ui.load_arrays(1, np.arange(10), np.array([2,3,2,3,1,0,1,3,5,2]), ui.Data1D)\n",
    "m1 = ui.xsphabs.abs1 * ui.powlaw1d.p1\n",
    "\n",
    "ui.set_source(1, m1)\n",
    "ui.save('session.sherpa', clobber=True)\n",
    "ui.restore('session.sherpa')\n",
    "m2 = ui.get_model(1)"
   ]
  },
  {
   "cell_type": "code",
   "execution_count": 2,
   "metadata": {},
   "outputs": [
    {
     "data": {
      "text/html": [
       "<style>/*\n",
       "Copyright (C) 2020  Smithsonian Astrophysical Observatory\n",
       "\n",
       "\n",
       " This program is free software; you can redistribute it and/or modify\n",
       " it under the terms of the GNU General Public License as published by\n",
       " the Free Software Foundation; either version 3 of the License, or\n",
       " (at your option) any later version.\n",
       "\n",
       " This program is distributed in the hope that it will be useful,\n",
       " but WITHOUT ANY WARRANTY; without even the implied warranty of\n",
       " MERCHANTABILITY or FITNESS FOR A PARTICULAR PURPOSE.  See the\n",
       " GNU General Public License for more details.\n",
       "\n",
       " You should have received a copy of the GNU General Public License along\n",
       " with this program; if not, write to the Free Software Foundation, Inc.,\n",
       " 51 Franklin Street, Fifth Floor, Boston, MA 02110-1301 USA.\n",
       "\n",
       "*/\n",
       "\n",
       ":root {\n",
       "  --sherpa-border-color: var(--jp-border-color2, #e0e0e0);\n",
       "  --sherpa-background-color: var(--jp-layout-color0, white);\n",
       "  --sherpa-background-color-row-even: var(--jp-layout-color1, white);\n",
       "  --sherpa-background-color-row-odd: var(--jp-layout-color2, #eeeeee);\n",
       "\n",
       "  /* https://medium.com/ge-design/iot-cool-gray-is-a-great-background-color-for-data-visualization-ebf18c318418 */\n",
       "  --sherpa-background-color-dark1: #EBEFF2;\n",
       "  --sherpa-background-color-dark2: #D8E0E5;\n",
       "}\n",
       "\n",
       "div.sherpa-text-fallback {\n",
       "    display: none;\n",
       "}\n",
       "\n",
       "div.sherpa {\n",
       "    display: block;\n",
       "}\n",
       "\n",
       "div.sherpa details summary {\n",
       "    display: list-item;  /* needed for notebook, not lab */\n",
       "    font-size: larger;\n",
       "}\n",
       "\n",
       "div.sherpa details div.datavals {\n",
       "    display: grid;\n",
       "    grid-template-columns: 1fr 3fr;\n",
       "    column-gap: 0.5em;\n",
       "}\n",
       "\n",
       "div.sherpa div.dataname {\n",
       "    font-weight: bold;\n",
       "    border-right: 1px solid var(--sherpa-border-color);\n",
       "}\n",
       "\n",
       "div.sherpa div.dataval { }\n",
       "\n",
       "div.sherpa div.datavals div:nth-child(4n + 1) ,\n",
       "div.sherpa div.datavals div:nth-child(4n + 2) {\n",
       "    background: var(--sherpa-background-color-row-odd);\n",
       "}\n",
       "\n",
       "div.sherpa table.model tbody {\n",
       "    border-bottom: 1px solid var(--sherpa-border-color);\n",
       "}\n",
       "\n",
       "div.sherpa table.model tr.block {\n",
       "    border-top: 1px solid var(--sherpa-border-color);\n",
       "}\n",
       "\n",
       "div.sherpa table.model th.model-odd ,\n",
       "div.sherpa table.model th.model-even {\n",
       "    border-right: 1px solid var(--sherpa-border-color);\n",
       "}\n",
       "\n",
       "div.sherpa table.model th.model-odd {\n",
       "    background: var(--sherpa-background-color-dark1);\n",
       "}\n",
       "\n",
       "div.sherpa table.model th.model-even {\n",
       "    background: var(--sherpa-background-color-dark2);\n",
       "}\n",
       "\n",
       "div.sherpa .failed {\n",
       "    background: orange;\n",
       "    font-size: large;\n",
       "    padding: 1em;\n",
       "}\n",
       "</style><div class=\"sherpa-text-fallback\">&lt;BinaryOpModel model instance &#x27;xsphabs.abs1 * powlaw1d.p1&#x27;&gt;</div><div hidden class=\"sherpa\"><details open><summary>Model</summary><table class=\"model\"><caption>Expression: xsphabs.abs1 * powlaw1d.p1</caption><thead><tr><th>Component</th><th>Parameter</th><th>Thawed</th><th>Value</th><th>Min</th><th>Max</th><th>Units</th></tr></thead><tbody><tr><th class=\"model-odd\" scope=\"rowgroup\" rowspan=1>xsphabs.abs1</th><td>nH</td><td><input disabled type=\"checkbox\" checked></input></td><td>1.0</td><td>0.0</td><td>1000000.0</td><td>10^22 atoms / cm^2</td></tr><tr class=\"block\"><th class=\"model-even\" scope=\"rowgroup\" rowspan=3>powlaw1d.p1</th><td>gamma</td><td><input disabled type=\"checkbox\" checked></input></td><td>1.0</td><td>-10.0</td><td>10.0</td><td></td></tr><tr><td>ref</td><td><input disabled type=\"checkbox\"></input></td><td>1.0</td><td>-MAX</td><td>MAX</td><td></td></tr><tr><td>ampl</td><td><input disabled type=\"checkbox\" checked></input></td><td>1.0</td><td>0.0</td><td>MAX</td><td></td></tr></tbody></table></details></div>"
      ],
      "text/plain": [
       "<BinaryOpModel model instance 'xsphabs.abs1 * powlaw1d.p1'>"
      ]
     },
     "execution_count": 2,
     "metadata": {},
     "output_type": "execute_result"
    }
   ],
   "source": [
    "m1"
   ]
  },
  {
   "cell_type": "code",
   "execution_count": 3,
   "metadata": {},
   "outputs": [
    {
     "data": {
      "text/html": [
       "<style>/*\n",
       "Copyright (C) 2020  Smithsonian Astrophysical Observatory\n",
       "\n",
       "\n",
       " This program is free software; you can redistribute it and/or modify\n",
       " it under the terms of the GNU General Public License as published by\n",
       " the Free Software Foundation; either version 3 of the License, or\n",
       " (at your option) any later version.\n",
       "\n",
       " This program is distributed in the hope that it will be useful,\n",
       " but WITHOUT ANY WARRANTY; without even the implied warranty of\n",
       " MERCHANTABILITY or FITNESS FOR A PARTICULAR PURPOSE.  See the\n",
       " GNU General Public License for more details.\n",
       "\n",
       " You should have received a copy of the GNU General Public License along\n",
       " with this program; if not, write to the Free Software Foundation, Inc.,\n",
       " 51 Franklin Street, Fifth Floor, Boston, MA 02110-1301 USA.\n",
       "\n",
       "*/\n",
       "\n",
       ":root {\n",
       "  --sherpa-border-color: var(--jp-border-color2, #e0e0e0);\n",
       "  --sherpa-background-color: var(--jp-layout-color0, white);\n",
       "  --sherpa-background-color-row-even: var(--jp-layout-color1, white);\n",
       "  --sherpa-background-color-row-odd: var(--jp-layout-color2, #eeeeee);\n",
       "\n",
       "  /* https://medium.com/ge-design/iot-cool-gray-is-a-great-background-color-for-data-visualization-ebf18c318418 */\n",
       "  --sherpa-background-color-dark1: #EBEFF2;\n",
       "  --sherpa-background-color-dark2: #D8E0E5;\n",
       "}\n",
       "\n",
       "div.sherpa-text-fallback {\n",
       "    display: none;\n",
       "}\n",
       "\n",
       "div.sherpa {\n",
       "    display: block;\n",
       "}\n",
       "\n",
       "div.sherpa details summary {\n",
       "    display: list-item;  /* needed for notebook, not lab */\n",
       "    font-size: larger;\n",
       "}\n",
       "\n",
       "div.sherpa details div.datavals {\n",
       "    display: grid;\n",
       "    grid-template-columns: 1fr 3fr;\n",
       "    column-gap: 0.5em;\n",
       "}\n",
       "\n",
       "div.sherpa div.dataname {\n",
       "    font-weight: bold;\n",
       "    border-right: 1px solid var(--sherpa-border-color);\n",
       "}\n",
       "\n",
       "div.sherpa div.dataval { }\n",
       "\n",
       "div.sherpa div.datavals div:nth-child(4n + 1) ,\n",
       "div.sherpa div.datavals div:nth-child(4n + 2) {\n",
       "    background: var(--sherpa-background-color-row-odd);\n",
       "}\n",
       "\n",
       "div.sherpa table.model tbody {\n",
       "    border-bottom: 1px solid var(--sherpa-border-color);\n",
       "}\n",
       "\n",
       "div.sherpa table.model tr.block {\n",
       "    border-top: 1px solid var(--sherpa-border-color);\n",
       "}\n",
       "\n",
       "div.sherpa table.model th.model-odd ,\n",
       "div.sherpa table.model th.model-even {\n",
       "    border-right: 1px solid var(--sherpa-border-color);\n",
       "}\n",
       "\n",
       "div.sherpa table.model th.model-odd {\n",
       "    background: var(--sherpa-background-color-dark1);\n",
       "}\n",
       "\n",
       "div.sherpa table.model th.model-even {\n",
       "    background: var(--sherpa-background-color-dark2);\n",
       "}\n",
       "\n",
       "div.sherpa .failed {\n",
       "    background: orange;\n",
       "    font-size: large;\n",
       "    padding: 1em;\n",
       "}\n",
       "</style><div class=\"sherpa-text-fallback\">&lt;BinaryOpModel model instance &#x27;xsphabs.abs1 * powlaw1d.p1&#x27;&gt;</div><div hidden class=\"sherpa\"><details open><summary>Model</summary><table class=\"model\"><caption>Expression: xsphabs.abs1 * powlaw1d.p1</caption><thead><tr><th>Component</th><th>Parameter</th><th>Thawed</th><th>Value</th><th>Min</th><th>Max</th><th>Units</th></tr></thead><tbody><tr><th class=\"model-odd\" scope=\"rowgroup\" rowspan=1>xsphabs.abs1</th><td>nH</td><td><input disabled type=\"checkbox\" checked></input></td><td>1.0</td><td>0.0</td><td>1000000.0</td><td>10^22 atoms / cm^2</td></tr><tr class=\"block\"><th class=\"model-even\" scope=\"rowgroup\" rowspan=3>powlaw1d.p1</th><td>gamma</td><td><input disabled type=\"checkbox\" checked></input></td><td>1.0</td><td>-10.0</td><td>10.0</td><td></td></tr><tr><td>ref</td><td><input disabled type=\"checkbox\"></input></td><td>1.0</td><td>-MAX</td><td>MAX</td><td></td></tr><tr><td>ampl</td><td><input disabled type=\"checkbox\" checked></input></td><td>1.0</td><td>0.0</td><td>MAX</td><td></td></tr></tbody></table></details></div>"
      ],
      "text/plain": [
       "<BinaryOpModel model instance 'xsphabs.abs1 * powlaw1d.p1'>"
      ]
     },
     "execution_count": 3,
     "metadata": {},
     "output_type": "execute_result"
    }
   ],
   "source": [
    "m2"
   ]
  },
  {
   "cell_type": "code",
   "execution_count": 5,
   "metadata": {},
   "outputs": [
    {
     "data": {
      "text/plain": [
       "'xsphabs.abs1 * powlaw1d.p1'"
      ]
     },
     "execution_count": 5,
     "metadata": {},
     "output_type": "execute_result"
    }
   ],
   "source": [
    "m1.name"
   ]
  },
  {
   "cell_type": "code",
   "execution_count": 2,
   "metadata": {},
   "outputs": [],
   "source": [
    "import pickle\n",
    "with open('session.sherpa', 'rb') as fin:\n",
    "            obj = pickle.load(fin)"
   ]
  },
  {
   "cell_type": "code",
   "execution_count": 7,
   "metadata": {},
   "outputs": [],
   "source": [
    "from sherpa.astro import xspec"
   ]
  },
  {
   "cell_type": "code",
   "execution_count": 8,
   "metadata": {},
   "outputs": [],
   "source": [
    "m1 = xspec.XSphabs() * xspec.XSvapec()"
   ]
  },
  {
   "cell_type": "code",
   "execution_count": 1,
   "metadata": {},
   "outputs": [],
   "source": [
    "from sherpa.models import Const1D, PowLaw1D"
   ]
  },
  {
   "cell_type": "code",
   "execution_count": 5,
   "metadata": {},
   "outputs": [],
   "source": [
    "    \n",
    "    from sherpa.ui.utils import Session\n",
    "    outfile = \"sherpa.save\"\n",
    "    session = Session()\n",
    "    m1 = Const1D() + PowLaw1D()\n",
    "    session.set_source(2, m1)\n",
    "    session.save(str(outfile), clobber=True)\n",
    "    session.clean()\n",
    "    assert set() == set(session.list_model_ids())\n",
    "\n",
    "    session.restore(str(outfile))\n",
    "    assert {2, } == set(session.list_model_ids())\n",
    "    assert m1.name == session.get_source(2).name"
   ]
  },
  {
   "cell_type": "code",
   "execution_count": 6,
   "metadata": {},
   "outputs": [
    {
     "name": "stdout",
     "output_type": "stream",
     "text": [
      "/Users/guenther/code/sherpa/sherpa/models/model.py\n"
     ]
    }
   ],
   "source": [
    "from sherpa.models import model\n",
    "print(model.__file__)"
   ]
  },
  {
   "cell_type": "code",
   "execution_count": 1,
   "metadata": {},
   "outputs": [],
   "source": [
    "from sherpa.optmethods.optfcts import lmdif, minim, montecarlo, neldermead"
   ]
  },
  {
   "cell_type": "code",
   "execution_count": 3,
   "metadata": {},
   "outputs": [
    {
     "data": {
      "text/plain": [
       "<function sherpa.optmethods.optfcts.montecarlo(fcn: collections.abc.Callable[typing.Concatenate[collections.abc.Sequence[float] | numpy.ndarray, ~P], tuple[float, numpy.ndarray]], x0: collections.abc.Sequence[float] | numpy.ndarray, xmin: collections.abc.Sequence[float] | numpy.ndarray, xmax: collections.abc.Sequence[float] | numpy.ndarray, ftol: <class 'SupportsFloat'> = 1.1920928955078125e-07, maxfev: int | None = None, verbose: int = 0, seed: int = 74815, population_size: int | None = None, xprob: float = 0.9, weighting_factor: float = 0.8, numcores: int = 1, rng: numpy.random._generator.Generator | numpy.random.mtrand.RandomState | None = None) -> tuple[bool, numpy.ndarray, float, str, dict[str, typing.Any]]>"
      ]
     },
     "execution_count": 3,
     "metadata": {},
     "output_type": "execute_result"
    }
   ],
   "source": [
    "montecarlo"
   ]
  },
  {
   "cell_type": "code",
   "execution_count": 4,
   "metadata": {},
   "outputs": [],
   "source": [
    "import numpy as np\n",
    "import pytest\n",
    "from sherpa.optmethods import GridSearch, LevMar, MonCar, NelderMead\n",
    "from sherpa.optmethods.opt import SimplexRandom"
   ]
  },
  {
   "cell_type": "code",
   "execution_count": 5,
   "metadata": {},
   "outputs": [],
   "source": [
    "cls = NelderMead"
   ]
  },
  {
   "cell_type": "code",
   "execution_count": 6,
   "metadata": {},
   "outputs": [],
   "source": [
    "    opt = cls()\n",
    "    # Unlike test_optmethod_getattr, only check one config value\n",
    "    oldval = opt.config[\"ftol\"]\n",
    "    assert opt.ftol == pytest.approx(oldval)\n",
    "\n",
    "    newval = 0.01\n",
    "    opt = cls(ftol=newval)\n",
    "    assert opt.config[\"ftol\"] == pytest.approx(newval)\n",
    "    assert opt.ftol == pytest.approx(newval)\n",
    "\n",
    "    # just to check that ftol doesn't happen to match the new value,\n",
    "    # which would mean changing newval\n",
    "    #\n",
    "    assert oldval != pytest.approx(newval)"
   ]
  },
  {
   "cell_type": "code",
   "execution_count": 7,
   "metadata": {},
   "outputs": [],
   "source": [
    "opt2 = cls()"
   ]
  },
  {
   "cell_type": "code",
   "execution_count": 8,
   "metadata": {},
   "outputs": [
    {
     "data": {
      "text/plain": [
       "1.1920928955078125e-07"
      ]
     },
     "execution_count": 8,
     "metadata": {},
     "output_type": "execute_result"
    }
   ],
   "source": [
    "opt2.config[\"ftol\"]"
   ]
  },
  {
   "cell_type": "code",
   "execution_count": 1,
   "metadata": {},
   "outputs": [
    {
     "data": {
      "text/plain": [
       "0.9998857616033944"
      ]
     },
     "execution_count": 1,
     "metadata": {},
     "output_type": "execute_result"
    }
   ],
   "source": [
    "1.96098192899 / 1.961205974015885"
   ]
  },
  {
   "cell_type": "code",
   "execution_count": 10,
   "metadata": {},
   "outputs": [],
   "source": [
    "from sherpa.stats import CStat\n",
    "from sherpa.tests.test_fit_unit import fit_cstat, setup_stat_single, NelderMead, LevMar\n",
    "import pytest\n",
    "\n",
    "stat, usestat, usesys, finalstat = (CStat, True, True, fit_cstat)"
   ]
  },
  {
   "cell_type": "code",
   "execution_count": 13,
   "metadata": {},
   "outputs": [
    {
     "data": {
      "text/plain": [
       "1.9609819287041914"
      ]
     },
     "execution_count": 13,
     "metadata": {},
     "output_type": "execute_result"
    }
   ],
   "source": [
    "    statobj = stat()\n",
    "    fit = setup_stat_single(statobj, usestat, usesys)\n",
    "    fit.method = LevMar()\n",
    "    fr = fit.fit()\n",
    "    fr.statval"
   ]
  },
  {
   "cell_type": "code",
   "execution_count": 17,
   "metadata": {},
   "outputs": [
    {
     "data": {
      "text/plain": [
       "1.96098365658851"
      ]
     },
     "execution_count": 17,
     "metadata": {},
     "output_type": "execute_result"
    }
   ],
   "source": [
    "    statobj = stat()\n",
    "    fit = setup_stat_single(statobj, usestat, usesys)\n",
    "    fit.method = NelderMead()\n",
    "    fit.method.ftol = 1e-4\n",
    "    fr = fit.fit()\n",
    "    fr.statval"
   ]
  },
  {
   "cell_type": "code",
   "execution_count": 9,
   "metadata": {},
   "outputs": [
    {
     "data": {
      "text/plain": [
       "1.9609819287041914"
      ]
     },
     "execution_count": 9,
     "metadata": {},
     "output_type": "execute_result"
    }
   ],
   "source": [
    "fr.statval"
   ]
  },
  {
   "cell_type": "code",
   "execution_count": 35,
   "metadata": {},
   "outputs": [
    {
     "name": "stdout",
     "output_type": "stream",
     "text": [
      "WARNING: BasicBackend does not implement line/symbol plotting. No plot will be produced.\n",
      "WARNING: BasicBackend does not implement line/symbol plotting. No plot will be produced.\n"
     ]
    }
   ],
   "source": [
    "import numpy as np\n",
    "edges = np.asarray([-10, -5, 5, 12, 17, 20, 30, 56, 60])\n",
    "y = np.asarray([28, 62, 17, 4, 2, 4, 125, 55])\n",
    "from sherpa.data import Data1DInt\n",
    "d = Data1DInt('example histogram', edges[:-1], edges[1:], y)\n",
    "\n",
    "from sherpa.models.basic import Const1D, Gauss1D\n",
    "mdl = Const1D('base') - Gauss1D('line')\n",
    "mdl.pars[0].val = 10\n",
    "mdl.pars[1].val = 25\n",
    "mdl.pars[2].val = 22\n",
    "mdl.pars[3].val = 10\n",
    "\n",
    "from sherpa.optmethods import NelderMead\n",
    "from sherpa.stats import Cash\n",
    "from sherpa.fit import Fit\n",
    "f = Fit(d, mdl, stat=Cash(), method=NelderMead())\n",
    "fit_res = f.fit()\n",
    "from sherpa.plot import DataPlot\n",
    "dplot = DataPlot()\n",
    "dplot.prepare(d)\n",
    "\n",
    "from sherpa.plot import ModelPlot\n",
    "mplot = ModelPlot()\n",
    "mplot.prepare(d, mdl)\n",
    "from sherpa.plot import FitPlot\n",
    "fplot = FitPlot()\n",
    "fplot.prepare(dplot, mplot)\n",
    "fplot.plot()\n",
    "\n",
    "\n",
    "from sherpa.plot import TemporaryPlottingBackend, set_backend\n",
    "set_backend('BasicBackend')\n"
   ]
  },
  {
   "cell_type": "code",
   "execution_count": 36,
   "metadata": {},
   "outputs": [
    {
     "data": {
      "text/html": [
       "<style>/*\n",
       "Copyright (C) 2020  Smithsonian Astrophysical Observatory\n",
       "\n",
       "\n",
       " This program is free software; you can redistribute it and/or modify\n",
       " it under the terms of the GNU General Public License as published by\n",
       " the Free Software Foundation; either version 3 of the License, or\n",
       " (at your option) any later version.\n",
       "\n",
       " This program is distributed in the hope that it will be useful,\n",
       " but WITHOUT ANY WARRANTY; without even the implied warranty of\n",
       " MERCHANTABILITY or FITNESS FOR A PARTICULAR PURPOSE.  See the\n",
       " GNU General Public License for more details.\n",
       "\n",
       " You should have received a copy of the GNU General Public License along\n",
       " with this program; if not, write to the Free Software Foundation, Inc.,\n",
       " 51 Franklin Street, Fifth Floor, Boston, MA 02110-1301 USA.\n",
       "\n",
       "*/\n",
       "\n",
       ":root {\n",
       "  --sherpa-border-color: var(--jp-border-color2, #e0e0e0);\n",
       "  --sherpa-background-color: var(--jp-layout-color0, white);\n",
       "  --sherpa-background-color-row-even: var(--jp-layout-color1, white);\n",
       "  --sherpa-background-color-row-odd: var(--jp-layout-color2, #eeeeee);\n",
       "\n",
       "  /* https://medium.com/ge-design/iot-cool-gray-is-a-great-background-color-for-data-visualization-ebf18c318418 */\n",
       "  --sherpa-background-color-dark1: #EBEFF2;\n",
       "  --sherpa-background-color-dark2: #D8E0E5;\n",
       "}\n",
       "\n",
       "div.sherpa-text-fallback {\n",
       "    display: none;\n",
       "}\n",
       "\n",
       "div.sherpa {\n",
       "    display: block;\n",
       "}\n",
       "\n",
       "div.sherpa details summary {\n",
       "    display: list-item;  /* needed for notebook, not lab */\n",
       "    font-size: larger;\n",
       "}\n",
       "\n",
       "div.sherpa details div.datavals {\n",
       "    display: grid;\n",
       "    grid-template-columns: 1fr 3fr;\n",
       "    column-gap: 0.5em;\n",
       "}\n",
       "\n",
       "div.sherpa div.dataname {\n",
       "    font-weight: bold;\n",
       "    border-right: 1px solid var(--sherpa-border-color);\n",
       "}\n",
       "\n",
       "div.sherpa div.dataval { }\n",
       "\n",
       "div.sherpa div.datavals div:nth-child(4n + 1) ,\n",
       "div.sherpa div.datavals div:nth-child(4n + 2) {\n",
       "    background: var(--sherpa-background-color-row-odd);\n",
       "}\n",
       "\n",
       "div.sherpa table.model tbody {\n",
       "    border-bottom: 1px solid var(--sherpa-border-color);\n",
       "}\n",
       "\n",
       "div.sherpa table.model tr.block {\n",
       "    border-top: 1px solid var(--sherpa-border-color);\n",
       "}\n",
       "\n",
       "div.sherpa table.model th.model-odd ,\n",
       "div.sherpa table.model th.model-even {\n",
       "    border-right: 1px solid var(--sherpa-border-color);\n",
       "}\n",
       "\n",
       "div.sherpa table.model th.model-odd {\n",
       "    background: var(--sherpa-background-color-dark1);\n",
       "}\n",
       "\n",
       "div.sherpa table.model th.model-even {\n",
       "    background: var(--sherpa-background-color-dark2);\n",
       "}\n",
       "\n",
       "div.sherpa .failed {\n",
       "    background: orange;\n",
       "    font-size: large;\n",
       "    padding: 1em;\n",
       "}\n",
       "</style><div class=\"sherpa-text-fallback\">&lt;sherpa.plot.DataPlot object at 0x16e977d10&gt;</div><div hidden class=\"sherpa\"><details open><summary>DataPlot (7)</summary><div class=\"datavals\"><div class=\"dataname\">x</div><div class=\"dataval\">[-7.5  0.   8.5 14.5 18.5 25.  43.  58. ]</div><div class=\"dataname\">xerr</div><div class=\"dataval\">[ 2.5  5.   3.5  2.5  1.5  5.  13.   2. ]</div><div class=\"dataname\">y</div><div class=\"dataval\">[ 28  62  17   4   2   4 125  55]</div><div class=\"dataname\">yerr</div><div class=\"dataval\">None</div><div class=\"dataname\">title</div><div class=\"dataval\">example histogram</div><div class=\"dataname\">xlabel</div><div class=\"dataval\">x</div><div class=\"dataname\">ylabel</div><div class=\"dataval\">y</div></div></details></div><style>/*\n",
       "Copyright (C) 2020  Smithsonian Astrophysical Observatory\n",
       "\n",
       "\n",
       " This program is free software; you can redistribute it and/or modify\n",
       " it under the terms of the GNU General Public License as published by\n",
       " the Free Software Foundation; either version 3 of the License, or\n",
       " (at your option) any later version.\n",
       "\n",
       " This program is distributed in the hope that it will be useful,\n",
       " but WITHOUT ANY WARRANTY; without even the implied warranty of\n",
       " MERCHANTABILITY or FITNESS FOR A PARTICULAR PURPOSE.  See the\n",
       " GNU General Public License for more details.\n",
       "\n",
       " You should have received a copy of the GNU General Public License along\n",
       " with this program; if not, write to the Free Software Foundation, Inc.,\n",
       " 51 Franklin Street, Fifth Floor, Boston, MA 02110-1301 USA.\n",
       "\n",
       "*/\n",
       "\n",
       ":root {\n",
       "  --sherpa-border-color: var(--jp-border-color2, #e0e0e0);\n",
       "  --sherpa-background-color: var(--jp-layout-color0, white);\n",
       "  --sherpa-background-color-row-even: var(--jp-layout-color1, white);\n",
       "  --sherpa-background-color-row-odd: var(--jp-layout-color2, #eeeeee);\n",
       "\n",
       "  /* https://medium.com/ge-design/iot-cool-gray-is-a-great-background-color-for-data-visualization-ebf18c318418 */\n",
       "  --sherpa-background-color-dark1: #EBEFF2;\n",
       "  --sherpa-background-color-dark2: #D8E0E5;\n",
       "}\n",
       "\n",
       "div.sherpa-text-fallback {\n",
       "    display: none;\n",
       "}\n",
       "\n",
       "div.sherpa {\n",
       "    display: block;\n",
       "}\n",
       "\n",
       "div.sherpa details summary {\n",
       "    display: list-item;  /* needed for notebook, not lab */\n",
       "    font-size: larger;\n",
       "}\n",
       "\n",
       "div.sherpa details div.datavals {\n",
       "    display: grid;\n",
       "    grid-template-columns: 1fr 3fr;\n",
       "    column-gap: 0.5em;\n",
       "}\n",
       "\n",
       "div.sherpa div.dataname {\n",
       "    font-weight: bold;\n",
       "    border-right: 1px solid var(--sherpa-border-color);\n",
       "}\n",
       "\n",
       "div.sherpa div.dataval { }\n",
       "\n",
       "div.sherpa div.datavals div:nth-child(4n + 1) ,\n",
       "div.sherpa div.datavals div:nth-child(4n + 2) {\n",
       "    background: var(--sherpa-background-color-row-odd);\n",
       "}\n",
       "\n",
       "div.sherpa table.model tbody {\n",
       "    border-bottom: 1px solid var(--sherpa-border-color);\n",
       "}\n",
       "\n",
       "div.sherpa table.model tr.block {\n",
       "    border-top: 1px solid var(--sherpa-border-color);\n",
       "}\n",
       "\n",
       "div.sherpa table.model th.model-odd ,\n",
       "div.sherpa table.model th.model-even {\n",
       "    border-right: 1px solid var(--sherpa-border-color);\n",
       "}\n",
       "\n",
       "div.sherpa table.model th.model-odd {\n",
       "    background: var(--sherpa-background-color-dark1);\n",
       "}\n",
       "\n",
       "div.sherpa table.model th.model-even {\n",
       "    background: var(--sherpa-background-color-dark2);\n",
       "}\n",
       "\n",
       "div.sherpa .failed {\n",
       "    background: orange;\n",
       "    font-size: large;\n",
       "    padding: 1em;\n",
       "}\n",
       "</style><div class=\"sherpa-text-fallback\">&lt;sherpa.plot.ModelPlot object at 0x16e922950&gt;</div><div hidden class=\"sherpa\"><details open><summary>ModelPlot (7)</summary><div class=\"datavals\"><div class=\"dataname\">x</div><div class=\"dataval\">[-7.5  0.   8.5 14.5 18.5 25.  43.  58. ]</div><div class=\"dataname\">xerr</div><div class=\"dataval\">[ 2.5  5.   3.5  2.5  1.5  5.  13.   2. ]</div><div class=\"dataname\">y</div><div class=\"dataval\">[ 42.994106  52.100054  15.812519   4.707917   1.361247   4.604845 128.554211\n",
       "  46.865098]</div><div class=\"dataname\">yerr</div><div class=\"dataval\">None</div><div class=\"dataname\">title</div><div class=\"dataval\">Model</div><div class=\"dataname\">xlabel</div><div class=\"dataval\">x</div><div class=\"dataname\">ylabel</div><div class=\"dataval\">y</div></div></details></div>"
      ],
      "text/plain": [
       "<sherpa.plot.FitPlot at 0x16ebaa9d0>"
      ]
     },
     "execution_count": 36,
     "metadata": {},
     "output_type": "execute_result"
    }
   ],
   "source": [
    "fplot"
   ]
  },
  {
   "cell_type": "code",
   "execution_count": 37,
   "metadata": {},
   "outputs": [
    {
     "data": {
      "text/plain": [
       "1.000114251448508"
      ]
     },
     "execution_count": 37,
     "metadata": {},
     "output_type": "execute_result"
    }
   ],
   "source": [
    "1.961205974015885/1.96098192899"
   ]
  },
  {
   "cell_type": "code",
   "execution_count": 38,
   "metadata": {},
   "outputs": [
    {
     "data": {
      "text/html": [
       "<style>/*\n",
       "Copyright (C) 2020  Smithsonian Astrophysical Observatory\n",
       "\n",
       "\n",
       " This program is free software; you can redistribute it and/or modify\n",
       " it under the terms of the GNU General Public License as published by\n",
       " the Free Software Foundation; either version 3 of the License, or\n",
       " (at your option) any later version.\n",
       "\n",
       " This program is distributed in the hope that it will be useful,\n",
       " but WITHOUT ANY WARRANTY; without even the implied warranty of\n",
       " MERCHANTABILITY or FITNESS FOR A PARTICULAR PURPOSE.  See the\n",
       " GNU General Public License for more details.\n",
       "\n",
       " You should have received a copy of the GNU General Public License along\n",
       " with this program; if not, write to the Free Software Foundation, Inc.,\n",
       " 51 Franklin Street, Fifth Floor, Boston, MA 02110-1301 USA.\n",
       "\n",
       "*/\n",
       "\n",
       ":root {\n",
       "  --sherpa-border-color: var(--jp-border-color2, #e0e0e0);\n",
       "  --sherpa-background-color: var(--jp-layout-color0, white);\n",
       "  --sherpa-background-color-row-even: var(--jp-layout-color1, white);\n",
       "  --sherpa-background-color-row-odd: var(--jp-layout-color2, #eeeeee);\n",
       "\n",
       "  /* https://medium.com/ge-design/iot-cool-gray-is-a-great-background-color-for-data-visualization-ebf18c318418 */\n",
       "  --sherpa-background-color-dark1: #EBEFF2;\n",
       "  --sherpa-background-color-dark2: #D8E0E5;\n",
       "}\n",
       "\n",
       "div.sherpa-text-fallback {\n",
       "    display: none;\n",
       "}\n",
       "\n",
       "div.sherpa {\n",
       "    display: block;\n",
       "}\n",
       "\n",
       "div.sherpa details summary {\n",
       "    display: list-item;  /* needed for notebook, not lab */\n",
       "    font-size: larger;\n",
       "}\n",
       "\n",
       "div.sherpa details div.datavals {\n",
       "    display: grid;\n",
       "    grid-template-columns: 1fr 3fr;\n",
       "    column-gap: 0.5em;\n",
       "}\n",
       "\n",
       "div.sherpa div.dataname {\n",
       "    font-weight: bold;\n",
       "    border-right: 1px solid var(--sherpa-border-color);\n",
       "}\n",
       "\n",
       "div.sherpa div.dataval { }\n",
       "\n",
       "div.sherpa div.datavals div:nth-child(4n + 1) ,\n",
       "div.sherpa div.datavals div:nth-child(4n + 2) {\n",
       "    background: var(--sherpa-background-color-row-odd);\n",
       "}\n",
       "\n",
       "div.sherpa table.model tbody {\n",
       "    border-bottom: 1px solid var(--sherpa-border-color);\n",
       "}\n",
       "\n",
       "div.sherpa table.model tr.block {\n",
       "    border-top: 1px solid var(--sherpa-border-color);\n",
       "}\n",
       "\n",
       "div.sherpa table.model th.model-odd ,\n",
       "div.sherpa table.model th.model-even {\n",
       "    border-right: 1px solid var(--sherpa-border-color);\n",
       "}\n",
       "\n",
       "div.sherpa table.model th.model-odd {\n",
       "    background: var(--sherpa-background-color-dark1);\n",
       "}\n",
       "\n",
       "div.sherpa table.model th.model-even {\n",
       "    background: var(--sherpa-background-color-dark2);\n",
       "}\n",
       "\n",
       "div.sherpa .failed {\n",
       "    background: orange;\n",
       "    font-size: large;\n",
       "    padding: 1em;\n",
       "}\n",
       "</style><div class=\"sherpa-text-fallback\">&lt;Data1DInt data set instance &#x27;example histogram&#x27;&gt;</div><div hidden class=\"sherpa\"><details open><summary>Data1DInt Summary (6)</summary><div class=\"datavals\"><div class=\"dataname\">Identifier</div><div class=\"dataval\">example histogram</div><div class=\"dataname\">Number of bins</div><div class=\"dataval\">8</div><div class=\"dataname\">Using</div><div class=\"dataval\">-10.0000-60.0000 x with 8 bins</div><div class=\"dataname\">XLO</div><div class=\"dataval\">[-10  -5   5  12  17  20  30  56]</div><div class=\"dataname\">XHI</div><div class=\"dataval\">[-5  5 12 17 20 30 56 60]</div><div class=\"dataname\">Y</div><div class=\"dataval\">[ 28  62  17   4   2   4 125  55]</div></div></details></div>"
      ],
      "text/plain": [
       "<Data1DInt data set instance 'example histogram'>"
      ]
     },
     "execution_count": 38,
     "metadata": {},
     "output_type": "execute_result"
    }
   ],
   "source": [
    "d"
   ]
  },
  {
   "cell_type": "code",
   "execution_count": 39,
   "metadata": {},
   "outputs": [],
   "source": [
    "from sherpa.plot import backend"
   ]
  },
  {
   "cell_type": "code",
   "execution_count": 43,
   "metadata": {},
   "outputs": [
    {
     "data": {
      "text/plain": [
       "<sherpa.plot.pylab_backend.PylabBackend at 0x16ebcfe10>"
      ]
     },
     "execution_count": 43,
     "metadata": {},
     "output_type": "execute_result"
    }
   ],
   "source": [
    "set_backend('pylab')\n",
    "import sherpa.plot as shplot\n",
    "shplot.backend"
   ]
  },
  {
   "cell_type": "code",
   "execution_count": 67,
   "metadata": {},
   "outputs": [],
   "source": [
    "pl = (d, {'color': 'r'})\n",
    "col = [pl]\n",
    "row = [col]\n",
    "\n",
    "ip = [row]\n",
    "\n",
    "# For simplification: If we get a tuple, we add the outer brackets automatically?\n",
    "# How do we encode shared axes?"
   ]
  },
  {
   "cell_type": "code",
   "execution_count": 73,
   "metadata": {},
   "outputs": [],
   "source": [
    "d.set_ylabel('y [units]')"
   ]
  },
  {
   "cell_type": "code",
   "execution_count": 74,
   "metadata": {},
   "outputs": [
    {
     "data": {
      "text/plain": [
       "[[[(<Data1DInt data set instance 'example histogram'>, {'color': 'r'})]]]"
      ]
     },
     "execution_count": 74,
     "metadata": {},
     "output_type": "execute_result"
    }
   ],
   "source": [
    "ip"
   ]
  },
  {
   "cell_type": "code",
   "execution_count": 75,
   "metadata": {},
   "outputs": [],
   "source": [
    "from sherpa.data import Data1D, Data1DInt, Data2D, Data2DInt\n",
    "def display_plot(data, **kwargs):\n",
    "   match data:\n",
    "       case Data1D():\n",
    "           b.plot(data.x, data.y, xlabel=data.get_xlabel(), ylabel=data.get_ylabel(), **kwargs)\n",
    "       case Data1DInt():\n",
    "           b.histo(data.xlo, data.xhi, data.y, xlabel=data.get_xlabel(), ylabel=data.get_ylabel(), **kwargs)\n",
    "       case _:\n",
    "           raise TypeError(f\"Unsupported data type: {type(data)}\")\n"
   ]
  },
  {
   "cell_type": "code",
   "execution_count": 76,
   "metadata": {},
   "outputs": [
    {
     "data": {
      "image/png": "[encoded data removed]",
      "text/plain": [
       "<Figure size 640x480 with 1 Axes>"
      ]
     },
     "metadata": {},
     "output_type": "display_data"
    }
   ],
   "source": [
    "b = shplot.backend\n",
    "\n",
    "# ip : intermediate plot representation - rename to better name\n",
    "global_pref = {'top': 0, 'ratio': 2}\n",
    "\n",
    "b.clear_window()\n",
    "for irow, row in enumerate(ip):\n",
    "    for icol, col in enumerate(row):\n",
    "        # skip if None - what is all are None? Check? Empty plot? Leave ot backend?\n",
    "        #b.set_jointplot(irow, icol, len(ip), len(row), create=True,\n",
    "        #              top=global_pref.get('top', 0), ratio=global_pref.get('ratio', 2))\n",
    "        b.set_subplot(irow, icol, len(ip), len(row), clearaxes=False)\n",
    "        for ilayer, layer in enumerate(col):\n",
    "            display_plot(layer[0], overplot=ilayer > 0, **layer[1])"
   ]
  },
  {
   "cell_type": "code",
   "execution_count": 72,
   "metadata": {},
   "outputs": [
    {
     "data": {
      "text/plain": [
       "'x'"
      ]
     },
     "execution_count": 72,
     "metadata": {},
     "output_type": "execute_result"
    }
   ],
   "source": [
    "d.get_xlabel()"
   ]
  },
  {
   "cell_type": "code",
   "execution_count": 77,
   "metadata": {},
   "outputs": [
    {
     "data": {
      "text/plain": [
       "(array([-7.5,  0. ,  8.5, 14.5, 18.5, 25. , 43. , 58. ]),\n",
       " array([ 28,  62,  17,   4,   2,   4, 125,  55]),\n",
       " None,\n",
       " array([ 2.5,  5. ,  3.5,  2.5,  1.5,  5. , 13. ,  2. ]),\n",
       " 'x',\n",
       " 'y [units]')"
      ]
     },
     "execution_count": 77,
     "metadata": {},
     "output_type": "execute_result"
    }
   ],
   "source": [
    "d.to_plot()"
   ]
  },
  {
   "cell_type": "code",
   "execution_count": 3,
   "metadata": {},
   "outputs": [
    {
     "data": {
      "text/plain": [
       "0.00011425144850796265"
      ]
     },
     "execution_count": 3,
     "metadata": {},
     "output_type": "execute_result"
    }
   ],
   "source": [
    "1.961205974015885/1.96098192899 - 1"
   ]
  },
  {
   "cell_type": "code",
   "execution_count": 2,
   "metadata": {},
   "outputs": [],
   "source": [
    "import numpy as np\n",
    "\n",
    "def make_range_sequence(npar: int,\n",
    "                        xmin: np.ndarray,\n",
    "                        xmax: np.ndarray,\n",
    "                        N: int\n",
    "                        ) -> list[list[float]]:\n",
    "    \"\"\"Create the grid ranges.\n",
    "\n",
    "    Parameters\n",
    "    ----------\n",
    "    npar\n",
    "       The number of parameters.\n",
    "    xmin, xmax\n",
    "       The minimum and maximum of each parameter.\n",
    "    N\n",
    "       The number of bins to create for each parameter.\n",
    "\n",
    "    Returns\n",
    "    -------\n",
    "    grid\n",
    "       Each element is a list of the parameter values at the\n",
    "       grid point. There will be pow(N, npar) elements.\n",
    "\n",
    "    Notes\n",
    "    -----\n",
    "\n",
    "    The ordering of the results (does the first parameter loop fastest\n",
    "    or slowest) is not guaranteed.\n",
    "\n",
    "    Examples\n",
    "    --------\n",
    "\n",
    "    Create the grid for 1 parameter, between 1 and 10,\n",
    "    with 4 elements:\n",
    "\n",
    "    >>> x1 = make_range_sequence(1, [1], [10], 4)\n",
    "    >>> len(x1)\n",
    "    4\n",
    "    >>> x1[0]\n",
    "    [np.float64(1.0)]\n",
    "    >>> x1[1]\n",
    "    [np.float64(4.0)]\n",
    "    >>> x1[3]\n",
    "    [np.float64(10.0)]\n",
    "\n",
    "    With two parameters, ranging 1 to 10 and 100 to 115,\n",
    "    N=4 created 16 pairs:\n",
    "\n",
    "    >>> x2 = make_range_sequence(2, [1, 100], [10, 115], 4)\n",
    "    >>> x2[0]\n",
    "    [np.float64(1.0), np.float64(100.0)]\n",
    "    >>> x2[1]\n",
    "    [np.float64(1.0), np.float64(105.0)]\n",
    "    >>> x2[2]\n",
    "    [np.float64(1.0), np.float64(110.0)]\n",
    "    >>> x2[3]\n",
    "    [np.float64(1.0), np.float64(115.0)]\n",
    "    >>> x2[4]\n",
    "    [np.float64(4.0), np.float64(100.0)]\n",
    "\n",
    "    \"\"\"\n",
    "\n",
    "    step = complex(N)\n",
    "    slices = [slice(x1, x2, step)\n",
    "              for x1, x2 in zip(xmin, xmax)]\n",
    "\n",
    "    mgrid = np.mgrid[slices]\n",
    "    mynfev = pow(N, npar)\n",
    "    grid = list(map(np.ravel, mgrid))\n",
    "    sequence = []\n",
    "    for index in range(mynfev):\n",
    "        tmp = []\n",
    "        for xx in range(npar):\n",
    "            tmp.append(grid[xx][index])\n",
    "        sequence.append(tmp)\n",
    "\n",
    "    return sequence"
   ]
  },
  {
   "cell_type": "code",
   "execution_count": 15,
   "metadata": {},
   "outputs": [
    {
     "data": {
      "text/plain": [
       "[[1.0, 5.0],\n",
       " [1.0, 5.333333333333333],\n",
       " [1.0, 5.666666666666667],\n",
       " [1.0, 6.0],\n",
       " [1.3333333333333333, 5.0],\n",
       " [1.3333333333333333, 5.333333333333333],\n",
       " [1.3333333333333333, 5.666666666666667],\n",
       " [1.3333333333333333, 6.0],\n",
       " [1.6666666666666665, 5.0],\n",
       " [1.6666666666666665, 5.333333333333333],\n",
       " [1.6666666666666665, 5.666666666666667],\n",
       " [1.6666666666666665, 6.0],\n",
       " [2.0, 5.0],\n",
       " [2.0, 5.333333333333333],\n",
       " [2.0, 5.666666666666667],\n",
       " [2.0, 6.0]]"
      ]
     },
     "execution_count": 15,
     "metadata": {},
     "output_type": "execute_result"
    }
   ],
   "source": [
    "make_range_sequence(2, [1, 5], [2, 6], 4)"
   ]
  },
  {
   "cell_type": "code",
   "execution_count": 4,
   "metadata": {},
   "outputs": [
    {
     "data": {
      "text/plain": [
       "(4+0j)"
      ]
     },
     "execution_count": 4,
     "metadata": {},
     "output_type": "execute_result"
    }
   ],
   "source": [
    "complex(4)"
   ]
  },
  {
   "cell_type": "code",
   "execution_count": 38,
   "metadata": {},
   "outputs": [
    {
     "name": "stdout",
     "output_type": "stream",
     "text": [
      "[1. 5.]\n",
      "[1.         5.33333333]\n",
      "[1.         5.66666667]\n",
      "[1. 6.]\n",
      "[1.33333333 5.        ]\n",
      "[1.33333333 5.33333333]\n",
      "[1.33333333 5.66666667]\n",
      "[1.33333333 6.        ]\n",
      "[1.66666667 5.        ]\n",
      "[1.66666667 5.33333333]\n",
      "[1.66666667 5.66666667]\n",
      "[1.66666667 6.        ]\n",
      "[2. 5.]\n",
      "[2.         5.33333333]\n",
      "[2.         5.66666667]\n",
      "[2. 6.]\n"
     ]
    }
   ],
   "source": [
    "lin = np.linspace([1, 5], [2, 6], 4)\n",
    "sequence = np.array(np.meshgrid(*lin.T)).T.reshape(-1, 2)\n",
    "\n",
    "for s in sequence:\n",
    "    print(s)\n"
   ]
  },
  {
   "cell_type": "code",
   "execution_count": 14,
   "metadata": {},
   "outputs": [
    {
     "data": {
      "text/plain": [
       "[array([1.        , 5.        , 1.33333333, 5.33333333, 1.66666667,\n",
       "        5.66666667, 2.        , 6.        ])]"
      ]
     },
     "execution_count": 14,
     "metadata": {},
     "output_type": "execute_result"
    }
   ],
   "source": [
    "a = np.meshgrid(np.linspace([1, 5], [2, 6], 4))\n",
    "a"
   ]
  },
  {
   "cell_type": "code",
   "execution_count": 40,
   "metadata": {},
   "outputs": [
    {
     "data": {
      "text/plain": [
       "(array([0, 1, 3]),)"
      ]
     },
     "execution_count": 40,
     "metadata": {},
     "output_type": "execute_result"
    }
   ],
   "source": [
    "pars = [1,2,3,4]\n",
    "idx = 2\n",
    "\n",
    "keep_pars = np.ones_like(pars)\n",
    "keep_pars[idx] = 0\n",
    "keep_idx = np.where(keep_pars)\n",
    "\n",
    "keep_idx"
   ]
  },
  {
   "cell_type": "code",
   "execution_count": 44,
   "metadata": {},
   "outputs": [
    {
     "data": {
      "text/plain": [
       "array([0, 1, 3])"
      ]
     },
     "execution_count": 44,
     "metadata": {},
     "output_type": "execute_result"
    }
   ],
   "source": [
    "np.delete(np.arange(len(pars)), idx)"
   ]
  },
  {
   "cell_type": "code",
   "execution_count": 45,
   "metadata": {},
   "outputs": [
    {
     "data": {
      "text/plain": [
       "array([ True,  True, False,  True])"
      ]
     },
     "execution_count": 45,
     "metadata": {},
     "output_type": "execute_result"
    }
   ],
   "source": [
    "~np.isin(np.arange(len(pars)), idx)"
   ]
  },
  {
   "cell_type": "code",
   "execution_count": 46,
   "metadata": {},
   "outputs": [],
   "source": [
    "from sherpa import data, models, stats, fit, plot\n",
    "g1 = models.Gauss1D('g1')\n",
    "g2 = models.Gauss1D('g2')\n",
    "mdl = g1 + g2"
   ]
  },
  {
   "cell_type": "code",
   "execution_count": 51,
   "metadata": {},
   "outputs": [
    {
     "data": {
      "text/plain": [
       "numpy.float64"
      ]
     },
     "execution_count": 51,
     "metadata": {},
     "output_type": "execute_result"
    }
   ],
   "source": [
    "type(mdl.thawedpars[4])"
   ]
  },
  {
   "cell_type": "code",
   "execution_count": 52,
   "metadata": {},
   "outputs": [
    {
     "data": {
      "text/plain": [
       "{<Parameter 'fwhm' of model 'g1'>: 0,\n",
       " <Parameter 'pos' of model 'g1'>: 1,\n",
       " <Parameter 'ampl' of model 'g1'>: 2,\n",
       " <Parameter 'fwhm' of model 'g2'>: 3,\n",
       " <Parameter 'pos' of model 'g2'>: 4,\n",
       " <Parameter 'ampl' of model 'g2'>: 5}"
      ]
     },
     "execution_count": 52,
     "metadata": {},
     "output_type": "execute_result"
    }
   ],
   "source": [
    "dict(map(reversed,enumerate(mdl.get_thawed_pars())))\n"
   ]
  },
  {
   "cell_type": "code",
   "execution_count": 53,
   "metadata": {},
   "outputs": [
    {
     "data": {
      "text/plain": [
       "[<Parameter 'fwhm' of model 'g1'>,\n",
       " <Parameter 'pos' of model 'g1'>,\n",
       " <Parameter 'ampl' of model 'g1'>,\n",
       " <Parameter 'fwhm' of model 'g2'>,\n",
       " <Parameter 'pos' of model 'g2'>,\n",
       " <Parameter 'ampl' of model 'g2'>]"
      ]
     },
     "execution_count": 53,
     "metadata": {},
     "output_type": "execute_result"
    }
   ],
   "source": [
    "mdl.get_thawed_pars()"
   ]
  },
  {
   "cell_type": "code",
   "execution_count": 57,
   "metadata": {},
   "outputs": [
    {
     "data": {
      "text/plain": [
       "{<Parameter 'fwhm' of model 'g1'>: 0,\n",
       " <Parameter 'pos' of model 'g1'>: 1,\n",
       " <Parameter 'ampl' of model 'g1'>: 2,\n",
       " <Parameter 'fwhm' of model 'g2'>: 3,\n",
       " <Parameter 'pos' of model 'g2'>: 4,\n",
       " <Parameter 'ampl' of model 'g2'>: 5}"
      ]
     },
     "execution_count": 57,
     "metadata": {},
     "output_type": "execute_result"
    }
   ],
   "source": [
    "from itertools import count\n",
    "{p: i for p, i in zip(mdl.get_thawed_pars(), count())}\n"
   ]
  },
  {
   "cell_type": "code",
   "execution_count": 59,
   "metadata": {},
   "outputs": [
    {
     "data": {
      "text/plain": [
       "'1.15.3'"
      ]
     },
     "execution_count": 59,
     "metadata": {},
     "output_type": "execute_result"
    }
   ],
   "source": [
    "import scipy\n",
    "scipy.__version__"
   ]
  },
  {
   "cell_type": "code",
   "execution_count": 62,
   "metadata": {},
   "outputs": [
    {
     "ename": "TypeError",
     "evalue": "basinhopping() got multiple values for argument now known as `rng`. Specify one of `rng` or `seed`.",
     "output_type": "error",
     "traceback": [
      "\u001b[31m---------------------------------------------------------------------------\u001b[39m",
      "\u001b[31mTypeError\u001b[39m                                 Traceback (most recent call last)",
      "\u001b[36mCell\u001b[39m\u001b[36m \u001b[39m\u001b[32mIn[62]\u001b[39m\u001b[32m, line 3\u001b[39m\n\u001b[32m      1\u001b[39m func = \u001b[38;5;28;01mlambda\u001b[39;00m x: -(x-\u001b[32m2.2\u001b[39m)**\u001b[32m2\u001b[39m\n\u001b[32m      2\u001b[39m x0 = [\u001b[32m0\u001b[39m]\n\u001b[32m----> \u001b[39m\u001b[32m3\u001b[39m \u001b[43mscipy\u001b[49m\u001b[43m.\u001b[49m\u001b[43moptimize\u001b[49m\u001b[43m.\u001b[49m\u001b[43mbasinhopping\u001b[49m\u001b[43m(\u001b[49m\u001b[43mfunc\u001b[49m\u001b[43m,\u001b[49m\u001b[43m \u001b[49m\u001b[43mx0\u001b[49m\u001b[43m,\u001b[49m\u001b[43m \u001b[49m\u001b[43mseed\u001b[49m\u001b[43m=\u001b[49m\u001b[38;5;28;43;01mNone\u001b[39;49;00m\u001b[43m,\u001b[49m\u001b[43m \u001b[49m\u001b[43mrng\u001b[49m\u001b[43m=\u001b[49m\u001b[38;5;28;43;01mNone\u001b[39;49;00m\u001b[43m)\u001b[49m\n",
      "\u001b[36mFile \u001b[39m\u001b[32m~/miniforge3/envs/sherpaciao/lib/python3.11/site-packages/scipy/_lib/_util.py:381\u001b[39m, in \u001b[36mwrapper\u001b[39m\u001b[34m(*args, **kwargs)\u001b[39m\n\u001b[32m    380\u001b[39m \u001b[38;5;28;01mdef\u001b[39;00m\u001b[38;5;250m \u001b[39m\u001b[34mcheck_random_state\u001b[39m(seed):\n\u001b[32m--> \u001b[39m\u001b[32m381\u001b[39m \u001b[38;5;250m    \u001b[39m\u001b[33;03m\"\"\"Turn `seed` into a `np.random.RandomState` instance.\u001b[39;00m\n\u001b[32m    382\u001b[39m \n\u001b[32m    383\u001b[39m \u001b[33;03m    Parameters\u001b[39;00m\n\u001b[32m    384\u001b[39m \u001b[33;03m    ----------\u001b[39;00m\n\u001b[32m    385\u001b[39m \u001b[33;03m    seed : {None, int, `numpy.random.Generator`, `numpy.random.RandomState`}, optional\u001b[39;00m\n\u001b[32m    386\u001b[39m \u001b[33;03m        If `seed` is None (or `np.random`), the `numpy.random.RandomState`\u001b[39;00m\n\u001b[32m    387\u001b[39m \u001b[33;03m        singleton is used.\u001b[39;00m\n\u001b[32m    388\u001b[39m \u001b[33;03m        If `seed` is an int, a new ``RandomState`` instance is used,\u001b[39;00m\n\u001b[32m    389\u001b[39m \u001b[33;03m        seeded with `seed`.\u001b[39;00m\n\u001b[32m    390\u001b[39m \u001b[33;03m        If `seed` is already a ``Generator`` or ``RandomState`` instance then\u001b[39;00m\n\u001b[32m    391\u001b[39m \u001b[33;03m        that instance is used.\u001b[39;00m\n\u001b[32m    392\u001b[39m \n\u001b[32m    393\u001b[39m \u001b[33;03m    Returns\u001b[39;00m\n\u001b[32m    394\u001b[39m \u001b[33;03m    -------\u001b[39;00m\n\u001b[32m    395\u001b[39m \u001b[33;03m    seed : {`numpy.random.Generator`, `numpy.random.RandomState`}\u001b[39;00m\n\u001b[32m    396\u001b[39m \u001b[33;03m        Random number generator.\u001b[39;00m\n\u001b[32m    397\u001b[39m \n\u001b[32m    398\u001b[39m \u001b[33;03m    \"\"\"\u001b[39;00m\n\u001b[32m    399\u001b[39m     \u001b[38;5;28;01mif\u001b[39;00m seed \u001b[38;5;129;01mis\u001b[39;00m \u001b[38;5;28;01mNone\u001b[39;00m \u001b[38;5;129;01mor\u001b[39;00m seed \u001b[38;5;129;01mis\u001b[39;00m np.random:\n\u001b[32m    400\u001b[39m         \u001b[38;5;28;01mreturn\u001b[39;00m np.random.mtrand._rand\n",
      "\u001b[31mTypeError\u001b[39m: basinhopping() got multiple values for argument now known as `rng`. Specify one of `rng` or `seed`."
     ]
    }
   ],
   "source": [
    "func = lambda x: -(x-2.2)**2\n",
    "x0 = [0]\n",
    "scipy.optimize.basinhopping(func, x0, seed=None, rng=None)"
   ]
  },
  {
   "cell_type": "code",
   "execution_count": 63,
   "metadata": {},
   "outputs": [
    {
     "name": "stdout",
     "output_type": "stream",
     "text": [
      "Method                = levmar\n",
      "Statistic             = leastsq\n",
      "Initial fit statistic = 190\n",
      "Final fit statistic   = 46 at function evaluation 4\n",
      "Data points           = 4\n",
      "Degrees of freedom    = 3\n",
      "Change in statistic   = 144\n",
      "   const1d.c0     7            +/- 0.5         \n"
     ]
    }
   ],
   "source": [
    "        >>> from sherpa.data import Data1D\n",
    "        >>> from sherpa.models.basic import Const1D\n",
    "        >>> from sherpa.stats import LeastSq\n",
    "        >>> from sherpa.fit import Fit\n",
    "        >>> d = Data1D(\"x\", [-3, 5, 17, 22], [12, 3, 8, 5])\n",
    "        >>> m = Const1D()\n",
    "        >>> s = LeastSq()\n",
    "        >>> f = Fit(d, m, stat=s)\n",
    "        >>> out = f.fit()\n",
    "        >>> if not out.succeeded: print(\"Fit failed\")\n",
    "        >>> print(out.format())"
   ]
  },
  {
   "cell_type": "code",
   "execution_count": 64,
   "metadata": {},
   "outputs": [
    {
     "name": "stdout",
     "output_type": "stream",
     "text": [
      "0 1.900000e+02 1.0000\n",
      "1 1.900000e+02 1.0000\n",
      "2 1.899834e+02 1.0003\n",
      "3 4.600000e+01 7.0000\n",
      "4 4.600002e+01 7.0024\n",
      "5 4.600000e+01 7.0000\n"
     ]
    }
   ],
   "source": [
    "        >>> m.reset()\n",
    "        >>> out = f.fit(record_steps=True)\n",
    "        >>> for row in out.record_steps:\n",
    "        ...     print(f\"{row['nfev']} {row['statistic']:8.6e} {row['const1d.c0']:6.4f}\")\n",
    " "
   ]
  },
  {
   "cell_type": "code",
   "execution_count": 65,
   "metadata": {},
   "outputs": [
    {
     "data": {
      "text/plain": [
       "array([(0, 190.        , 1.        ), (1, 190.        , 1.        ),\n",
       "       (2, 189.98342766, 1.00034527), (3,  46.        , 7.        ),\n",
       "       (4,  46.00002337, 7.00241687), (5,  46.        , 7.        )],\n",
       "      dtype=[('nfev', '<i8'), ('statistic', '<f8'), ('const1d.c0', '<f8')])"
      ]
     },
     "execution_count": 65,
     "metadata": {},
     "output_type": "execute_result"
    }
   ],
   "source": [
    "out.record_steps"
   ]
  },
  {
   "cell_type": "code",
   "execution_count": 66,
   "metadata": {},
   "outputs": [
    {
     "data": {
      "text/plain": [
       "numpy.ndarray"
      ]
     },
     "execution_count": 66,
     "metadata": {},
     "output_type": "execute_result"
    }
   ],
   "source": [
    "type(out.record_steps)"
   ]
  },
  {
   "cell_type": "code",
   "execution_count": 1,
   "metadata": {},
   "outputs": [],
   "source": [
    "   >>> import numpy as np\n",
    "   >>> from sherpa.models.basic import Polynom1D\n",
    "\n",
    "   >>> np.random.seed(235)\n",
    "\n",
    "   >>> x = np.arange(10, 100, 12)\n",
    "   >>> mdl = Polynom1D('mdl')\n",
    "   >>> mdl.offset = 35\n",
    "   >>> mdl.c1 = 0.5\n",
    "   >>> mdl.c2 = 0.12\n",
    "\n",
    "   >>> ymdl = mdl(x)\n",
    "\n",
    "   >>> from sherpa.utils import poisson_noise\n",
    "   >>> ypoisson = poisson_noise(ymdl)\n",
    "\n",
    "   >>> from numpy.random import standard_normal, normal\n",
    "   >>> yconst = ymdl + standard_normal(ymdl.shape) * 10\n",
    "   >>> ydata = ymdl + normal(scale=np.sqrt(ymdl))"
   ]
  },
  {
   "cell_type": "code",
   "execution_count": 5,
   "metadata": {},
   "outputs": [],
   "source": [
    "data_dir = '/Users/guenther/code/sherpa/sherpa-test-data/sherpatest/'"
   ]
  },
  {
   "cell_type": "code",
   "execution_count": 6,
   "metadata": {},
   "outputs": [],
   "source": [
    "  >>> from sherpa.astro.data import DataPHA\n",
    "  >>> from sherpa.astro.io import read_arf, read_rmf, read_pha\n",
    "  >>> data = DataPHA(name='any', channel=None, counts=None, exposure=10000.)\n",
    "  >>> data.set_arf(read_arf(data_dir + '9774.arf'))\n",
    "  >>> data.set_rmf(read_rmf(data_dir + '9774.rmf'))"
   ]
  },
  {
   "cell_type": "code",
   "execution_count": 7,
   "metadata": {},
   "outputs": [],
   "source": [
    "  >>> from sherpa.models.basic import PowLaw1D, Gauss1D\n",
    "  >>> pl = PowLaw1D()\n",
    "  >>> line = Gauss1D()\n",
    "  >>> pl.gamma = 1.8\n",
    "  >>> pl.ampl = 2e-05\n",
    "  >>> line.pos = 6.7\n",
    "  >>> line.ampl = .0003\n",
    "  >>> line.fwhm = .1\n",
    "  >>> srcmdl = pl + line"
   ]
  },
  {
   "cell_type": "code",
   "execution_count": null,
   "metadata": {},
   "outputs": [],
   "source": [
    "from sherpa.astro.fake import fake_pha"
   ]
  },
  {
   "cell_type": "code",
   "execution_count": 17,
   "metadata": {},
   "outputs": [
    {
     "ename": "ValueError",
     "evalue": "lam < 0 or lam is NaN",
     "output_type": "error",
     "traceback": [
      "\u001b[31m---------------------------------------------------------------------------\u001b[39m",
      "\u001b[31mValueError\u001b[39m                                Traceback (most recent call last)",
      "\u001b[36mCell\u001b[39m\u001b[36m \u001b[39m\u001b[32mIn[17]\u001b[39m\u001b[32m, line 1\u001b[39m\n\u001b[32m----> \u001b[39m\u001b[32m1\u001b[39m \u001b[43mfake_pha\u001b[49m\u001b[43m(\u001b[49m\u001b[43mdata\u001b[49m\u001b[43m,\u001b[49m\u001b[43m \u001b[49m\u001b[43msrcmdl\u001b[49m\u001b[43m)\u001b[49m\n",
      "\u001b[36mFile \u001b[39m\u001b[32m~/code/sherpa/sherpa/astro/fake.py:236\u001b[39m, in \u001b[36mfake_pha\u001b[39m\u001b[34m(data, model, is_source, pileup_model, add_bkgs, bkg_models, id, method, rng, include_bkg_data)\u001b[39m\n\u001b[32m    233\u001b[39m         scale = data.get_background_scale(bkg_id, units=\u001b[33m\"\u001b[39m\u001b[33mcounts\u001b[39m\u001b[33m\"\u001b[39m)\n\u001b[32m    234\u001b[39m         model_prediction += scale * cts\n\u001b[32m--> \u001b[39m\u001b[32m236\u001b[39m data.counts = \u001b[43mmethod\u001b[49m\u001b[43m(\u001b[49m\u001b[43mmodel_prediction\u001b[49m\u001b[43m,\u001b[49m\u001b[43m \u001b[49m\u001b[43mrng\u001b[49m\u001b[43m=\u001b[49m\u001b[43mrng\u001b[49m\u001b[43m)\u001b[49m\n",
      "\u001b[36mFile \u001b[39m\u001b[32m~/code/sherpa/sherpa/utils/random.py:120\u001b[39m, in \u001b[36mpoisson_noise\u001b[39m\u001b[34m(x, rng)\u001b[39m\n\u001b[32m    118\u001b[39m         x = \u001b[32m0.0\u001b[39m\n\u001b[32m    119\u001b[39m     \u001b[38;5;28;01melse\u001b[39;00m:\n\u001b[32m--> \u001b[39m\u001b[32m120\u001b[39m         x = \u001b[43msimulate\u001b[49m\u001b[43m(\u001b[49m\u001b[43mx\u001b[49m\u001b[43m)\u001b[49m\n\u001b[32m    122\u001b[39m     \u001b[38;5;28;01mreturn\u001b[39;00m SherpaFloat(x)\n\u001b[32m    124\u001b[39m x_out = np.zeros(x.shape, SherpaFloat)\n",
      "\u001b[36mFile \u001b[39m\u001b[32mnumpy/random/mtrand.pyx:3687\u001b[39m, in \u001b[36mnumpy.random.mtrand.RandomState.poisson\u001b[39m\u001b[34m()\u001b[39m\n",
      "\u001b[36mFile \u001b[39m\u001b[32mnumpy/random/_common.pyx:924\u001b[39m, in \u001b[36mnumpy.random._common.disc\u001b[39m\u001b[34m()\u001b[39m\n",
      "\u001b[36mFile \u001b[39m\u001b[32mnumpy/random/_common.pyx:461\u001b[39m, in \u001b[36mnumpy.random._common.check_constraint\u001b[39m\u001b[34m()\u001b[39m\n",
      "\u001b[31mValueError\u001b[39m: lam < 0 or lam is NaN"
     ]
    }
   ],
   "source": [
    "fake_pha(data, srcmdl)"
   ]
  },
  {
   "cell_type": "code",
   "execution_count": 12,
   "metadata": {},
   "outputs": [
    {
     "name": "stdout",
     "output_type": "stream",
     "text": [
      "> \u001b[32m/Users/guenther/code/sherpa/numpy/random/_common.pyx\u001b[39m(\u001b[92m461\u001b[39m)\u001b[36mnumpy.random._common.check_constraint\u001b[39m\u001b[34m()\u001b[39m\n",
      "\n",
      "> \u001b[32m/Users/guenther/code/sherpa/numpy/random/_common.pyx\u001b[39m(\u001b[92m924\u001b[39m)\u001b[36mnumpy.random._common.disc\u001b[39m\u001b[34m()\u001b[39m\n",
      "\n",
      "> \u001b[32m/Users/guenther/code/sherpa/numpy/random/mtrand.pyx\u001b[39m(\u001b[92m3687\u001b[39m)\u001b[36mnumpy.random.mtrand.RandomState.poisson\u001b[39m\u001b[34m()\u001b[39m\n",
      "\n",
      "> \u001b[32m/Users/guenther/code/sherpa/sherpa/utils/random.py\u001b[39m(\u001b[92m120\u001b[39m)\u001b[36mpoisson_noise\u001b[39m\u001b[34m()\u001b[39m\n",
      "\u001b[32m    118\u001b[39m             x = \u001b[32m0.0\u001b[39m\n",
      "\u001b[32m    119\u001b[39m         \u001b[38;5;28;01melse\u001b[39;00m:\n",
      "\u001b[32m--> 120\u001b[39m             x = simulate(x)\n",
      "\u001b[32m    121\u001b[39m \n",
      "\u001b[32m    122\u001b[39m         \u001b[38;5;28;01mreturn\u001b[39;00m SherpaFloat(x)\n",
      "\n",
      "> \u001b[32m/Users/guenther/code/sherpa/sherpa/astro/fake.py\u001b[39m(\u001b[92m236\u001b[39m)\u001b[36mfake_pha\u001b[39m\u001b[34m()\u001b[39m\n",
      "\u001b[32m    232\u001b[39m             cts = data.get_background(bkg_id).counts\n",
      "\u001b[32m    233\u001b[39m             scale = data.get_background_scale(bkg_id, units=\u001b[33m\"counts\"\u001b[39m)\n",
      "\u001b[32m    234\u001b[39m             model_prediction += scale * cts\n",
      "\u001b[32m    235\u001b[39m \n",
      "\u001b[32m--> 236\u001b[39m     data.counts = method(model_prediction, rng=rng)\n",
      "\n",
      "*** NameError: name 'x' is not defined\n",
      "> \u001b[32m/Users/guenther/code/sherpa/sherpa/utils/random.py\u001b[39m(\u001b[92m120\u001b[39m)\u001b[36mpoisson_noise\u001b[39m\u001b[34m()\u001b[39m\n",
      "\u001b[32m    118\u001b[39m             x = \u001b[32m0.0\u001b[39m\n",
      "\u001b[32m    119\u001b[39m         \u001b[38;5;28;01melse\u001b[39;00m:\n",
      "\u001b[32m--> 120\u001b[39m             x = simulate(x)\n",
      "\u001b[32m    121\u001b[39m \n",
      "\u001b[32m    122\u001b[39m         \u001b[38;5;28;01mreturn\u001b[39;00m SherpaFloat(x)\n",
      "\n",
      "np.float64(nan)\n",
      "x = np.float64(nan)\n",
      "rng = None\n",
      "x = np.float64(nan)\n",
      "rng = None\n",
      "x = np.float64(nan)\n",
      "rng = None\n",
      "> \u001b[32m/Users/guenther/code/sherpa/sherpa/astro/fake.py\u001b[39m(\u001b[92m236\u001b[39m)\u001b[36mfake_pha\u001b[39m\u001b[34m()\u001b[39m\n",
      "\u001b[32m    232\u001b[39m             cts = data.get_background(bkg_id).counts\n",
      "\u001b[32m    233\u001b[39m             scale = data.get_background_scale(bkg_id, units=\u001b[33m\"counts\"\u001b[39m)\n",
      "\u001b[32m    234\u001b[39m             model_prediction += scale * cts\n",
      "\u001b[32m    235\u001b[39m \n",
      "\u001b[32m--> 236\u001b[39m     data.counts = method(model_prediction, rng=rng)\n",
      "\n",
      "data = <DataPHA data set instance 'any'>\n",
      "model = <BinaryOpModel model instance 'powlaw1d + gauss1d'>\n",
      "is_source = None\n",
      "pileup_model = None\n",
      "add_bkgs = None\n",
      "bkg_models = None\n",
      "id = None\n",
      "method = <function poisson_noise at 0x117057920>\n",
      "rng = None\n",
      "include_bkg_data = False\n",
      "np.float64(nan)\n",
      "*** NameError: name 'scale' is not defined\n",
      "*** NameError: name 'cts' is not defined\n",
      "> \u001b[32m/var/folders/r7/f0qh27rn207bwwvt3s7v5gh40000gn/T/ipykernel_272/578830398.py\u001b[39m(\u001b[92m2\u001b[39m)\u001b[36m<module>\u001b[39m\u001b[34m()\u001b[39m\n",
      "\u001b[32m      1\u001b[39m \u001b[38;5;28;01mfrom\u001b[39;00m sherpa.astro.fake \u001b[38;5;28;01mimport\u001b[39;00m fake_pha\n",
      "\u001b[32m----> 2\u001b[39m fake_pha(data, srcmdl)\n",
      "\n",
      "*** NameError: name 'cts' is not defined\n",
      "> \u001b[32m/Users/guenther/code/sherpa/sherpa/astro/fake.py\u001b[39m(\u001b[92m236\u001b[39m)\u001b[36mfake_pha\u001b[39m\u001b[34m()\u001b[39m\n",
      "\u001b[32m    232\u001b[39m             cts = data.get_background(bkg_id).counts\n",
      "\u001b[32m    233\u001b[39m             scale = data.get_background_scale(bkg_id, units=\u001b[33m\"counts\"\u001b[39m)\n",
      "\u001b[32m    234\u001b[39m             model_prediction += scale * cts\n",
      "\u001b[32m    235\u001b[39m \n",
      "\u001b[32m--> 236\u001b[39m     data.counts = method(model_prediction, rng=rng)\n",
      "\n",
      "\u001b[92m    231\u001b[39m         \u001b[38;5;28;01mfor\u001b[39;00m bkg_id \u001b[38;5;28;01min\u001b[39;00m data.background_ids:\n",
      "\u001b[92m    232\u001b[39m             cts = data.get_background(bkg_id).counts\n",
      "\u001b[92m    233\u001b[39m             scale = data.get_background_scale(bkg_id, units=\u001b[33m\"counts\"\u001b[39m)\n",
      "\u001b[92m    234\u001b[39m             model_prediction += scale * cts\n",
      "\u001b[92m    235\u001b[39m \n",
      "\u001b[32m--> 236\u001b[39m     data.counts = method(model_prediction, rng=rng)\n",
      "\n"
     ]
    }
   ],
   "source": [
    "%debug"
   ]
  },
  {
   "cell_type": "code",
   "execution_count": 10,
   "metadata": {},
   "outputs": [
    {
     "data": {
      "text/html": [
       "<style>/*\n",
       "Copyright (C) 2020  Smithsonian Astrophysical Observatory\n",
       "\n",
       "\n",
       " This program is free software; you can redistribute it and/or modify\n",
       " it under the terms of the GNU General Public License as published by\n",
       " the Free Software Foundation; either version 3 of the License, or\n",
       " (at your option) any later version.\n",
       "\n",
       " This program is distributed in the hope that it will be useful,\n",
       " but WITHOUT ANY WARRANTY; without even the implied warranty of\n",
       " MERCHANTABILITY or FITNESS FOR A PARTICULAR PURPOSE.  See the\n",
       " GNU General Public License for more details.\n",
       "\n",
       " You should have received a copy of the GNU General Public License along\n",
       " with this program; if not, write to the Free Software Foundation, Inc.,\n",
       " 51 Franklin Street, Fifth Floor, Boston, MA 02110-1301 USA.\n",
       "\n",
       "*/\n",
       "\n",
       ":root {\n",
       "  --sherpa-border-color: var(--jp-border-color2, #e0e0e0);\n",
       "  --sherpa-background-color: var(--jp-layout-color0, white);\n",
       "  --sherpa-background-color-row-even: var(--jp-layout-color1, white);\n",
       "  --sherpa-background-color-row-odd: var(--jp-layout-color2, #eeeeee);\n",
       "\n",
       "  /* https://medium.com/ge-design/iot-cool-gray-is-a-great-background-color-for-data-visualization-ebf18c318418 */\n",
       "  --sherpa-background-color-dark1: #EBEFF2;\n",
       "  --sherpa-background-color-dark2: #D8E0E5;\n",
       "}\n",
       "\n",
       "div.sherpa-text-fallback {\n",
       "    display: none;\n",
       "}\n",
       "\n",
       "div.sherpa {\n",
       "    display: block;\n",
       "}\n",
       "\n",
       "div.sherpa details summary {\n",
       "    display: list-item;  /* needed for notebook, not lab */\n",
       "    font-size: larger;\n",
       "}\n",
       "\n",
       "div.sherpa details div.datavals {\n",
       "    display: grid;\n",
       "    grid-template-columns: 1fr 3fr;\n",
       "    column-gap: 0.5em;\n",
       "}\n",
       "\n",
       "div.sherpa div.dataname {\n",
       "    font-weight: bold;\n",
       "    border-right: 1px solid var(--sherpa-border-color);\n",
       "}\n",
       "\n",
       "div.sherpa div.dataval { }\n",
       "\n",
       "div.sherpa div.datavals div:nth-child(4n + 1) ,\n",
       "div.sherpa div.datavals div:nth-child(4n + 2) {\n",
       "    background: var(--sherpa-background-color-row-odd);\n",
       "}\n",
       "\n",
       "div.sherpa table.model tbody {\n",
       "    border-bottom: 1px solid var(--sherpa-border-color);\n",
       "}\n",
       "\n",
       "div.sherpa table.model tr.block {\n",
       "    border-top: 1px solid var(--sherpa-border-color);\n",
       "}\n",
       "\n",
       "div.sherpa table.model th.model-odd ,\n",
       "div.sherpa table.model th.model-even {\n",
       "    border-right: 1px solid var(--sherpa-border-color);\n",
       "}\n",
       "\n",
       "div.sherpa table.model th.model-odd {\n",
       "    background: var(--sherpa-background-color-dark1);\n",
       "}\n",
       "\n",
       "div.sherpa table.model th.model-even {\n",
       "    background: var(--sherpa-background-color-dark2);\n",
       "}\n",
       "\n",
       "div.sherpa .failed {\n",
       "    background: orange;\n",
       "    font-size: large;\n",
       "    padding: 1em;\n",
       "}\n",
       "</style><div class=\"sherpa-text-fallback\">&lt;BinaryOpModel model instance &#x27;powlaw1d + gauss1d&#x27;&gt;</div><div hidden class=\"sherpa\"><details open><summary>Model</summary><table class=\"model\"><caption>Expression: powlaw1d + gauss1d</caption><thead><tr><th>Component</th><th>Parameter</th><th>Thawed</th><th>Value</th><th>Min</th><th>Max</th><th>Units</th></tr></thead><tbody><tr><th class=\"model-odd\" scope=\"rowgroup\" rowspan=3>powlaw1d</th><td>gamma</td><td><input disabled type=\"checkbox\" checked></input></td><td>1.8</td><td>-10.0</td><td>10.0</td><td></td></tr><tr><td>ref</td><td><input disabled type=\"checkbox\"></input></td><td>1.0</td><td>-MAX</td><td>MAX</td><td></td></tr><tr><td>ampl</td><td><input disabled type=\"checkbox\" checked></input></td><td>2e-05</td><td>0.0</td><td>MAX</td><td></td></tr><tr class=\"block\"><th class=\"model-even\" scope=\"rowgroup\" rowspan=3>gauss1d</th><td>fwhm</td><td><input disabled type=\"checkbox\" checked></input></td><td>0.1</td><td>TINY</td><td>MAX</td><td></td></tr><tr><td>pos</td><td><input disabled type=\"checkbox\" checked></input></td><td>6.7</td><td>-MAX</td><td>MAX</td><td></td></tr><tr><td>ampl</td><td><input disabled type=\"checkbox\" checked></input></td><td>0.0003</td><td>-MAX</td><td>MAX</td><td></td></tr></tbody></table></details></div>"
      ],
      "text/plain": [
       "<BinaryOpModel model instance 'powlaw1d + gauss1d'>"
      ]
     },
     "execution_count": 10,
     "metadata": {},
     "output_type": "execute_result"
    }
   ],
   "source": [
    "srcmdl"
   ]
  },
  {
   "cell_type": "code",
   "execution_count": null,
   "metadata": {},
   "outputs": [],
   "source": []
  }
 ],
 "metadata": {
  "kernelspec": {
   "display_name": "sherpaciao",
   "language": "python",
   "name": "python3"
  },
  "language_info": {
   "codemirror_mode": {
    "name": "ipython",
    "version": 3
   },
   "file_extension": ".py",
   "mimetype": "text/x-python",
   "name": "python",
   "nbconvert_exporter": "python",
   "pygments_lexer": "ipython3",
   "version": "3.11.9"
  }
 },
 "nbformat": 4,
 "nbformat_minor": 2
}
